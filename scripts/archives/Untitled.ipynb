{
 "cells": [
  {
   "cell_type": "code",
   "execution_count": 13,
   "metadata": {},
   "outputs": [],
   "source": [
    "import pandas as pd\n",
    "from boruta import BorutaPy"
   ]
  },
  {
   "cell_type": "code",
   "execution_count": 3,
   "metadata": {},
   "outputs": [],
   "source": [
    "deg = pd.read_csv('deginfo_cml-targetamlrg.csv')"
   ]
  },
  {
   "cell_type": "code",
   "execution_count": 4,
   "metadata": {},
   "outputs": [
    {
     "data": {
      "text/html": [
       "<div>\n",
       "<style scoped>\n",
       "    .dataframe tbody tr th:only-of-type {\n",
       "        vertical-align: middle;\n",
       "    }\n",
       "\n",
       "    .dataframe tbody tr th {\n",
       "        vertical-align: top;\n",
       "    }\n",
       "\n",
       "    .dataframe thead th {\n",
       "        text-align: right;\n",
       "    }\n",
       "</style>\n",
       "<table border=\"1\" class=\"dataframe\">\n",
       "  <thead>\n",
       "    <tr style=\"text-align: right;\">\n",
       "      <th></th>\n",
       "      <th>Unnamed: 0</th>\n",
       "      <th>hgnc_id</th>\n",
       "      <th>hgnc_symbol</th>\n",
       "      <th>ensembl_gene_id</th>\n",
       "      <th>logFC</th>\n",
       "      <th>AveExpr</th>\n",
       "      <th>t</th>\n",
       "      <th>p.unadj</th>\n",
       "      <th>p.adj.bh</th>\n",
       "      <th>b</th>\n",
       "    </tr>\n",
       "  </thead>\n",
       "  <tbody>\n",
       "    <tr>\n",
       "      <th>0</th>\n",
       "      <td>ENSG00000129194.6</td>\n",
       "      <td>HGNC:11196</td>\n",
       "      <td>SOX15</td>\n",
       "      <td>ENSG00000129194</td>\n",
       "      <td>-2.389651</td>\n",
       "      <td>0.843840</td>\n",
       "      <td>-9.414718</td>\n",
       "      <td>2.719869e-15</td>\n",
       "      <td>4.744811e-11</td>\n",
       "      <td>24.350044</td>\n",
       "    </tr>\n",
       "    <tr>\n",
       "      <th>1</th>\n",
       "      <td>ENSG00000172236.15</td>\n",
       "      <td>HGNC:12019</td>\n",
       "      <td>TPSAB1</td>\n",
       "      <td>ENSG00000172236</td>\n",
       "      <td>-5.539698</td>\n",
       "      <td>3.649760</td>\n",
       "      <td>-9.263250</td>\n",
       "      <td>5.751633e-15</td>\n",
       "      <td>5.016861e-11</td>\n",
       "      <td>23.632143</td>\n",
       "    </tr>\n",
       "    <tr>\n",
       "      <th>2</th>\n",
       "      <td>ENSG00000196557.9</td>\n",
       "      <td>HGNC:1395</td>\n",
       "      <td>CACNA1H</td>\n",
       "      <td>ENSG00000196557</td>\n",
       "      <td>-4.169654</td>\n",
       "      <td>-1.405854</td>\n",
       "      <td>-9.002888</td>\n",
       "      <td>2.081576e-14</td>\n",
       "      <td>1.146424e-10</td>\n",
       "      <td>22.069479</td>\n",
       "    </tr>\n",
       "    <tr>\n",
       "      <th>3</th>\n",
       "      <td>ENSG00000163106.9</td>\n",
       "      <td>HGNC:17890</td>\n",
       "      <td>HPGDS</td>\n",
       "      <td>ENSG00000163106</td>\n",
       "      <td>-4.400151</td>\n",
       "      <td>0.806601</td>\n",
       "      <td>-8.919743</td>\n",
       "      <td>3.137562e-14</td>\n",
       "      <td>1.146424e-10</td>\n",
       "      <td>21.965357</td>\n",
       "    </tr>\n",
       "    <tr>\n",
       "      <th>4</th>\n",
       "      <td>ENSG00000134569.8</td>\n",
       "      <td>HGNC:6696</td>\n",
       "      <td>LRP4</td>\n",
       "      <td>ENSG00000134569</td>\n",
       "      <td>-3.483009</td>\n",
       "      <td>-1.075865</td>\n",
       "      <td>-8.910384</td>\n",
       "      <td>3.285823e-14</td>\n",
       "      <td>1.146424e-10</td>\n",
       "      <td>21.729648</td>\n",
       "    </tr>\n",
       "  </tbody>\n",
       "</table>\n",
       "</div>"
      ],
      "text/plain": [
       "           Unnamed: 0     hgnc_id hgnc_symbol  ensembl_gene_id     logFC  \\\n",
       "0   ENSG00000129194.6  HGNC:11196       SOX15  ENSG00000129194 -2.389651   \n",
       "1  ENSG00000172236.15  HGNC:12019      TPSAB1  ENSG00000172236 -5.539698   \n",
       "2   ENSG00000196557.9   HGNC:1395     CACNA1H  ENSG00000196557 -4.169654   \n",
       "3   ENSG00000163106.9  HGNC:17890       HPGDS  ENSG00000163106 -4.400151   \n",
       "4   ENSG00000134569.8   HGNC:6696        LRP4  ENSG00000134569 -3.483009   \n",
       "\n",
       "    AveExpr         t       p.unadj      p.adj.bh          b  \n",
       "0  0.843840 -9.414718  2.719869e-15  4.744811e-11  24.350044  \n",
       "1  3.649760 -9.263250  5.751633e-15  5.016861e-11  23.632143  \n",
       "2 -1.405854 -9.002888  2.081576e-14  1.146424e-10  22.069479  \n",
       "3  0.806601 -8.919743  3.137562e-14  1.146424e-10  21.965357  \n",
       "4 -1.075865 -8.910384  3.285823e-14  1.146424e-10  21.729648  "
      ]
     },
     "execution_count": 4,
     "metadata": {},
     "output_type": "execute_result"
    }
   ],
   "source": [
    "deg.head()"
   ]
  },
  {
   "cell_type": "code",
   "execution_count": 60,
   "metadata": {},
   "outputs": [],
   "source": [
    "deg_col = list(deg['Unnamed: 0'])"
   ]
  },
  {
   "cell_type": "code",
   "execution_count": 63,
   "metadata": {},
   "outputs": [],
   "source": [
    "# deg_col"
   ]
  },
  {
   "cell_type": "code",
   "execution_count": 22,
   "metadata": {},
   "outputs": [
    {
     "name": "stderr",
     "output_type": "stream",
     "text": [
      "/Users/david/anaconda3/lib/python3.6/site-packages/IPython/core/interactiveshell.py:2785: DtypeWarning: Columns (15,39) have mixed types. Specify dtype option on import or set low_memory=False.\n",
      "  interactivity=interactivity, compiler=compiler, result=result)\n"
     ]
    }
   ],
   "source": [
    "df = pd.read_csv('data/aml_df.csv')\n",
    "df.drop(columns=['Unnamed: 0'], inplace=True)"
   ]
  },
  {
   "cell_type": "code",
   "execution_count": 23,
   "metadata": {},
   "outputs": [
    {
     "data": {
      "text/html": [
       "<div>\n",
       "<style scoped>\n",
       "    .dataframe tbody tr th:only-of-type {\n",
       "        vertical-align: middle;\n",
       "    }\n",
       "\n",
       "    .dataframe tbody tr th {\n",
       "        vertical-align: top;\n",
       "    }\n",
       "\n",
       "    .dataframe thead th {\n",
       "        text-align: right;\n",
       "    }\n",
       "</style>\n",
       "<table border=\"1\" class=\"dataframe\">\n",
       "  <thead>\n",
       "    <tr style=\"text-align: right;\">\n",
       "      <th></th>\n",
       "      <th>TARGET USI</th>\n",
       "      <th>Diagnostic ID</th>\n",
       "      <th>Gender</th>\n",
       "      <th>Race</th>\n",
       "      <th>Ethnicity</th>\n",
       "      <th>Age at Diagnosis in Days</th>\n",
       "      <th>First Event</th>\n",
       "      <th>Event Free Survival Time in Days</th>\n",
       "      <th>Vital Status</th>\n",
       "      <th>Overall Survival Time in Days</th>\n",
       "      <th>...</th>\n",
       "      <th>ENSG00000281691.1</th>\n",
       "      <th>ENSG00000281706.1</th>\n",
       "      <th>ENSG00000281741.1</th>\n",
       "      <th>ENSG00000281789.1</th>\n",
       "      <th>ENSG00000281896.1</th>\n",
       "      <th>ENSG00000281912.1</th>\n",
       "      <th>__no_feature</th>\n",
       "      <th>__ambiguous</th>\n",
       "      <th>__alignment_not_unique</th>\n",
       "      <th>Low Risk</th>\n",
       "    </tr>\n",
       "  </thead>\n",
       "  <tbody>\n",
       "    <tr>\n",
       "      <th>0</th>\n",
       "      <td>TARGET-20-PADZCG</td>\n",
       "      <td>09A</td>\n",
       "      <td>Female</td>\n",
       "      <td>Unknown</td>\n",
       "      <td>Not Hispanic or Latino</td>\n",
       "      <td>5325</td>\n",
       "      <td>Relapse</td>\n",
       "      <td>314</td>\n",
       "      <td>Dead</td>\n",
       "      <td>536</td>\n",
       "      <td>...</td>\n",
       "      <td>-0.330849</td>\n",
       "      <td>-1.843229</td>\n",
       "      <td>-0.801464</td>\n",
       "      <td>-0.364707</td>\n",
       "      <td>2.164604</td>\n",
       "      <td>-0.152689</td>\n",
       "      <td>17.12435</td>\n",
       "      <td>14.60608</td>\n",
       "      <td>17.85268</td>\n",
       "      <td>0</td>\n",
       "    </tr>\n",
       "    <tr>\n",
       "      <th>1</th>\n",
       "      <td>TARGET-20-PAEAKL</td>\n",
       "      <td>09A</td>\n",
       "      <td>Female</td>\n",
       "      <td>Black or African American</td>\n",
       "      <td>Not Hispanic or Latino</td>\n",
       "      <td>5218</td>\n",
       "      <td>Relapse</td>\n",
       "      <td>134</td>\n",
       "      <td>Dead</td>\n",
       "      <td>163</td>\n",
       "      <td>...</td>\n",
       "      <td>-2.177556</td>\n",
       "      <td>-0.717812</td>\n",
       "      <td>-0.888170</td>\n",
       "      <td>1.754821</td>\n",
       "      <td>0.456577</td>\n",
       "      <td>0.965496</td>\n",
       "      <td>16.79422</td>\n",
       "      <td>15.36352</td>\n",
       "      <td>19.67021</td>\n",
       "      <td>0</td>\n",
       "    </tr>\n",
       "    <tr>\n",
       "      <th>2</th>\n",
       "      <td>TARGET-20-PAEERJ</td>\n",
       "      <td>09A</td>\n",
       "      <td>Female</td>\n",
       "      <td>White</td>\n",
       "      <td>Not Hispanic or Latino</td>\n",
       "      <td>5082</td>\n",
       "      <td>Relapse</td>\n",
       "      <td>259</td>\n",
       "      <td>Dead</td>\n",
       "      <td>373</td>\n",
       "      <td>...</td>\n",
       "      <td>0.768241</td>\n",
       "      <td>-0.600677</td>\n",
       "      <td>-1.563662</td>\n",
       "      <td>-0.506252</td>\n",
       "      <td>2.328197</td>\n",
       "      <td>-2.909309</td>\n",
       "      <td>16.91605</td>\n",
       "      <td>14.56523</td>\n",
       "      <td>17.57099</td>\n",
       "      <td>0</td>\n",
       "    </tr>\n",
       "    <tr>\n",
       "      <th>3</th>\n",
       "      <td>TARGET-20-PAEFGR</td>\n",
       "      <td>09A</td>\n",
       "      <td>Female</td>\n",
       "      <td>White</td>\n",
       "      <td>Not Hispanic or Latino</td>\n",
       "      <td>549</td>\n",
       "      <td>Relapse</td>\n",
       "      <td>497</td>\n",
       "      <td>Alive</td>\n",
       "      <td>4022</td>\n",
       "      <td>...</td>\n",
       "      <td>1.647430</td>\n",
       "      <td>-3.847206</td>\n",
       "      <td>1.085338</td>\n",
       "      <td>-2.167177</td>\n",
       "      <td>3.119785</td>\n",
       "      <td>-1.816488</td>\n",
       "      <td>17.66439</td>\n",
       "      <td>14.83790</td>\n",
       "      <td>18.38274</td>\n",
       "      <td>1</td>\n",
       "    </tr>\n",
       "    <tr>\n",
       "      <th>4</th>\n",
       "      <td>TARGET-20-PAEFGT</td>\n",
       "      <td>03A</td>\n",
       "      <td>Female</td>\n",
       "      <td>White</td>\n",
       "      <td>Not Hispanic or Latino</td>\n",
       "      <td>5452</td>\n",
       "      <td>Relapse</td>\n",
       "      <td>213</td>\n",
       "      <td>Dead</td>\n",
       "      <td>315</td>\n",
       "      <td>...</td>\n",
       "      <td>0.646308</td>\n",
       "      <td>-0.395081</td>\n",
       "      <td>-1.284291</td>\n",
       "      <td>-0.907716</td>\n",
       "      <td>2.450552</td>\n",
       "      <td>-1.553860</td>\n",
       "      <td>17.27285</td>\n",
       "      <td>14.92322</td>\n",
       "      <td>18.33485</td>\n",
       "      <td>0</td>\n",
       "    </tr>\n",
       "  </tbody>\n",
       "</table>\n",
       "<p>5 rows × 21492 columns</p>\n",
       "</div>"
      ],
      "text/plain": [
       "         TARGET USI Diagnostic ID  Gender                       Race  \\\n",
       "0  TARGET-20-PADZCG           09A  Female                    Unknown   \n",
       "1  TARGET-20-PAEAKL           09A  Female  Black or African American   \n",
       "2  TARGET-20-PAEERJ           09A  Female                      White   \n",
       "3  TARGET-20-PAEFGR           09A  Female                      White   \n",
       "4  TARGET-20-PAEFGT           03A  Female                      White   \n",
       "\n",
       "                Ethnicity  Age at Diagnosis in Days First Event  \\\n",
       "0  Not Hispanic or Latino                      5325     Relapse   \n",
       "1  Not Hispanic or Latino                      5218     Relapse   \n",
       "2  Not Hispanic or Latino                      5082     Relapse   \n",
       "3  Not Hispanic or Latino                       549     Relapse   \n",
       "4  Not Hispanic or Latino                      5452     Relapse   \n",
       "\n",
       "   Event Free Survival Time in Days Vital Status  \\\n",
       "0                               314         Dead   \n",
       "1                               134         Dead   \n",
       "2                               259         Dead   \n",
       "3                               497        Alive   \n",
       "4                               213         Dead   \n",
       "\n",
       "   Overall Survival Time in Days   ...     ENSG00000281691.1  \\\n",
       "0                            536   ...             -0.330849   \n",
       "1                            163   ...             -2.177556   \n",
       "2                            373   ...              0.768241   \n",
       "3                           4022   ...              1.647430   \n",
       "4                            315   ...              0.646308   \n",
       "\n",
       "   ENSG00000281706.1 ENSG00000281741.1  ENSG00000281789.1 ENSG00000281896.1  \\\n",
       "0          -1.843229         -0.801464          -0.364707          2.164604   \n",
       "1          -0.717812         -0.888170           1.754821          0.456577   \n",
       "2          -0.600677         -1.563662          -0.506252          2.328197   \n",
       "3          -3.847206          1.085338          -2.167177          3.119785   \n",
       "4          -0.395081         -1.284291          -0.907716          2.450552   \n",
       "\n",
       "   ENSG00000281912.1 __no_feature __ambiguous __alignment_not_unique Low Risk  \n",
       "0          -0.152689     17.12435    14.60608               17.85268        0  \n",
       "1           0.965496     16.79422    15.36352               19.67021        0  \n",
       "2          -2.909309     16.91605    14.56523               17.57099        0  \n",
       "3          -1.816488     17.66439    14.83790               18.38274        1  \n",
       "4          -1.553860     17.27285    14.92322               18.33485        0  \n",
       "\n",
       "[5 rows x 21492 columns]"
      ]
     },
     "execution_count": 23,
     "metadata": {},
     "output_type": "execute_result"
    }
   ],
   "source": [
    "df.head()"
   ]
  },
  {
   "cell_type": "code",
   "execution_count": 39,
   "metadata": {},
   "outputs": [],
   "source": [
    "model_columns = df.iloc[:, 84:-4].columns\n",
    "X = df.loc[:, model_columns].values\n",
    "y = df.iloc[:, -1].values"
   ]
  },
  {
   "cell_type": "code",
   "execution_count": 41,
   "metadata": {},
   "outputs": [],
   "source": [
    "# X.head()"
   ]
  },
  {
   "cell_type": "code",
   "execution_count": 42,
   "metadata": {},
   "outputs": [],
   "source": [
    "from sklearn.ensemble import  RandomForestClassifier\n"
   ]
  },
  {
   "cell_type": "code",
   "execution_count": 43,
   "metadata": {},
   "outputs": [],
   "source": [
    "rf = RandomForestClassifier(n_estimators=1000, max_depth=20, random_state=8, n_jobs=-1)\n",
    "feat_selector = BorutaPy(rf, n_estimators='auto', verbose=2, random_state=8)"
   ]
  },
  {
   "cell_type": "code",
   "execution_count": 44,
   "metadata": {},
   "outputs": [
    {
     "name": "stdout",
     "output_type": "stream",
     "text": [
      "Iteration: \t1 / 100\n",
      "Confirmed: \t0\n",
      "Tentative: \t21404\n",
      "Rejected: \t0\n",
      "Iteration: \t2 / 100\n",
      "Confirmed: \t0\n",
      "Tentative: \t21404\n",
      "Rejected: \t0\n",
      "Iteration: \t3 / 100\n",
      "Confirmed: \t0\n",
      "Tentative: \t21404\n",
      "Rejected: \t0\n",
      "Iteration: \t4 / 100\n",
      "Confirmed: \t0\n",
      "Tentative: \t21404\n",
      "Rejected: \t0\n",
      "Iteration: \t5 / 100\n",
      "Confirmed: \t0\n",
      "Tentative: \t21404\n",
      "Rejected: \t0\n",
      "Iteration: \t6 / 100\n",
      "Confirmed: \t0\n",
      "Tentative: \t21404\n",
      "Rejected: \t0\n",
      "Iteration: \t7 / 100\n",
      "Confirmed: \t0\n",
      "Tentative: \t21404\n",
      "Rejected: \t0\n",
      "Iteration: \t8 / 100\n",
      "Confirmed: \t0\n",
      "Tentative: \t990\n",
      "Rejected: \t20414\n"
     ]
    },
    {
     "name": "stderr",
     "output_type": "stream",
     "text": [
      "/Users/david/anaconda3/lib/python3.6/site-packages/boruta/boruta_py.py:418: RuntimeWarning: invalid value encountered in greater\n",
      "  hits = np.where(cur_imp[0] > imp_sha_max)[0]\n"
     ]
    },
    {
     "name": "stdout",
     "output_type": "stream",
     "text": [
      "Iteration: \t9 / 100\n",
      "Confirmed: \t77\n",
      "Tentative: \t913\n",
      "Rejected: \t20414\n"
     ]
    },
    {
     "name": "stderr",
     "output_type": "stream",
     "text": [
      "/Users/david/anaconda3/lib/python3.6/site-packages/boruta/boruta_py.py:418: RuntimeWarning: invalid value encountered in greater\n",
      "  hits = np.where(cur_imp[0] > imp_sha_max)[0]\n"
     ]
    },
    {
     "name": "stdout",
     "output_type": "stream",
     "text": [
      "Iteration: \t10 / 100\n",
      "Confirmed: \t77\n",
      "Tentative: \t913\n",
      "Rejected: \t20414\n"
     ]
    },
    {
     "name": "stderr",
     "output_type": "stream",
     "text": [
      "/Users/david/anaconda3/lib/python3.6/site-packages/boruta/boruta_py.py:418: RuntimeWarning: invalid value encountered in greater\n",
      "  hits = np.where(cur_imp[0] > imp_sha_max)[0]\n"
     ]
    },
    {
     "name": "stdout",
     "output_type": "stream",
     "text": [
      "Iteration: \t11 / 100\n",
      "Confirmed: \t77\n",
      "Tentative: \t913\n",
      "Rejected: \t20414\n"
     ]
    },
    {
     "name": "stderr",
     "output_type": "stream",
     "text": [
      "/Users/david/anaconda3/lib/python3.6/site-packages/boruta/boruta_py.py:418: RuntimeWarning: invalid value encountered in greater\n",
      "  hits = np.where(cur_imp[0] > imp_sha_max)[0]\n"
     ]
    },
    {
     "name": "stdout",
     "output_type": "stream",
     "text": [
      "Iteration: \t12 / 100\n",
      "Confirmed: \t82\n",
      "Tentative: \t597\n",
      "Rejected: \t20725\n"
     ]
    },
    {
     "name": "stderr",
     "output_type": "stream",
     "text": [
      "/Users/david/anaconda3/lib/python3.6/site-packages/boruta/boruta_py.py:418: RuntimeWarning: invalid value encountered in greater\n",
      "  hits = np.where(cur_imp[0] > imp_sha_max)[0]\n"
     ]
    },
    {
     "name": "stdout",
     "output_type": "stream",
     "text": [
      "Iteration: \t13 / 100\n",
      "Confirmed: \t82\n",
      "Tentative: \t597\n",
      "Rejected: \t20725\n"
     ]
    },
    {
     "name": "stderr",
     "output_type": "stream",
     "text": [
      "/Users/david/anaconda3/lib/python3.6/site-packages/boruta/boruta_py.py:418: RuntimeWarning: invalid value encountered in greater\n",
      "  hits = np.where(cur_imp[0] > imp_sha_max)[0]\n"
     ]
    },
    {
     "name": "stdout",
     "output_type": "stream",
     "text": [
      "Iteration: \t14 / 100\n",
      "Confirmed: \t82\n",
      "Tentative: \t597\n",
      "Rejected: \t20725\n"
     ]
    },
    {
     "name": "stderr",
     "output_type": "stream",
     "text": [
      "/Users/david/anaconda3/lib/python3.6/site-packages/boruta/boruta_py.py:418: RuntimeWarning: invalid value encountered in greater\n",
      "  hits = np.where(cur_imp[0] > imp_sha_max)[0]\n"
     ]
    },
    {
     "name": "stdout",
     "output_type": "stream",
     "text": [
      "Iteration: \t15 / 100\n",
      "Confirmed: \t82\n",
      "Tentative: \t597\n",
      "Rejected: \t20725\n"
     ]
    },
    {
     "name": "stderr",
     "output_type": "stream",
     "text": [
      "/Users/david/anaconda3/lib/python3.6/site-packages/boruta/boruta_py.py:418: RuntimeWarning: invalid value encountered in greater\n",
      "  hits = np.where(cur_imp[0] > imp_sha_max)[0]\n"
     ]
    },
    {
     "name": "stdout",
     "output_type": "stream",
     "text": [
      "Iteration: \t16 / 100\n",
      "Confirmed: \t82\n",
      "Tentative: \t452\n",
      "Rejected: \t20870\n"
     ]
    },
    {
     "name": "stderr",
     "output_type": "stream",
     "text": [
      "/Users/david/anaconda3/lib/python3.6/site-packages/boruta/boruta_py.py:418: RuntimeWarning: invalid value encountered in greater\n",
      "  hits = np.where(cur_imp[0] > imp_sha_max)[0]\n"
     ]
    },
    {
     "name": "stdout",
     "output_type": "stream",
     "text": [
      "Iteration: \t17 / 100\n",
      "Confirmed: \t82\n",
      "Tentative: \t452\n",
      "Rejected: \t20870\n"
     ]
    },
    {
     "name": "stderr",
     "output_type": "stream",
     "text": [
      "/Users/david/anaconda3/lib/python3.6/site-packages/boruta/boruta_py.py:418: RuntimeWarning: invalid value encountered in greater\n",
      "  hits = np.where(cur_imp[0] > imp_sha_max)[0]\n"
     ]
    },
    {
     "name": "stdout",
     "output_type": "stream",
     "text": [
      "Iteration: \t18 / 100\n",
      "Confirmed: \t82\n",
      "Tentative: \t452\n",
      "Rejected: \t20870\n"
     ]
    },
    {
     "name": "stderr",
     "output_type": "stream",
     "text": [
      "/Users/david/anaconda3/lib/python3.6/site-packages/boruta/boruta_py.py:418: RuntimeWarning: invalid value encountered in greater\n",
      "  hits = np.where(cur_imp[0] > imp_sha_max)[0]\n"
     ]
    },
    {
     "name": "stdout",
     "output_type": "stream",
     "text": [
      "Iteration: \t19 / 100\n",
      "Confirmed: \t83\n",
      "Tentative: \t374\n",
      "Rejected: \t20947\n"
     ]
    },
    {
     "name": "stderr",
     "output_type": "stream",
     "text": [
      "/Users/david/anaconda3/lib/python3.6/site-packages/boruta/boruta_py.py:418: RuntimeWarning: invalid value encountered in greater\n",
      "  hits = np.where(cur_imp[0] > imp_sha_max)[0]\n"
     ]
    },
    {
     "name": "stdout",
     "output_type": "stream",
     "text": [
      "Iteration: \t20 / 100\n",
      "Confirmed: \t83\n",
      "Tentative: \t374\n",
      "Rejected: \t20947\n"
     ]
    },
    {
     "name": "stderr",
     "output_type": "stream",
     "text": [
      "/Users/david/anaconda3/lib/python3.6/site-packages/boruta/boruta_py.py:418: RuntimeWarning: invalid value encountered in greater\n",
      "  hits = np.where(cur_imp[0] > imp_sha_max)[0]\n"
     ]
    },
    {
     "name": "stdout",
     "output_type": "stream",
     "text": [
      "Iteration: \t21 / 100\n",
      "Confirmed: \t83\n",
      "Tentative: \t374\n",
      "Rejected: \t20947\n"
     ]
    },
    {
     "name": "stderr",
     "output_type": "stream",
     "text": [
      "/Users/david/anaconda3/lib/python3.6/site-packages/boruta/boruta_py.py:418: RuntimeWarning: invalid value encountered in greater\n",
      "  hits = np.where(cur_imp[0] > imp_sha_max)[0]\n"
     ]
    },
    {
     "name": "stdout",
     "output_type": "stream",
     "text": [
      "Iteration: \t22 / 100\n",
      "Confirmed: \t83\n",
      "Tentative: \t300\n",
      "Rejected: \t21021\n"
     ]
    },
    {
     "name": "stderr",
     "output_type": "stream",
     "text": [
      "/Users/david/anaconda3/lib/python3.6/site-packages/boruta/boruta_py.py:418: RuntimeWarning: invalid value encountered in greater\n",
      "  hits = np.where(cur_imp[0] > imp_sha_max)[0]\n"
     ]
    },
    {
     "name": "stdout",
     "output_type": "stream",
     "text": [
      "Iteration: \t23 / 100\n",
      "Confirmed: \t83\n",
      "Tentative: \t300\n",
      "Rejected: \t21021\n"
     ]
    },
    {
     "name": "stderr",
     "output_type": "stream",
     "text": [
      "/Users/david/anaconda3/lib/python3.6/site-packages/boruta/boruta_py.py:418: RuntimeWarning: invalid value encountered in greater\n",
      "  hits = np.where(cur_imp[0] > imp_sha_max)[0]\n"
     ]
    },
    {
     "name": "stdout",
     "output_type": "stream",
     "text": [
      "Iteration: \t24 / 100\n",
      "Confirmed: \t83\n",
      "Tentative: \t300\n",
      "Rejected: \t21021\n"
     ]
    },
    {
     "name": "stderr",
     "output_type": "stream",
     "text": [
      "/Users/david/anaconda3/lib/python3.6/site-packages/boruta/boruta_py.py:418: RuntimeWarning: invalid value encountered in greater\n",
      "  hits = np.where(cur_imp[0] > imp_sha_max)[0]\n"
     ]
    },
    {
     "name": "stdout",
     "output_type": "stream",
     "text": [
      "Iteration: \t25 / 100\n",
      "Confirmed: \t83\n",
      "Tentative: \t300\n",
      "Rejected: \t21021\n"
     ]
    },
    {
     "name": "stderr",
     "output_type": "stream",
     "text": [
      "/Users/david/anaconda3/lib/python3.6/site-packages/boruta/boruta_py.py:418: RuntimeWarning: invalid value encountered in greater\n",
      "  hits = np.where(cur_imp[0] > imp_sha_max)[0]\n"
     ]
    },
    {
     "name": "stdout",
     "output_type": "stream",
     "text": [
      "Iteration: \t26 / 100\n",
      "Confirmed: \t83\n",
      "Tentative: \t254\n",
      "Rejected: \t21067\n"
     ]
    },
    {
     "name": "stderr",
     "output_type": "stream",
     "text": [
      "/Users/david/anaconda3/lib/python3.6/site-packages/boruta/boruta_py.py:418: RuntimeWarning: invalid value encountered in greater\n",
      "  hits = np.where(cur_imp[0] > imp_sha_max)[0]\n"
     ]
    },
    {
     "name": "stdout",
     "output_type": "stream",
     "text": [
      "Iteration: \t27 / 100\n",
      "Confirmed: \t83\n",
      "Tentative: \t254\n",
      "Rejected: \t21067\n"
     ]
    },
    {
     "name": "stderr",
     "output_type": "stream",
     "text": [
      "/Users/david/anaconda3/lib/python3.6/site-packages/boruta/boruta_py.py:418: RuntimeWarning: invalid value encountered in greater\n",
      "  hits = np.where(cur_imp[0] > imp_sha_max)[0]\n"
     ]
    },
    {
     "name": "stdout",
     "output_type": "stream",
     "text": [
      "Iteration: \t28 / 100\n",
      "Confirmed: \t83\n",
      "Tentative: \t254\n",
      "Rejected: \t21067\n"
     ]
    },
    {
     "name": "stderr",
     "output_type": "stream",
     "text": [
      "/Users/david/anaconda3/lib/python3.6/site-packages/boruta/boruta_py.py:418: RuntimeWarning: invalid value encountered in greater\n",
      "  hits = np.where(cur_imp[0] > imp_sha_max)[0]\n"
     ]
    },
    {
     "name": "stdout",
     "output_type": "stream",
     "text": [
      "Iteration: \t29 / 100\n",
      "Confirmed: \t83\n",
      "Tentative: \t223\n",
      "Rejected: \t21098\n"
     ]
    },
    {
     "name": "stderr",
     "output_type": "stream",
     "text": [
      "/Users/david/anaconda3/lib/python3.6/site-packages/boruta/boruta_py.py:418: RuntimeWarning: invalid value encountered in greater\n",
      "  hits = np.where(cur_imp[0] > imp_sha_max)[0]\n"
     ]
    },
    {
     "name": "stdout",
     "output_type": "stream",
     "text": [
      "Iteration: \t30 / 100\n",
      "Confirmed: \t83\n",
      "Tentative: \t223\n",
      "Rejected: \t21098\n"
     ]
    },
    {
     "name": "stderr",
     "output_type": "stream",
     "text": [
      "/Users/david/anaconda3/lib/python3.6/site-packages/boruta/boruta_py.py:418: RuntimeWarning: invalid value encountered in greater\n",
      "  hits = np.where(cur_imp[0] > imp_sha_max)[0]\n"
     ]
    },
    {
     "name": "stdout",
     "output_type": "stream",
     "text": [
      "Iteration: \t31 / 100\n",
      "Confirmed: \t83\n",
      "Tentative: \t223\n",
      "Rejected: \t21098\n"
     ]
    },
    {
     "name": "stderr",
     "output_type": "stream",
     "text": [
      "/Users/david/anaconda3/lib/python3.6/site-packages/boruta/boruta_py.py:418: RuntimeWarning: invalid value encountered in greater\n",
      "  hits = np.where(cur_imp[0] > imp_sha_max)[0]\n"
     ]
    },
    {
     "name": "stdout",
     "output_type": "stream",
     "text": [
      "Iteration: \t32 / 100\n",
      "Confirmed: \t83\n",
      "Tentative: \t191\n",
      "Rejected: \t21130\n"
     ]
    },
    {
     "name": "stderr",
     "output_type": "stream",
     "text": [
      "/Users/david/anaconda3/lib/python3.6/site-packages/boruta/boruta_py.py:418: RuntimeWarning: invalid value encountered in greater\n",
      "  hits = np.where(cur_imp[0] > imp_sha_max)[0]\n"
     ]
    },
    {
     "name": "stdout",
     "output_type": "stream",
     "text": [
      "Iteration: \t33 / 100\n",
      "Confirmed: \t83\n",
      "Tentative: \t191\n",
      "Rejected: \t21130\n"
     ]
    },
    {
     "name": "stderr",
     "output_type": "stream",
     "text": [
      "/Users/david/anaconda3/lib/python3.6/site-packages/boruta/boruta_py.py:418: RuntimeWarning: invalid value encountered in greater\n",
      "  hits = np.where(cur_imp[0] > imp_sha_max)[0]\n"
     ]
    },
    {
     "name": "stdout",
     "output_type": "stream",
     "text": [
      "Iteration: \t34 / 100\n",
      "Confirmed: \t83\n",
      "Tentative: \t166\n",
      "Rejected: \t21155\n"
     ]
    },
    {
     "name": "stderr",
     "output_type": "stream",
     "text": [
      "/Users/david/anaconda3/lib/python3.6/site-packages/boruta/boruta_py.py:418: RuntimeWarning: invalid value encountered in greater\n",
      "  hits = np.where(cur_imp[0] > imp_sha_max)[0]\n"
     ]
    },
    {
     "name": "stdout",
     "output_type": "stream",
     "text": [
      "Iteration: \t35 / 100\n",
      "Confirmed: \t83\n",
      "Tentative: \t166\n",
      "Rejected: \t21155\n"
     ]
    },
    {
     "name": "stderr",
     "output_type": "stream",
     "text": [
      "/Users/david/anaconda3/lib/python3.6/site-packages/boruta/boruta_py.py:418: RuntimeWarning: invalid value encountered in greater\n",
      "  hits = np.where(cur_imp[0] > imp_sha_max)[0]\n"
     ]
    },
    {
     "name": "stdout",
     "output_type": "stream",
     "text": [
      "Iteration: \t36 / 100\n",
      "Confirmed: \t83\n",
      "Tentative: \t166\n",
      "Rejected: \t21155\n"
     ]
    },
    {
     "name": "stderr",
     "output_type": "stream",
     "text": [
      "/Users/david/anaconda3/lib/python3.6/site-packages/boruta/boruta_py.py:418: RuntimeWarning: invalid value encountered in greater\n",
      "  hits = np.where(cur_imp[0] > imp_sha_max)[0]\n"
     ]
    },
    {
     "name": "stdout",
     "output_type": "stream",
     "text": [
      "Iteration: \t37 / 100\n",
      "Confirmed: \t83\n",
      "Tentative: \t143\n",
      "Rejected: \t21178\n"
     ]
    },
    {
     "name": "stderr",
     "output_type": "stream",
     "text": [
      "/Users/david/anaconda3/lib/python3.6/site-packages/boruta/boruta_py.py:418: RuntimeWarning: invalid value encountered in greater\n",
      "  hits = np.where(cur_imp[0] > imp_sha_max)[0]\n"
     ]
    },
    {
     "name": "stdout",
     "output_type": "stream",
     "text": [
      "Iteration: \t38 / 100\n",
      "Confirmed: \t83\n",
      "Tentative: \t143\n",
      "Rejected: \t21178\n"
     ]
    },
    {
     "name": "stderr",
     "output_type": "stream",
     "text": [
      "/Users/david/anaconda3/lib/python3.6/site-packages/boruta/boruta_py.py:418: RuntimeWarning: invalid value encountered in greater\n",
      "  hits = np.where(cur_imp[0] > imp_sha_max)[0]\n"
     ]
    },
    {
     "name": "stdout",
     "output_type": "stream",
     "text": [
      "Iteration: \t39 / 100\n",
      "Confirmed: \t83\n",
      "Tentative: \t143\n",
      "Rejected: \t21178\n"
     ]
    },
    {
     "name": "stderr",
     "output_type": "stream",
     "text": [
      "/Users/david/anaconda3/lib/python3.6/site-packages/boruta/boruta_py.py:418: RuntimeWarning: invalid value encountered in greater\n",
      "  hits = np.where(cur_imp[0] > imp_sha_max)[0]\n"
     ]
    },
    {
     "name": "stdout",
     "output_type": "stream",
     "text": [
      "Iteration: \t40 / 100\n",
      "Confirmed: \t83\n",
      "Tentative: \t130\n",
      "Rejected: \t21191\n"
     ]
    },
    {
     "name": "stderr",
     "output_type": "stream",
     "text": [
      "/Users/david/anaconda3/lib/python3.6/site-packages/boruta/boruta_py.py:418: RuntimeWarning: invalid value encountered in greater\n",
      "  hits = np.where(cur_imp[0] > imp_sha_max)[0]\n"
     ]
    },
    {
     "name": "stdout",
     "output_type": "stream",
     "text": [
      "Iteration: \t41 / 100\n",
      "Confirmed: \t83\n",
      "Tentative: \t130\n",
      "Rejected: \t21191\n"
     ]
    },
    {
     "name": "stderr",
     "output_type": "stream",
     "text": [
      "/Users/david/anaconda3/lib/python3.6/site-packages/boruta/boruta_py.py:418: RuntimeWarning: invalid value encountered in greater\n",
      "  hits = np.where(cur_imp[0] > imp_sha_max)[0]\n"
     ]
    },
    {
     "name": "stdout",
     "output_type": "stream",
     "text": [
      "Iteration: \t42 / 100\n",
      "Confirmed: \t83\n",
      "Tentative: \t130\n",
      "Rejected: \t21191\n"
     ]
    },
    {
     "name": "stderr",
     "output_type": "stream",
     "text": [
      "/Users/david/anaconda3/lib/python3.6/site-packages/boruta/boruta_py.py:418: RuntimeWarning: invalid value encountered in greater\n",
      "  hits = np.where(cur_imp[0] > imp_sha_max)[0]\n"
     ]
    },
    {
     "name": "stdout",
     "output_type": "stream",
     "text": [
      "Iteration: \t43 / 100\n",
      "Confirmed: \t83\n",
      "Tentative: \t115\n",
      "Rejected: \t21206\n"
     ]
    },
    {
     "name": "stderr",
     "output_type": "stream",
     "text": [
      "/Users/david/anaconda3/lib/python3.6/site-packages/boruta/boruta_py.py:418: RuntimeWarning: invalid value encountered in greater\n",
      "  hits = np.where(cur_imp[0] > imp_sha_max)[0]\n"
     ]
    },
    {
     "name": "stdout",
     "output_type": "stream",
     "text": [
      "Iteration: \t44 / 100\n",
      "Confirmed: \t83\n",
      "Tentative: \t115\n",
      "Rejected: \t21206\n"
     ]
    },
    {
     "name": "stderr",
     "output_type": "stream",
     "text": [
      "/Users/david/anaconda3/lib/python3.6/site-packages/boruta/boruta_py.py:418: RuntimeWarning: invalid value encountered in greater\n",
      "  hits = np.where(cur_imp[0] > imp_sha_max)[0]\n"
     ]
    },
    {
     "name": "stdout",
     "output_type": "stream",
     "text": [
      "Iteration: \t45 / 100\n",
      "Confirmed: \t83\n",
      "Tentative: \t115\n",
      "Rejected: \t21206\n"
     ]
    },
    {
     "name": "stderr",
     "output_type": "stream",
     "text": [
      "/Users/david/anaconda3/lib/python3.6/site-packages/boruta/boruta_py.py:418: RuntimeWarning: invalid value encountered in greater\n",
      "  hits = np.where(cur_imp[0] > imp_sha_max)[0]\n"
     ]
    },
    {
     "name": "stdout",
     "output_type": "stream",
     "text": [
      "Iteration: \t46 / 100\n",
      "Confirmed: \t83\n",
      "Tentative: \t109\n",
      "Rejected: \t21212\n"
     ]
    },
    {
     "name": "stderr",
     "output_type": "stream",
     "text": [
      "/Users/david/anaconda3/lib/python3.6/site-packages/boruta/boruta_py.py:418: RuntimeWarning: invalid value encountered in greater\n",
      "  hits = np.where(cur_imp[0] > imp_sha_max)[0]\n"
     ]
    },
    {
     "name": "stdout",
     "output_type": "stream",
     "text": [
      "Iteration: \t47 / 100\n",
      "Confirmed: \t83\n",
      "Tentative: \t109\n",
      "Rejected: \t21212\n"
     ]
    },
    {
     "name": "stderr",
     "output_type": "stream",
     "text": [
      "/Users/david/anaconda3/lib/python3.6/site-packages/boruta/boruta_py.py:418: RuntimeWarning: invalid value encountered in greater\n",
      "  hits = np.where(cur_imp[0] > imp_sha_max)[0]\n"
     ]
    },
    {
     "name": "stdout",
     "output_type": "stream",
     "text": [
      "Iteration: \t48 / 100\n",
      "Confirmed: \t83\n",
      "Tentative: \t109\n",
      "Rejected: \t21212\n"
     ]
    },
    {
     "name": "stderr",
     "output_type": "stream",
     "text": [
      "/Users/david/anaconda3/lib/python3.6/site-packages/boruta/boruta_py.py:418: RuntimeWarning: invalid value encountered in greater\n",
      "  hits = np.where(cur_imp[0] > imp_sha_max)[0]\n"
     ]
    },
    {
     "name": "stdout",
     "output_type": "stream",
     "text": [
      "Iteration: \t49 / 100\n",
      "Confirmed: \t83\n",
      "Tentative: \t95\n",
      "Rejected: \t21226\n"
     ]
    },
    {
     "name": "stderr",
     "output_type": "stream",
     "text": [
      "/Users/david/anaconda3/lib/python3.6/site-packages/boruta/boruta_py.py:418: RuntimeWarning: invalid value encountered in greater\n",
      "  hits = np.where(cur_imp[0] > imp_sha_max)[0]\n"
     ]
    },
    {
     "name": "stdout",
     "output_type": "stream",
     "text": [
      "Iteration: \t50 / 100\n",
      "Confirmed: \t83\n",
      "Tentative: \t95\n",
      "Rejected: \t21226\n"
     ]
    },
    {
     "name": "stderr",
     "output_type": "stream",
     "text": [
      "/Users/david/anaconda3/lib/python3.6/site-packages/boruta/boruta_py.py:418: RuntimeWarning: invalid value encountered in greater\n",
      "  hits = np.where(cur_imp[0] > imp_sha_max)[0]\n"
     ]
    },
    {
     "name": "stdout",
     "output_type": "stream",
     "text": [
      "Iteration: \t51 / 100\n",
      "Confirmed: \t83\n",
      "Tentative: \t85\n",
      "Rejected: \t21236\n"
     ]
    },
    {
     "name": "stderr",
     "output_type": "stream",
     "text": [
      "/Users/david/anaconda3/lib/python3.6/site-packages/boruta/boruta_py.py:418: RuntimeWarning: invalid value encountered in greater\n",
      "  hits = np.where(cur_imp[0] > imp_sha_max)[0]\n"
     ]
    },
    {
     "name": "stdout",
     "output_type": "stream",
     "text": [
      "Iteration: \t52 / 100\n",
      "Confirmed: \t83\n",
      "Tentative: \t85\n",
      "Rejected: \t21236\n"
     ]
    },
    {
     "name": "stderr",
     "output_type": "stream",
     "text": [
      "/Users/david/anaconda3/lib/python3.6/site-packages/boruta/boruta_py.py:418: RuntimeWarning: invalid value encountered in greater\n",
      "  hits = np.where(cur_imp[0] > imp_sha_max)[0]\n"
     ]
    },
    {
     "name": "stdout",
     "output_type": "stream",
     "text": [
      "Iteration: \t53 / 100\n",
      "Confirmed: \t83\n",
      "Tentative: \t85\n",
      "Rejected: \t21236\n"
     ]
    },
    {
     "name": "stderr",
     "output_type": "stream",
     "text": [
      "/Users/david/anaconda3/lib/python3.6/site-packages/boruta/boruta_py.py:418: RuntimeWarning: invalid value encountered in greater\n",
      "  hits = np.where(cur_imp[0] > imp_sha_max)[0]\n"
     ]
    },
    {
     "name": "stdout",
     "output_type": "stream",
     "text": [
      "Iteration: \t54 / 100\n",
      "Confirmed: \t83\n",
      "Tentative: \t75\n",
      "Rejected: \t21246\n"
     ]
    },
    {
     "name": "stderr",
     "output_type": "stream",
     "text": [
      "/Users/david/anaconda3/lib/python3.6/site-packages/boruta/boruta_py.py:418: RuntimeWarning: invalid value encountered in greater\n",
      "  hits = np.where(cur_imp[0] > imp_sha_max)[0]\n"
     ]
    },
    {
     "name": "stdout",
     "output_type": "stream",
     "text": [
      "Iteration: \t55 / 100\n",
      "Confirmed: \t83\n",
      "Tentative: \t75\n",
      "Rejected: \t21246\n"
     ]
    },
    {
     "name": "stderr",
     "output_type": "stream",
     "text": [
      "/Users/david/anaconda3/lib/python3.6/site-packages/boruta/boruta_py.py:418: RuntimeWarning: invalid value encountered in greater\n",
      "  hits = np.where(cur_imp[0] > imp_sha_max)[0]\n"
     ]
    },
    {
     "name": "stdout",
     "output_type": "stream",
     "text": [
      "Iteration: \t56 / 100\n",
      "Confirmed: \t83\n",
      "Tentative: \t75\n",
      "Rejected: \t21246\n"
     ]
    },
    {
     "name": "stderr",
     "output_type": "stream",
     "text": [
      "/Users/david/anaconda3/lib/python3.6/site-packages/boruta/boruta_py.py:418: RuntimeWarning: invalid value encountered in greater\n",
      "  hits = np.where(cur_imp[0] > imp_sha_max)[0]\n"
     ]
    },
    {
     "name": "stdout",
     "output_type": "stream",
     "text": [
      "Iteration: \t57 / 100\n",
      "Confirmed: \t83\n",
      "Tentative: \t67\n",
      "Rejected: \t21254\n"
     ]
    },
    {
     "name": "stderr",
     "output_type": "stream",
     "text": [
      "/Users/david/anaconda3/lib/python3.6/site-packages/boruta/boruta_py.py:418: RuntimeWarning: invalid value encountered in greater\n",
      "  hits = np.where(cur_imp[0] > imp_sha_max)[0]\n"
     ]
    },
    {
     "name": "stdout",
     "output_type": "stream",
     "text": [
      "Iteration: \t58 / 100\n",
      "Confirmed: \t83\n",
      "Tentative: \t67\n",
      "Rejected: \t21254\n"
     ]
    },
    {
     "name": "stderr",
     "output_type": "stream",
     "text": [
      "/Users/david/anaconda3/lib/python3.6/site-packages/boruta/boruta_py.py:418: RuntimeWarning: invalid value encountered in greater\n",
      "  hits = np.where(cur_imp[0] > imp_sha_max)[0]\n"
     ]
    },
    {
     "name": "stdout",
     "output_type": "stream",
     "text": [
      "Iteration: \t59 / 100\n",
      "Confirmed: \t83\n",
      "Tentative: \t64\n",
      "Rejected: \t21257\n"
     ]
    },
    {
     "name": "stderr",
     "output_type": "stream",
     "text": [
      "/Users/david/anaconda3/lib/python3.6/site-packages/boruta/boruta_py.py:418: RuntimeWarning: invalid value encountered in greater\n",
      "  hits = np.where(cur_imp[0] > imp_sha_max)[0]\n"
     ]
    },
    {
     "name": "stdout",
     "output_type": "stream",
     "text": [
      "Iteration: \t60 / 100\n",
      "Confirmed: \t83\n",
      "Tentative: \t64\n",
      "Rejected: \t21257\n"
     ]
    },
    {
     "name": "stderr",
     "output_type": "stream",
     "text": [
      "/Users/david/anaconda3/lib/python3.6/site-packages/boruta/boruta_py.py:418: RuntimeWarning: invalid value encountered in greater\n",
      "  hits = np.where(cur_imp[0] > imp_sha_max)[0]\n"
     ]
    },
    {
     "name": "stdout",
     "output_type": "stream",
     "text": [
      "Iteration: \t61 / 100\n",
      "Confirmed: \t83\n",
      "Tentative: \t64\n",
      "Rejected: \t21257\n"
     ]
    },
    {
     "name": "stderr",
     "output_type": "stream",
     "text": [
      "/Users/david/anaconda3/lib/python3.6/site-packages/boruta/boruta_py.py:418: RuntimeWarning: invalid value encountered in greater\n",
      "  hits = np.where(cur_imp[0] > imp_sha_max)[0]\n"
     ]
    },
    {
     "name": "stdout",
     "output_type": "stream",
     "text": [
      "Iteration: \t62 / 100\n",
      "Confirmed: \t83\n",
      "Tentative: \t60\n",
      "Rejected: \t21261\n"
     ]
    },
    {
     "name": "stderr",
     "output_type": "stream",
     "text": [
      "/Users/david/anaconda3/lib/python3.6/site-packages/boruta/boruta_py.py:418: RuntimeWarning: invalid value encountered in greater\n",
      "  hits = np.where(cur_imp[0] > imp_sha_max)[0]\n"
     ]
    },
    {
     "name": "stdout",
     "output_type": "stream",
     "text": [
      "Iteration: \t63 / 100\n",
      "Confirmed: \t83\n",
      "Tentative: \t60\n",
      "Rejected: \t21261\n"
     ]
    },
    {
     "name": "stderr",
     "output_type": "stream",
     "text": [
      "/Users/david/anaconda3/lib/python3.6/site-packages/boruta/boruta_py.py:418: RuntimeWarning: invalid value encountered in greater\n",
      "  hits = np.where(cur_imp[0] > imp_sha_max)[0]\n"
     ]
    },
    {
     "name": "stdout",
     "output_type": "stream",
     "text": [
      "Iteration: \t64 / 100\n",
      "Confirmed: \t83\n",
      "Tentative: \t60\n",
      "Rejected: \t21261\n"
     ]
    },
    {
     "name": "stderr",
     "output_type": "stream",
     "text": [
      "/Users/david/anaconda3/lib/python3.6/site-packages/boruta/boruta_py.py:418: RuntimeWarning: invalid value encountered in greater\n",
      "  hits = np.where(cur_imp[0] > imp_sha_max)[0]\n"
     ]
    },
    {
     "name": "stdout",
     "output_type": "stream",
     "text": [
      "Iteration: \t65 / 100\n",
      "Confirmed: \t83\n",
      "Tentative: \t58\n",
      "Rejected: \t21263\n"
     ]
    },
    {
     "name": "stderr",
     "output_type": "stream",
     "text": [
      "/Users/david/anaconda3/lib/python3.6/site-packages/boruta/boruta_py.py:418: RuntimeWarning: invalid value encountered in greater\n",
      "  hits = np.where(cur_imp[0] > imp_sha_max)[0]\n"
     ]
    },
    {
     "name": "stdout",
     "output_type": "stream",
     "text": [
      "Iteration: \t66 / 100\n",
      "Confirmed: \t83\n",
      "Tentative: \t58\n",
      "Rejected: \t21263\n"
     ]
    },
    {
     "name": "stderr",
     "output_type": "stream",
     "text": [
      "/Users/david/anaconda3/lib/python3.6/site-packages/boruta/boruta_py.py:418: RuntimeWarning: invalid value encountered in greater\n",
      "  hits = np.where(cur_imp[0] > imp_sha_max)[0]\n"
     ]
    },
    {
     "name": "stdout",
     "output_type": "stream",
     "text": [
      "Iteration: \t67 / 100\n",
      "Confirmed: \t83\n",
      "Tentative: \t56\n",
      "Rejected: \t21265\n"
     ]
    },
    {
     "name": "stderr",
     "output_type": "stream",
     "text": [
      "/Users/david/anaconda3/lib/python3.6/site-packages/boruta/boruta_py.py:418: RuntimeWarning: invalid value encountered in greater\n",
      "  hits = np.where(cur_imp[0] > imp_sha_max)[0]\n"
     ]
    },
    {
     "name": "stdout",
     "output_type": "stream",
     "text": [
      "Iteration: \t68 / 100\n",
      "Confirmed: \t83\n",
      "Tentative: \t56\n",
      "Rejected: \t21265\n"
     ]
    },
    {
     "name": "stderr",
     "output_type": "stream",
     "text": [
      "/Users/david/anaconda3/lib/python3.6/site-packages/boruta/boruta_py.py:418: RuntimeWarning: invalid value encountered in greater\n",
      "  hits = np.where(cur_imp[0] > imp_sha_max)[0]\n"
     ]
    },
    {
     "name": "stdout",
     "output_type": "stream",
     "text": [
      "Iteration: \t69 / 100\n",
      "Confirmed: \t83\n",
      "Tentative: \t56\n",
      "Rejected: \t21265\n"
     ]
    },
    {
     "name": "stderr",
     "output_type": "stream",
     "text": [
      "/Users/david/anaconda3/lib/python3.6/site-packages/boruta/boruta_py.py:418: RuntimeWarning: invalid value encountered in greater\n",
      "  hits = np.where(cur_imp[0] > imp_sha_max)[0]\n"
     ]
    },
    {
     "name": "stdout",
     "output_type": "stream",
     "text": [
      "Iteration: \t70 / 100\n",
      "Confirmed: \t83\n",
      "Tentative: \t52\n",
      "Rejected: \t21269\n"
     ]
    },
    {
     "name": "stderr",
     "output_type": "stream",
     "text": [
      "/Users/david/anaconda3/lib/python3.6/site-packages/boruta/boruta_py.py:418: RuntimeWarning: invalid value encountered in greater\n",
      "  hits = np.where(cur_imp[0] > imp_sha_max)[0]\n"
     ]
    },
    {
     "name": "stdout",
     "output_type": "stream",
     "text": [
      "Iteration: \t71 / 100\n",
      "Confirmed: \t83\n",
      "Tentative: \t52\n",
      "Rejected: \t21269\n"
     ]
    },
    {
     "name": "stderr",
     "output_type": "stream",
     "text": [
      "/Users/david/anaconda3/lib/python3.6/site-packages/boruta/boruta_py.py:418: RuntimeWarning: invalid value encountered in greater\n",
      "  hits = np.where(cur_imp[0] > imp_sha_max)[0]\n"
     ]
    },
    {
     "name": "stdout",
     "output_type": "stream",
     "text": [
      "Iteration: \t72 / 100\n",
      "Confirmed: \t83\n",
      "Tentative: \t49\n",
      "Rejected: \t21272\n"
     ]
    },
    {
     "name": "stderr",
     "output_type": "stream",
     "text": [
      "/Users/david/anaconda3/lib/python3.6/site-packages/boruta/boruta_py.py:418: RuntimeWarning: invalid value encountered in greater\n",
      "  hits = np.where(cur_imp[0] > imp_sha_max)[0]\n"
     ]
    },
    {
     "name": "stdout",
     "output_type": "stream",
     "text": [
      "Iteration: \t73 / 100\n",
      "Confirmed: \t83\n",
      "Tentative: \t49\n",
      "Rejected: \t21272\n"
     ]
    },
    {
     "name": "stderr",
     "output_type": "stream",
     "text": [
      "/Users/david/anaconda3/lib/python3.6/site-packages/boruta/boruta_py.py:418: RuntimeWarning: invalid value encountered in greater\n",
      "  hits = np.where(cur_imp[0] > imp_sha_max)[0]\n"
     ]
    },
    {
     "name": "stdout",
     "output_type": "stream",
     "text": [
      "Iteration: \t74 / 100\n",
      "Confirmed: \t83\n",
      "Tentative: \t49\n",
      "Rejected: \t21272\n"
     ]
    },
    {
     "name": "stderr",
     "output_type": "stream",
     "text": [
      "/Users/david/anaconda3/lib/python3.6/site-packages/boruta/boruta_py.py:418: RuntimeWarning: invalid value encountered in greater\n",
      "  hits = np.where(cur_imp[0] > imp_sha_max)[0]\n"
     ]
    },
    {
     "name": "stdout",
     "output_type": "stream",
     "text": [
      "Iteration: \t75 / 100\n",
      "Confirmed: \t83\n",
      "Tentative: \t47\n",
      "Rejected: \t21274\n"
     ]
    },
    {
     "name": "stderr",
     "output_type": "stream",
     "text": [
      "/Users/david/anaconda3/lib/python3.6/site-packages/boruta/boruta_py.py:418: RuntimeWarning: invalid value encountered in greater\n",
      "  hits = np.where(cur_imp[0] > imp_sha_max)[0]\n"
     ]
    },
    {
     "name": "stdout",
     "output_type": "stream",
     "text": [
      "Iteration: \t76 / 100\n",
      "Confirmed: \t83\n",
      "Tentative: \t47\n",
      "Rejected: \t21274\n"
     ]
    },
    {
     "name": "stderr",
     "output_type": "stream",
     "text": [
      "/Users/david/anaconda3/lib/python3.6/site-packages/boruta/boruta_py.py:418: RuntimeWarning: invalid value encountered in greater\n",
      "  hits = np.where(cur_imp[0] > imp_sha_max)[0]\n"
     ]
    },
    {
     "name": "stdout",
     "output_type": "stream",
     "text": [
      "Iteration: \t77 / 100\n",
      "Confirmed: \t83\n",
      "Tentative: \t45\n",
      "Rejected: \t21276\n"
     ]
    },
    {
     "name": "stderr",
     "output_type": "stream",
     "text": [
      "/Users/david/anaconda3/lib/python3.6/site-packages/boruta/boruta_py.py:418: RuntimeWarning: invalid value encountered in greater\n",
      "  hits = np.where(cur_imp[0] > imp_sha_max)[0]\n"
     ]
    },
    {
     "name": "stdout",
     "output_type": "stream",
     "text": [
      "Iteration: \t78 / 100\n",
      "Confirmed: \t83\n",
      "Tentative: \t45\n",
      "Rejected: \t21276\n"
     ]
    },
    {
     "name": "stderr",
     "output_type": "stream",
     "text": [
      "/Users/david/anaconda3/lib/python3.6/site-packages/boruta/boruta_py.py:418: RuntimeWarning: invalid value encountered in greater\n",
      "  hits = np.where(cur_imp[0] > imp_sha_max)[0]\n"
     ]
    },
    {
     "name": "stdout",
     "output_type": "stream",
     "text": [
      "Iteration: \t79 / 100\n",
      "Confirmed: \t83\n",
      "Tentative: \t45\n",
      "Rejected: \t21276\n"
     ]
    },
    {
     "name": "stderr",
     "output_type": "stream",
     "text": [
      "/Users/david/anaconda3/lib/python3.6/site-packages/boruta/boruta_py.py:418: RuntimeWarning: invalid value encountered in greater\n",
      "  hits = np.where(cur_imp[0] > imp_sha_max)[0]\n"
     ]
    },
    {
     "name": "stdout",
     "output_type": "stream",
     "text": [
      "Iteration: \t80 / 100\n",
      "Confirmed: \t83\n",
      "Tentative: \t42\n",
      "Rejected: \t21279\n"
     ]
    },
    {
     "name": "stderr",
     "output_type": "stream",
     "text": [
      "/Users/david/anaconda3/lib/python3.6/site-packages/boruta/boruta_py.py:418: RuntimeWarning: invalid value encountered in greater\n",
      "  hits = np.where(cur_imp[0] > imp_sha_max)[0]\n"
     ]
    },
    {
     "name": "stdout",
     "output_type": "stream",
     "text": [
      "Iteration: \t81 / 100\n",
      "Confirmed: \t83\n",
      "Tentative: \t42\n",
      "Rejected: \t21279\n"
     ]
    },
    {
     "name": "stderr",
     "output_type": "stream",
     "text": [
      "/Users/david/anaconda3/lib/python3.6/site-packages/boruta/boruta_py.py:418: RuntimeWarning: invalid value encountered in greater\n",
      "  hits = np.where(cur_imp[0] > imp_sha_max)[0]\n"
     ]
    },
    {
     "name": "stdout",
     "output_type": "stream",
     "text": [
      "Iteration: \t82 / 100\n",
      "Confirmed: \t83\n",
      "Tentative: \t42\n",
      "Rejected: \t21279\n"
     ]
    },
    {
     "name": "stderr",
     "output_type": "stream",
     "text": [
      "/Users/david/anaconda3/lib/python3.6/site-packages/boruta/boruta_py.py:418: RuntimeWarning: invalid value encountered in greater\n",
      "  hits = np.where(cur_imp[0] > imp_sha_max)[0]\n"
     ]
    },
    {
     "name": "stdout",
     "output_type": "stream",
     "text": [
      "Iteration: \t83 / 100\n",
      "Confirmed: \t83\n",
      "Tentative: \t40\n",
      "Rejected: \t21281\n"
     ]
    },
    {
     "name": "stderr",
     "output_type": "stream",
     "text": [
      "/Users/david/anaconda3/lib/python3.6/site-packages/boruta/boruta_py.py:418: RuntimeWarning: invalid value encountered in greater\n",
      "  hits = np.where(cur_imp[0] > imp_sha_max)[0]\n"
     ]
    },
    {
     "name": "stdout",
     "output_type": "stream",
     "text": [
      "Iteration: \t84 / 100\n",
      "Confirmed: \t83\n",
      "Tentative: \t40\n",
      "Rejected: \t21281\n"
     ]
    },
    {
     "name": "stderr",
     "output_type": "stream",
     "text": [
      "/Users/david/anaconda3/lib/python3.6/site-packages/boruta/boruta_py.py:418: RuntimeWarning: invalid value encountered in greater\n",
      "  hits = np.where(cur_imp[0] > imp_sha_max)[0]\n"
     ]
    },
    {
     "name": "stdout",
     "output_type": "stream",
     "text": [
      "Iteration: \t85 / 100\n",
      "Confirmed: \t83\n",
      "Tentative: \t39\n",
      "Rejected: \t21282\n"
     ]
    },
    {
     "name": "stderr",
     "output_type": "stream",
     "text": [
      "/Users/david/anaconda3/lib/python3.6/site-packages/boruta/boruta_py.py:418: RuntimeWarning: invalid value encountered in greater\n",
      "  hits = np.where(cur_imp[0] > imp_sha_max)[0]\n"
     ]
    },
    {
     "name": "stdout",
     "output_type": "stream",
     "text": [
      "Iteration: \t86 / 100\n",
      "Confirmed: \t83\n",
      "Tentative: \t39\n",
      "Rejected: \t21282\n"
     ]
    },
    {
     "name": "stderr",
     "output_type": "stream",
     "text": [
      "/Users/david/anaconda3/lib/python3.6/site-packages/boruta/boruta_py.py:418: RuntimeWarning: invalid value encountered in greater\n",
      "  hits = np.where(cur_imp[0] > imp_sha_max)[0]\n"
     ]
    },
    {
     "name": "stdout",
     "output_type": "stream",
     "text": [
      "Iteration: \t87 / 100\n",
      "Confirmed: \t83\n",
      "Tentative: \t39\n",
      "Rejected: \t21282\n"
     ]
    },
    {
     "name": "stderr",
     "output_type": "stream",
     "text": [
      "/Users/david/anaconda3/lib/python3.6/site-packages/boruta/boruta_py.py:418: RuntimeWarning: invalid value encountered in greater\n",
      "  hits = np.where(cur_imp[0] > imp_sha_max)[0]\n"
     ]
    },
    {
     "name": "stdout",
     "output_type": "stream",
     "text": [
      "Iteration: \t88 / 100\n",
      "Confirmed: \t83\n",
      "Tentative: \t37\n",
      "Rejected: \t21284\n"
     ]
    },
    {
     "name": "stderr",
     "output_type": "stream",
     "text": [
      "/Users/david/anaconda3/lib/python3.6/site-packages/boruta/boruta_py.py:418: RuntimeWarning: invalid value encountered in greater\n",
      "  hits = np.where(cur_imp[0] > imp_sha_max)[0]\n"
     ]
    },
    {
     "name": "stdout",
     "output_type": "stream",
     "text": [
      "Iteration: \t89 / 100\n",
      "Confirmed: \t83\n",
      "Tentative: \t37\n",
      "Rejected: \t21284\n"
     ]
    },
    {
     "name": "stderr",
     "output_type": "stream",
     "text": [
      "/Users/david/anaconda3/lib/python3.6/site-packages/boruta/boruta_py.py:418: RuntimeWarning: invalid value encountered in greater\n",
      "  hits = np.where(cur_imp[0] > imp_sha_max)[0]\n"
     ]
    },
    {
     "name": "stdout",
     "output_type": "stream",
     "text": [
      "Iteration: \t90 / 100\n",
      "Confirmed: \t83\n",
      "Tentative: \t34\n",
      "Rejected: \t21287\n"
     ]
    },
    {
     "name": "stderr",
     "output_type": "stream",
     "text": [
      "/Users/david/anaconda3/lib/python3.6/site-packages/boruta/boruta_py.py:418: RuntimeWarning: invalid value encountered in greater\n",
      "  hits = np.where(cur_imp[0] > imp_sha_max)[0]\n"
     ]
    },
    {
     "name": "stdout",
     "output_type": "stream",
     "text": [
      "Iteration: \t91 / 100\n",
      "Confirmed: \t83\n",
      "Tentative: \t34\n",
      "Rejected: \t21287\n"
     ]
    },
    {
     "name": "stderr",
     "output_type": "stream",
     "text": [
      "/Users/david/anaconda3/lib/python3.6/site-packages/boruta/boruta_py.py:418: RuntimeWarning: invalid value encountered in greater\n",
      "  hits = np.where(cur_imp[0] > imp_sha_max)[0]\n"
     ]
    },
    {
     "name": "stdout",
     "output_type": "stream",
     "text": [
      "Iteration: \t92 / 100\n",
      "Confirmed: \t83\n",
      "Tentative: \t34\n",
      "Rejected: \t21287\n"
     ]
    },
    {
     "name": "stderr",
     "output_type": "stream",
     "text": [
      "/Users/david/anaconda3/lib/python3.6/site-packages/boruta/boruta_py.py:418: RuntimeWarning: invalid value encountered in greater\n",
      "  hits = np.where(cur_imp[0] > imp_sha_max)[0]\n"
     ]
    },
    {
     "name": "stdout",
     "output_type": "stream",
     "text": [
      "Iteration: \t93 / 100\n",
      "Confirmed: \t83\n",
      "Tentative: \t33\n",
      "Rejected: \t21288\n"
     ]
    },
    {
     "name": "stderr",
     "output_type": "stream",
     "text": [
      "/Users/david/anaconda3/lib/python3.6/site-packages/boruta/boruta_py.py:418: RuntimeWarning: invalid value encountered in greater\n",
      "  hits = np.where(cur_imp[0] > imp_sha_max)[0]\n"
     ]
    },
    {
     "name": "stdout",
     "output_type": "stream",
     "text": [
      "Iteration: \t94 / 100\n",
      "Confirmed: \t83\n",
      "Tentative: \t33\n",
      "Rejected: \t21288\n"
     ]
    },
    {
     "name": "stderr",
     "output_type": "stream",
     "text": [
      "/Users/david/anaconda3/lib/python3.6/site-packages/boruta/boruta_py.py:418: RuntimeWarning: invalid value encountered in greater\n",
      "  hits = np.where(cur_imp[0] > imp_sha_max)[0]\n"
     ]
    },
    {
     "name": "stdout",
     "output_type": "stream",
     "text": [
      "Iteration: \t95 / 100\n",
      "Confirmed: \t83\n",
      "Tentative: \t32\n",
      "Rejected: \t21289\n"
     ]
    },
    {
     "name": "stderr",
     "output_type": "stream",
     "text": [
      "/Users/david/anaconda3/lib/python3.6/site-packages/boruta/boruta_py.py:418: RuntimeWarning: invalid value encountered in greater\n",
      "  hits = np.where(cur_imp[0] > imp_sha_max)[0]\n"
     ]
    },
    {
     "name": "stdout",
     "output_type": "stream",
     "text": [
      "Iteration: \t96 / 100\n",
      "Confirmed: \t83\n",
      "Tentative: \t32\n",
      "Rejected: \t21289\n"
     ]
    },
    {
     "name": "stderr",
     "output_type": "stream",
     "text": [
      "/Users/david/anaconda3/lib/python3.6/site-packages/boruta/boruta_py.py:418: RuntimeWarning: invalid value encountered in greater\n",
      "  hits = np.where(cur_imp[0] > imp_sha_max)[0]\n"
     ]
    },
    {
     "name": "stdout",
     "output_type": "stream",
     "text": [
      "Iteration: \t97 / 100\n",
      "Confirmed: \t83\n",
      "Tentative: \t32\n",
      "Rejected: \t21289\n"
     ]
    },
    {
     "name": "stderr",
     "output_type": "stream",
     "text": [
      "/Users/david/anaconda3/lib/python3.6/site-packages/boruta/boruta_py.py:418: RuntimeWarning: invalid value encountered in greater\n",
      "  hits = np.where(cur_imp[0] > imp_sha_max)[0]\n"
     ]
    },
    {
     "name": "stdout",
     "output_type": "stream",
     "text": [
      "Iteration: \t98 / 100\n",
      "Confirmed: \t83\n",
      "Tentative: \t32\n",
      "Rejected: \t21289\n"
     ]
    },
    {
     "name": "stderr",
     "output_type": "stream",
     "text": [
      "/Users/david/anaconda3/lib/python3.6/site-packages/boruta/boruta_py.py:418: RuntimeWarning: invalid value encountered in greater\n",
      "  hits = np.where(cur_imp[0] > imp_sha_max)[0]\n"
     ]
    },
    {
     "name": "stdout",
     "output_type": "stream",
     "text": [
      "Iteration: \t99 / 100\n",
      "Confirmed: \t83\n",
      "Tentative: \t32\n",
      "Rejected: \t21289\n",
      "\n",
      "\n",
      "BorutaPy finished running.\n",
      "\n",
      "Iteration: \t100 / 100\n",
      "Confirmed: \t83\n",
      "Tentative: \t4\n",
      "Rejected: \t21289\n"
     ]
    },
    {
     "data": {
      "text/plain": [
       "BorutaPy(alpha=0.05,\n",
       "     estimator=RandomForestClassifier(bootstrap=True, class_weight=None, criterion='gini',\n",
       "            max_depth=20, max_features='auto', max_leaf_nodes=None,\n",
       "            min_impurity_decrease=0.0, min_impurity_split=None,\n",
       "            min_samples_leaf=1, min_samples_split=2,\n",
       "            min_weight_fraction_leaf=0.0, n_estimators=75, n_jobs=-1,\n",
       "            oob_score=False,\n",
       "            random_state=<mtrand.RandomState object at 0x1a2be70af8>,\n",
       "            verbose=0, warm_start=False),\n",
       "     max_iter=100, n_estimators='auto', perc=100,\n",
       "     random_state=<mtrand.RandomState object at 0x1a2be70af8>,\n",
       "     two_step=True, verbose=2)"
      ]
     },
     "execution_count": 44,
     "metadata": {},
     "output_type": "execute_result"
    }
   ],
   "source": [
    "feat_selector.fit(X, y)"
   ]
  },
  {
   "cell_type": "code",
   "execution_count": 45,
   "metadata": {},
   "outputs": [
    {
     "name": "stdout",
     "output_type": "stream",
     "text": [
      "[False False False ... False False False]\n",
      "\n",
      "Selected Feature Matrix Shape\n",
      "(137, 83)\n"
     ]
    }
   ],
   "source": [
    "\n",
    "# Check selected features\n",
    "print(feat_selector.support_)\n",
    "# Select the chosen features from our dataframe.\n",
    "selected = X[:, feat_selector.support_]\n",
    "print (\"\")\n",
    "print (\"Selected Feature Matrix Shape\")\n",
    "print (selected.shape)"
   ]
  },
  {
   "cell_type": "code",
   "execution_count": 53,
   "metadata": {},
   "outputs": [],
   "source": [
    "X_filtered = feat_selector.transform(X)"
   ]
  },
  {
   "cell_type": "code",
   "execution_count": 57,
   "metadata": {},
   "outputs": [],
   "source": [
    "boruta_mask = feat_selector.support_"
   ]
  },
  {
   "cell_type": "code",
   "execution_count": 59,
   "metadata": {},
   "outputs": [
    {
     "data": {
      "text/html": [
       "<div>\n",
       "<style scoped>\n",
       "    .dataframe tbody tr th:only-of-type {\n",
       "        vertical-align: middle;\n",
       "    }\n",
       "\n",
       "    .dataframe tbody tr th {\n",
       "        vertical-align: top;\n",
       "    }\n",
       "\n",
       "    .dataframe thead th {\n",
       "        text-align: right;\n",
       "    }\n",
       "</style>\n",
       "<table border=\"1\" class=\"dataframe\">\n",
       "  <thead>\n",
       "    <tr style=\"text-align: right;\">\n",
       "      <th></th>\n",
       "      <th>ENSG00000005381.7</th>\n",
       "      <th>ENSG00000007516.12</th>\n",
       "      <th>ENSG00000010319.5</th>\n",
       "      <th>ENSG00000019991.14</th>\n",
       "      <th>ENSG00000037280.14</th>\n",
       "      <th>ENSG00000078399.14</th>\n",
       "      <th>ENSG00000078596.9</th>\n",
       "      <th>ENSG00000087495.15</th>\n",
       "      <th>ENSG00000091490.9</th>\n",
       "      <th>ENSG00000102595.17</th>\n",
       "      <th>...</th>\n",
       "      <th>ENSG00000253552.6</th>\n",
       "      <th>ENSG00000254006.4</th>\n",
       "      <th>ENSG00000254369.5</th>\n",
       "      <th>ENSG00000257718.1</th>\n",
       "      <th>ENSG00000260182.1</th>\n",
       "      <th>ENSG00000267453.5</th>\n",
       "      <th>ENSG00000270182.1</th>\n",
       "      <th>ENSG00000271447.4</th>\n",
       "      <th>ENSG00000275325.3</th>\n",
       "      <th>ENSG00000276141.3</th>\n",
       "    </tr>\n",
       "  </thead>\n",
       "  <tbody>\n",
       "    <tr>\n",
       "      <th>0</th>\n",
       "      <td>9.286936</td>\n",
       "      <td>-0.113784</td>\n",
       "      <td>-1.750790</td>\n",
       "      <td>3.812985</td>\n",
       "      <td>0.005868</td>\n",
       "      <td>5.789605</td>\n",
       "      <td>4.493499</td>\n",
       "      <td>-5.229235</td>\n",
       "      <td>5.300797</td>\n",
       "      <td>2.778719</td>\n",
       "      <td>...</td>\n",
       "      <td>2.429504</td>\n",
       "      <td>3.409331</td>\n",
       "      <td>2.034270</td>\n",
       "      <td>-1.843229</td>\n",
       "      <td>-3.842906</td>\n",
       "      <td>-4.122922</td>\n",
       "      <td>-0.786090</td>\n",
       "      <td>-1.189264</td>\n",
       "      <td>3.420971</td>\n",
       "      <td>3.454526</td>\n",
       "    </tr>\n",
       "    <tr>\n",
       "      <th>1</th>\n",
       "      <td>7.392326</td>\n",
       "      <td>-1.488071</td>\n",
       "      <td>-0.837409</td>\n",
       "      <td>2.241607</td>\n",
       "      <td>0.637927</td>\n",
       "      <td>5.569530</td>\n",
       "      <td>-1.449441</td>\n",
       "      <td>5.456154</td>\n",
       "      <td>6.411132</td>\n",
       "      <td>1.775352</td>\n",
       "      <td>...</td>\n",
       "      <td>-0.544956</td>\n",
       "      <td>3.153615</td>\n",
       "      <td>1.725578</td>\n",
       "      <td>-0.372430</td>\n",
       "      <td>-6.927145</td>\n",
       "      <td>-6.927145</td>\n",
       "      <td>-0.672618</td>\n",
       "      <td>-3.719059</td>\n",
       "      <td>1.597685</td>\n",
       "      <td>4.621725</td>\n",
       "    </tr>\n",
       "    <tr>\n",
       "      <th>2</th>\n",
       "      <td>10.334960</td>\n",
       "      <td>0.097350</td>\n",
       "      <td>-4.242724</td>\n",
       "      <td>3.508732</td>\n",
       "      <td>-3.009389</td>\n",
       "      <td>6.743347</td>\n",
       "      <td>6.501300</td>\n",
       "      <td>0.023300</td>\n",
       "      <td>5.880079</td>\n",
       "      <td>2.703005</td>\n",
       "      <td>...</td>\n",
       "      <td>2.807812</td>\n",
       "      <td>-1.351749</td>\n",
       "      <td>2.471996</td>\n",
       "      <td>-2.228379</td>\n",
       "      <td>-4.242724</td>\n",
       "      <td>-3.651368</td>\n",
       "      <td>-1.319270</td>\n",
       "      <td>0.714352</td>\n",
       "      <td>-2.289987</td>\n",
       "      <td>2.947833</td>\n",
       "    </tr>\n",
       "    <tr>\n",
       "      <th>3</th>\n",
       "      <td>10.486954</td>\n",
       "      <td>2.964257</td>\n",
       "      <td>-5.409141</td>\n",
       "      <td>5.305230</td>\n",
       "      <td>4.538731</td>\n",
       "      <td>-3.114891</td>\n",
       "      <td>8.444448</td>\n",
       "      <td>-6.927145</td>\n",
       "      <td>3.000603</td>\n",
       "      <td>-4.206464</td>\n",
       "      <td>...</td>\n",
       "      <td>-2.071195</td>\n",
       "      <td>-6.927145</td>\n",
       "      <td>-3.847206</td>\n",
       "      <td>-6.927145</td>\n",
       "      <td>0.471643</td>\n",
       "      <td>4.032636</td>\n",
       "      <td>-6.927145</td>\n",
       "      <td>1.742946</td>\n",
       "      <td>-5.409141</td>\n",
       "      <td>0.785465</td>\n",
       "    </tr>\n",
       "    <tr>\n",
       "      <th>4</th>\n",
       "      <td>4.546111</td>\n",
       "      <td>0.438541</td>\n",
       "      <td>-4.532672</td>\n",
       "      <td>3.050108</td>\n",
       "      <td>-2.317262</td>\n",
       "      <td>7.348238</td>\n",
       "      <td>6.992201</td>\n",
       "      <td>-5.281478</td>\n",
       "      <td>5.321255</td>\n",
       "      <td>1.559325</td>\n",
       "      <td>...</td>\n",
       "      <td>2.882265</td>\n",
       "      <td>-1.412789</td>\n",
       "      <td>3.673684</td>\n",
       "      <td>-0.688504</td>\n",
       "      <td>-1.284291</td>\n",
       "      <td>-0.463034</td>\n",
       "      <td>1.377005</td>\n",
       "      <td>1.626257</td>\n",
       "      <td>3.627464</td>\n",
       "      <td>4.800030</td>\n",
       "    </tr>\n",
       "    <tr>\n",
       "      <th>5</th>\n",
       "      <td>5.096942</td>\n",
       "      <td>1.506856</td>\n",
       "      <td>-1.239572</td>\n",
       "      <td>3.225910</td>\n",
       "      <td>-1.355028</td>\n",
       "      <td>7.789516</td>\n",
       "      <td>5.515065</td>\n",
       "      <td>4.090409</td>\n",
       "      <td>6.468199</td>\n",
       "      <td>3.332376</td>\n",
       "      <td>...</td>\n",
       "      <td>1.452092</td>\n",
       "      <td>0.326607</td>\n",
       "      <td>1.408504</td>\n",
       "      <td>-3.938618</td>\n",
       "      <td>-3.938618</td>\n",
       "      <td>-0.094660</td>\n",
       "      <td>-1.385395</td>\n",
       "      <td>-1.480534</td>\n",
       "      <td>-1.158665</td>\n",
       "      <td>2.927028</td>\n",
       "    </tr>\n",
       "    <tr>\n",
       "      <th>6</th>\n",
       "      <td>9.262971</td>\n",
       "      <td>1.852100</td>\n",
       "      <td>-2.515461</td>\n",
       "      <td>1.938281</td>\n",
       "      <td>0.186379</td>\n",
       "      <td>2.495218</td>\n",
       "      <td>7.360383</td>\n",
       "      <td>-2.765002</td>\n",
       "      <td>3.778406</td>\n",
       "      <td>-2.176636</td>\n",
       "      <td>...</td>\n",
       "      <td>-0.042116</td>\n",
       "      <td>-4.796006</td>\n",
       "      <td>-1.511167</td>\n",
       "      <td>-4.197181</td>\n",
       "      <td>-3.970853</td>\n",
       "      <td>-2.117470</td>\n",
       "      <td>-5.838408</td>\n",
       "      <td>0.310063</td>\n",
       "      <td>-2.959109</td>\n",
       "      <td>2.471327</td>\n",
       "    </tr>\n",
       "    <tr>\n",
       "      <th>7</th>\n",
       "      <td>7.006890</td>\n",
       "      <td>-0.516389</td>\n",
       "      <td>-3.693250</td>\n",
       "      <td>3.748392</td>\n",
       "      <td>-0.666509</td>\n",
       "      <td>8.141847</td>\n",
       "      <td>5.644708</td>\n",
       "      <td>4.945910</td>\n",
       "      <td>6.268125</td>\n",
       "      <td>1.427026</td>\n",
       "      <td>...</td>\n",
       "      <td>-1.150738</td>\n",
       "      <td>0.208036</td>\n",
       "      <td>1.047612</td>\n",
       "      <td>-2.214322</td>\n",
       "      <td>-5.504046</td>\n",
       "      <td>1.853887</td>\n",
       "      <td>-4.801752</td>\n",
       "      <td>-1.813104</td>\n",
       "      <td>-3.252316</td>\n",
       "      <td>-0.906973</td>\n",
       "    </tr>\n",
       "    <tr>\n",
       "      <th>8</th>\n",
       "      <td>9.334855</td>\n",
       "      <td>0.676630</td>\n",
       "      <td>-0.675797</td>\n",
       "      <td>0.833047</td>\n",
       "      <td>-4.555115</td>\n",
       "      <td>9.306593</td>\n",
       "      <td>3.672716</td>\n",
       "      <td>2.924680</td>\n",
       "      <td>5.558583</td>\n",
       "      <td>2.691640</td>\n",
       "      <td>...</td>\n",
       "      <td>3.098532</td>\n",
       "      <td>0.175498</td>\n",
       "      <td>4.077454</td>\n",
       "      <td>-1.822241</td>\n",
       "      <td>-4.555115</td>\n",
       "      <td>-2.780917</td>\n",
       "      <td>1.283053</td>\n",
       "      <td>-5.007058</td>\n",
       "      <td>-2.899059</td>\n",
       "      <td>1.117967</td>\n",
       "    </tr>\n",
       "    <tr>\n",
       "      <th>9</th>\n",
       "      <td>8.558828</td>\n",
       "      <td>1.306152</td>\n",
       "      <td>-2.440188</td>\n",
       "      <td>4.077044</td>\n",
       "      <td>-2.776064</td>\n",
       "      <td>6.768203</td>\n",
       "      <td>6.642203</td>\n",
       "      <td>3.315920</td>\n",
       "      <td>4.592519</td>\n",
       "      <td>4.274256</td>\n",
       "      <td>...</td>\n",
       "      <td>2.209014</td>\n",
       "      <td>-3.847896</td>\n",
       "      <td>2.717071</td>\n",
       "      <td>-1.442395</td>\n",
       "      <td>-0.618928</td>\n",
       "      <td>-4.686564</td>\n",
       "      <td>-0.158295</td>\n",
       "      <td>-2.381471</td>\n",
       "      <td>-2.026254</td>\n",
       "      <td>0.413987</td>\n",
       "    </tr>\n",
       "    <tr>\n",
       "      <th>10</th>\n",
       "      <td>11.271300</td>\n",
       "      <td>-2.259038</td>\n",
       "      <td>-2.104559</td>\n",
       "      <td>-3.126997</td>\n",
       "      <td>1.482498</td>\n",
       "      <td>8.036262</td>\n",
       "      <td>2.522484</td>\n",
       "      <td>-2.985388</td>\n",
       "      <td>4.177463</td>\n",
       "      <td>3.025424</td>\n",
       "      <td>...</td>\n",
       "      <td>1.728472</td>\n",
       "      <td>3.605010</td>\n",
       "      <td>3.457773</td>\n",
       "      <td>-0.740592</td>\n",
       "      <td>-3.460276</td>\n",
       "      <td>-0.434091</td>\n",
       "      <td>1.381524</td>\n",
       "      <td>-3.460276</td>\n",
       "      <td>3.974656</td>\n",
       "      <td>5.172892</td>\n",
       "    </tr>\n",
       "    <tr>\n",
       "      <th>11</th>\n",
       "      <td>8.288355</td>\n",
       "      <td>-0.600540</td>\n",
       "      <td>-1.163728</td>\n",
       "      <td>1.241659</td>\n",
       "      <td>0.180367</td>\n",
       "      <td>7.790893</td>\n",
       "      <td>5.739146</td>\n",
       "      <td>-4.970281</td>\n",
       "      <td>2.854318</td>\n",
       "      <td>1.888619</td>\n",
       "      <td>...</td>\n",
       "      <td>2.818439</td>\n",
       "      <td>-0.030279</td>\n",
       "      <td>3.291222</td>\n",
       "      <td>-1.773904</td>\n",
       "      <td>-6.927145</td>\n",
       "      <td>-3.890566</td>\n",
       "      <td>-0.794318</td>\n",
       "      <td>-2.175491</td>\n",
       "      <td>4.179039</td>\n",
       "      <td>5.391864</td>\n",
       "    </tr>\n",
       "    <tr>\n",
       "      <th>12</th>\n",
       "      <td>12.960240</td>\n",
       "      <td>4.444138</td>\n",
       "      <td>-4.279923</td>\n",
       "      <td>5.248116</td>\n",
       "      <td>4.886729</td>\n",
       "      <td>-6.927145</td>\n",
       "      <td>9.068959</td>\n",
       "      <td>-3.399924</td>\n",
       "      <td>0.901803</td>\n",
       "      <td>-2.713901</td>\n",
       "      <td>...</td>\n",
       "      <td>-4.754103</td>\n",
       "      <td>-6.927145</td>\n",
       "      <td>-6.927145</td>\n",
       "      <td>-6.927145</td>\n",
       "      <td>5.699828</td>\n",
       "      <td>7.944961</td>\n",
       "      <td>-6.927145</td>\n",
       "      <td>4.448909</td>\n",
       "      <td>-5.465163</td>\n",
       "      <td>-1.684840</td>\n",
       "    </tr>\n",
       "    <tr>\n",
       "      <th>13</th>\n",
       "      <td>13.351231</td>\n",
       "      <td>1.666744</td>\n",
       "      <td>-3.070317</td>\n",
       "      <td>3.539805</td>\n",
       "      <td>3.192874</td>\n",
       "      <td>-1.147001</td>\n",
       "      <td>7.795944</td>\n",
       "      <td>-6.927145</td>\n",
       "      <td>1.466389</td>\n",
       "      <td>-4.165700</td>\n",
       "      <td>...</td>\n",
       "      <td>-6.927145</td>\n",
       "      <td>-6.927145</td>\n",
       "      <td>-6.927145</td>\n",
       "      <td>-6.927145</td>\n",
       "      <td>-2.334808</td>\n",
       "      <td>6.918226</td>\n",
       "      <td>-6.927145</td>\n",
       "      <td>3.676502</td>\n",
       "      <td>-6.927145</td>\n",
       "      <td>-1.694046</td>\n",
       "    </tr>\n",
       "    <tr>\n",
       "      <th>14</th>\n",
       "      <td>3.745859</td>\n",
       "      <td>0.659900</td>\n",
       "      <td>-0.554323</td>\n",
       "      <td>3.496255</td>\n",
       "      <td>0.054076</td>\n",
       "      <td>8.002258</td>\n",
       "      <td>5.452960</td>\n",
       "      <td>-2.288511</td>\n",
       "      <td>3.550044</td>\n",
       "      <td>3.822534</td>\n",
       "      <td>...</td>\n",
       "      <td>4.816334</td>\n",
       "      <td>-4.964358</td>\n",
       "      <td>5.424843</td>\n",
       "      <td>-2.247146</td>\n",
       "      <td>-5.634910</td>\n",
       "      <td>-6.927145</td>\n",
       "      <td>-0.228315</td>\n",
       "      <td>-2.331096</td>\n",
       "      <td>5.148446</td>\n",
       "      <td>5.430431</td>\n",
       "    </tr>\n",
       "    <tr>\n",
       "      <th>15</th>\n",
       "      <td>7.327343</td>\n",
       "      <td>1.333886</td>\n",
       "      <td>-5.270266</td>\n",
       "      <td>0.073382</td>\n",
       "      <td>-1.207960</td>\n",
       "      <td>7.973586</td>\n",
       "      <td>2.952450</td>\n",
       "      <td>1.162015</td>\n",
       "      <td>4.753515</td>\n",
       "      <td>0.953746</td>\n",
       "      <td>...</td>\n",
       "      <td>2.754833</td>\n",
       "      <td>-0.080065</td>\n",
       "      <td>2.503448</td>\n",
       "      <td>-1.150162</td>\n",
       "      <td>-4.519338</td>\n",
       "      <td>-0.555120</td>\n",
       "      <td>-0.221719</td>\n",
       "      <td>-2.433155</td>\n",
       "      <td>-6.927145</td>\n",
       "      <td>-0.412390</td>\n",
       "    </tr>\n",
       "    <tr>\n",
       "      <th>16</th>\n",
       "      <td>12.331135</td>\n",
       "      <td>1.307852</td>\n",
       "      <td>-4.567512</td>\n",
       "      <td>7.812066</td>\n",
       "      <td>2.443942</td>\n",
       "      <td>3.908526</td>\n",
       "      <td>7.841625</td>\n",
       "      <td>-5.677721</td>\n",
       "      <td>2.237826</td>\n",
       "      <td>-3.042093</td>\n",
       "      <td>...</td>\n",
       "      <td>-1.958859</td>\n",
       "      <td>-6.927145</td>\n",
       "      <td>-3.947609</td>\n",
       "      <td>-5.018359</td>\n",
       "      <td>2.298834</td>\n",
       "      <td>4.186574</td>\n",
       "      <td>-6.927145</td>\n",
       "      <td>2.559252</td>\n",
       "      <td>-3.339813</td>\n",
       "      <td>2.107480</td>\n",
       "    </tr>\n",
       "    <tr>\n",
       "      <th>17</th>\n",
       "      <td>13.205593</td>\n",
       "      <td>4.539894</td>\n",
       "      <td>-6.927145</td>\n",
       "      <td>5.088235</td>\n",
       "      <td>1.632942</td>\n",
       "      <td>-6.927145</td>\n",
       "      <td>6.700610</td>\n",
       "      <td>-5.395259</td>\n",
       "      <td>2.795098</td>\n",
       "      <td>-6.927145</td>\n",
       "      <td>...</td>\n",
       "      <td>-6.927145</td>\n",
       "      <td>-6.927145</td>\n",
       "      <td>-6.927145</td>\n",
       "      <td>-6.927145</td>\n",
       "      <td>2.775582</td>\n",
       "      <td>-0.348481</td>\n",
       "      <td>-6.927145</td>\n",
       "      <td>3.485401</td>\n",
       "      <td>-6.927145</td>\n",
       "      <td>-2.480360</td>\n",
       "    </tr>\n",
       "    <tr>\n",
       "      <th>18</th>\n",
       "      <td>11.259260</td>\n",
       "      <td>-0.300959</td>\n",
       "      <td>-2.414508</td>\n",
       "      <td>-3.109942</td>\n",
       "      <td>-0.352885</td>\n",
       "      <td>4.301775</td>\n",
       "      <td>6.202193</td>\n",
       "      <td>-0.990716</td>\n",
       "      <td>5.118736</td>\n",
       "      <td>-4.759710</td>\n",
       "      <td>...</td>\n",
       "      <td>0.007788</td>\n",
       "      <td>1.287015</td>\n",
       "      <td>-0.990716</td>\n",
       "      <td>-0.033988</td>\n",
       "      <td>-4.097008</td>\n",
       "      <td>-6.021748</td>\n",
       "      <td>-3.300732</td>\n",
       "      <td>-0.970294</td>\n",
       "      <td>3.855107</td>\n",
       "      <td>4.087158</td>\n",
       "    </tr>\n",
       "    <tr>\n",
       "      <th>19</th>\n",
       "      <td>-1.601508</td>\n",
       "      <td>1.934010</td>\n",
       "      <td>-1.305767</td>\n",
       "      <td>5.111045</td>\n",
       "      <td>-2.477259</td>\n",
       "      <td>8.282055</td>\n",
       "      <td>3.071292</td>\n",
       "      <td>2.646889</td>\n",
       "      <td>6.369512</td>\n",
       "      <td>3.343560</td>\n",
       "      <td>...</td>\n",
       "      <td>1.030840</td>\n",
       "      <td>-0.596060</td>\n",
       "      <td>1.837869</td>\n",
       "      <td>-6.927145</td>\n",
       "      <td>-6.927145</td>\n",
       "      <td>-5.723360</td>\n",
       "      <td>1.235003</td>\n",
       "      <td>-4.016957</td>\n",
       "      <td>-0.339922</td>\n",
       "      <td>0.095665</td>\n",
       "    </tr>\n",
       "    <tr>\n",
       "      <th>20</th>\n",
       "      <td>12.284777</td>\n",
       "      <td>3.531049</td>\n",
       "      <td>-6.927145</td>\n",
       "      <td>4.901676</td>\n",
       "      <td>4.991253</td>\n",
       "      <td>3.920134</td>\n",
       "      <td>8.538606</td>\n",
       "      <td>-6.927145</td>\n",
       "      <td>2.566884</td>\n",
       "      <td>-3.287882</td>\n",
       "      <td>...</td>\n",
       "      <td>0.283024</td>\n",
       "      <td>-6.927145</td>\n",
       "      <td>-3.816084</td>\n",
       "      <td>-6.927145</td>\n",
       "      <td>2.547649</td>\n",
       "      <td>3.378289</td>\n",
       "      <td>-6.927145</td>\n",
       "      <td>3.983059</td>\n",
       "      <td>-4.658085</td>\n",
       "      <td>-3.527943</td>\n",
       "    </tr>\n",
       "    <tr>\n",
       "      <th>21</th>\n",
       "      <td>10.974385</td>\n",
       "      <td>0.902777</td>\n",
       "      <td>-0.685557</td>\n",
       "      <td>0.649005</td>\n",
       "      <td>1.172762</td>\n",
       "      <td>7.693362</td>\n",
       "      <td>1.382944</td>\n",
       "      <td>4.125813</td>\n",
       "      <td>6.240702</td>\n",
       "      <td>3.304072</td>\n",
       "      <td>...</td>\n",
       "      <td>1.769235</td>\n",
       "      <td>1.166092</td>\n",
       "      <td>2.933795</td>\n",
       "      <td>-1.690629</td>\n",
       "      <td>-3.296058</td>\n",
       "      <td>-5.747291</td>\n",
       "      <td>0.658541</td>\n",
       "      <td>-2.910429</td>\n",
       "      <td>4.278178</td>\n",
       "      <td>5.843266</td>\n",
       "    </tr>\n",
       "    <tr>\n",
       "      <th>22</th>\n",
       "      <td>9.465475</td>\n",
       "      <td>1.027941</td>\n",
       "      <td>1.527710</td>\n",
       "      <td>3.253799</td>\n",
       "      <td>-1.156331</td>\n",
       "      <td>8.308223</td>\n",
       "      <td>-0.718573</td>\n",
       "      <td>4.587148</td>\n",
       "      <td>4.394154</td>\n",
       "      <td>1.338272</td>\n",
       "      <td>...</td>\n",
       "      <td>-1.511371</td>\n",
       "      <td>1.840215</td>\n",
       "      <td>3.393039</td>\n",
       "      <td>-1.850107</td>\n",
       "      <td>-6.927145</td>\n",
       "      <td>-4.476496</td>\n",
       "      <td>2.478927</td>\n",
       "      <td>-4.476496</td>\n",
       "      <td>-2.209559</td>\n",
       "      <td>-1.511371</td>\n",
       "    </tr>\n",
       "    <tr>\n",
       "      <th>23</th>\n",
       "      <td>6.451748</td>\n",
       "      <td>-0.129595</td>\n",
       "      <td>-4.008380</td>\n",
       "      <td>4.171350</td>\n",
       "      <td>-1.792828</td>\n",
       "      <td>8.937013</td>\n",
       "      <td>2.671493</td>\n",
       "      <td>3.300734</td>\n",
       "      <td>4.954788</td>\n",
       "      <td>2.913717</td>\n",
       "      <td>...</td>\n",
       "      <td>3.892123</td>\n",
       "      <td>0.880903</td>\n",
       "      <td>3.371593</td>\n",
       "      <td>-3.777498</td>\n",
       "      <td>-5.717756</td>\n",
       "      <td>-1.688850</td>\n",
       "      <td>-0.079416</td>\n",
       "      <td>-3.578518</td>\n",
       "      <td>-1.500990</td>\n",
       "      <td>1.618672</td>\n",
       "    </tr>\n",
       "    <tr>\n",
       "      <th>24</th>\n",
       "      <td>12.607130</td>\n",
       "      <td>4.313693</td>\n",
       "      <td>-4.744416</td>\n",
       "      <td>5.452470</td>\n",
       "      <td>5.408024</td>\n",
       "      <td>-5.802791</td>\n",
       "      <td>7.616243</td>\n",
       "      <td>-5.178651</td>\n",
       "      <td>2.982075</td>\n",
       "      <td>-3.004903</td>\n",
       "      <td>...</td>\n",
       "      <td>-3.121809</td>\n",
       "      <td>-6.927145</td>\n",
       "      <td>-4.411091</td>\n",
       "      <td>-6.927145</td>\n",
       "      <td>3.687649</td>\n",
       "      <td>7.227554</td>\n",
       "      <td>-6.927145</td>\n",
       "      <td>3.645792</td>\n",
       "      <td>-4.411091</td>\n",
       "      <td>0.167771</td>\n",
       "    </tr>\n",
       "    <tr>\n",
       "      <th>25</th>\n",
       "      <td>12.072510</td>\n",
       "      <td>0.230044</td>\n",
       "      <td>-6.927145</td>\n",
       "      <td>6.355282</td>\n",
       "      <td>-2.166447</td>\n",
       "      <td>-4.685350</td>\n",
       "      <td>8.432080</td>\n",
       "      <td>-2.774610</td>\n",
       "      <td>0.760349</td>\n",
       "      <td>-4.205821</td>\n",
       "      <td>...</td>\n",
       "      <td>-2.166447</td>\n",
       "      <td>0.665965</td>\n",
       "      <td>-4.685350</td>\n",
       "      <td>-6.927145</td>\n",
       "      <td>-1.739948</td>\n",
       "      <td>7.992392</td>\n",
       "      <td>-6.927145</td>\n",
       "      <td>-0.084663</td>\n",
       "      <td>-5.408647</td>\n",
       "      <td>2.019295</td>\n",
       "    </tr>\n",
       "    <tr>\n",
       "      <th>26</th>\n",
       "      <td>12.387536</td>\n",
       "      <td>4.317554</td>\n",
       "      <td>-5.621570</td>\n",
       "      <td>6.369117</td>\n",
       "      <td>4.145843</td>\n",
       "      <td>-5.621570</td>\n",
       "      <td>8.152776</td>\n",
       "      <td>-6.927145</td>\n",
       "      <td>1.946421</td>\n",
       "      <td>-2.309543</td>\n",
       "      <td>...</td>\n",
       "      <td>-3.094619</td>\n",
       "      <td>-5.621570</td>\n",
       "      <td>-6.927145</td>\n",
       "      <td>-6.927145</td>\n",
       "      <td>3.314646</td>\n",
       "      <td>5.223701</td>\n",
       "      <td>-6.927145</td>\n",
       "      <td>2.858507</td>\n",
       "      <td>-4.947615</td>\n",
       "      <td>-2.070924</td>\n",
       "    </tr>\n",
       "    <tr>\n",
       "      <th>27</th>\n",
       "      <td>4.754528</td>\n",
       "      <td>0.546530</td>\n",
       "      <td>-0.359900</td>\n",
       "      <td>4.382744</td>\n",
       "      <td>-2.902616</td>\n",
       "      <td>8.197348</td>\n",
       "      <td>-0.737168</td>\n",
       "      <td>6.163408</td>\n",
       "      <td>5.949858</td>\n",
       "      <td>0.998901</td>\n",
       "      <td>...</td>\n",
       "      <td>1.134687</td>\n",
       "      <td>-0.499203</td>\n",
       "      <td>1.823945</td>\n",
       "      <td>-2.283140</td>\n",
       "      <td>-5.257188</td>\n",
       "      <td>-4.503808</td>\n",
       "      <td>-0.613285</td>\n",
       "      <td>-4.503808</td>\n",
       "      <td>3.703277</td>\n",
       "      <td>5.089913</td>\n",
       "    </tr>\n",
       "    <tr>\n",
       "      <th>28</th>\n",
       "      <td>10.680093</td>\n",
       "      <td>-0.371074</td>\n",
       "      <td>-2.443882</td>\n",
       "      <td>6.138784</td>\n",
       "      <td>0.336053</td>\n",
       "      <td>-2.903735</td>\n",
       "      <td>4.971442</td>\n",
       "      <td>-4.447262</td>\n",
       "      <td>1.557173</td>\n",
       "      <td>-1.636044</td>\n",
       "      <td>...</td>\n",
       "      <td>-3.203653</td>\n",
       "      <td>2.157110</td>\n",
       "      <td>-4.908387</td>\n",
       "      <td>-5.590191</td>\n",
       "      <td>-1.287983</td>\n",
       "      <td>2.941706</td>\n",
       "      <td>-6.927145</td>\n",
       "      <td>-1.580879</td>\n",
       "      <td>-3.817639</td>\n",
       "      <td>-0.654586</td>\n",
       "    </tr>\n",
       "    <tr>\n",
       "      <th>29</th>\n",
       "      <td>11.460361</td>\n",
       "      <td>2.710350</td>\n",
       "      <td>-4.524340</td>\n",
       "      <td>3.243293</td>\n",
       "      <td>6.975872</td>\n",
       "      <td>-0.007418</td>\n",
       "      <td>8.455515</td>\n",
       "      <td>-4.033306</td>\n",
       "      <td>2.260546</td>\n",
       "      <td>-3.376151</td>\n",
       "      <td>...</td>\n",
       "      <td>-4.033306</td>\n",
       "      <td>-6.927145</td>\n",
       "      <td>-5.876068</td>\n",
       "      <td>-6.927145</td>\n",
       "      <td>0.960725</td>\n",
       "      <td>2.470024</td>\n",
       "      <td>-5.876068</td>\n",
       "      <td>5.007706</td>\n",
       "      <td>-0.874107</td>\n",
       "      <td>-1.274215</td>\n",
       "    </tr>\n",
       "    <tr>\n",
       "      <th>...</th>\n",
       "      <td>...</td>\n",
       "      <td>...</td>\n",
       "      <td>...</td>\n",
       "      <td>...</td>\n",
       "      <td>...</td>\n",
       "      <td>...</td>\n",
       "      <td>...</td>\n",
       "      <td>...</td>\n",
       "      <td>...</td>\n",
       "      <td>...</td>\n",
       "      <td>...</td>\n",
       "      <td>...</td>\n",
       "      <td>...</td>\n",
       "      <td>...</td>\n",
       "      <td>...</td>\n",
       "      <td>...</td>\n",
       "      <td>...</td>\n",
       "      <td>...</td>\n",
       "      <td>...</td>\n",
       "      <td>...</td>\n",
       "      <td>...</td>\n",
       "    </tr>\n",
       "    <tr>\n",
       "      <th>107</th>\n",
       "      <td>7.547806</td>\n",
       "      <td>-1.096111</td>\n",
       "      <td>-6.927145</td>\n",
       "      <td>3.556034</td>\n",
       "      <td>-2.631258</td>\n",
       "      <td>7.838550</td>\n",
       "      <td>6.476562</td>\n",
       "      <td>-2.511861</td>\n",
       "      <td>4.289860</td>\n",
       "      <td>-3.063406</td>\n",
       "      <td>...</td>\n",
       "      <td>1.572627</td>\n",
       "      <td>-1.053788</td>\n",
       "      <td>2.021724</td>\n",
       "      <td>-0.293490</td>\n",
       "      <td>-6.927145</td>\n",
       "      <td>-0.895917</td>\n",
       "      <td>-1.231083</td>\n",
       "      <td>-3.967561</td>\n",
       "      <td>-2.631258</td>\n",
       "      <td>2.112794</td>\n",
       "    </tr>\n",
       "    <tr>\n",
       "      <th>108</th>\n",
       "      <td>12.534452</td>\n",
       "      <td>2.289036</td>\n",
       "      <td>-6.927145</td>\n",
       "      <td>4.152798</td>\n",
       "      <td>1.319933</td>\n",
       "      <td>-3.380213</td>\n",
       "      <td>6.867820</td>\n",
       "      <td>-6.927145</td>\n",
       "      <td>0.468965</td>\n",
       "      <td>-3.707940</td>\n",
       "      <td>...</td>\n",
       "      <td>-2.888187</td>\n",
       "      <td>-4.737288</td>\n",
       "      <td>-6.927145</td>\n",
       "      <td>-6.927145</td>\n",
       "      <td>2.575479</td>\n",
       "      <td>2.091792</td>\n",
       "      <td>-6.927145</td>\n",
       "      <td>3.065392</td>\n",
       "      <td>-2.888187</td>\n",
       "      <td>0.261485</td>\n",
       "    </tr>\n",
       "    <tr>\n",
       "      <th>109</th>\n",
       "      <td>13.059196</td>\n",
       "      <td>4.861362</td>\n",
       "      <td>-0.080144</td>\n",
       "      <td>5.603678</td>\n",
       "      <td>4.496056</td>\n",
       "      <td>-3.637532</td>\n",
       "      <td>6.780584</td>\n",
       "      <td>-6.927145</td>\n",
       "      <td>2.358889</td>\n",
       "      <td>-4.675513</td>\n",
       "      <td>...</td>\n",
       "      <td>-2.446931</td>\n",
       "      <td>-4.065119</td>\n",
       "      <td>-6.927145</td>\n",
       "      <td>-6.927145</td>\n",
       "      <td>2.042600</td>\n",
       "      <td>6.804855</td>\n",
       "      <td>-6.927145</td>\n",
       "      <td>3.715527</td>\n",
       "      <td>-6.927145</td>\n",
       "      <td>-2.713254</td>\n",
       "    </tr>\n",
       "    <tr>\n",
       "      <th>110</th>\n",
       "      <td>10.805710</td>\n",
       "      <td>0.730979</td>\n",
       "      <td>-5.292745</td>\n",
       "      <td>3.739735</td>\n",
       "      <td>0.088322</td>\n",
       "      <td>3.688407</td>\n",
       "      <td>8.238567</td>\n",
       "      <td>-3.274634</td>\n",
       "      <td>3.837218</td>\n",
       "      <td>-3.691673</td>\n",
       "      <td>...</td>\n",
       "      <td>-1.395809</td>\n",
       "      <td>3.315000</td>\n",
       "      <td>-0.330827</td>\n",
       "      <td>-3.158696</td>\n",
       "      <td>0.064661</td>\n",
       "      <td>1.311047</td>\n",
       "      <td>-5.292745</td>\n",
       "      <td>2.576739</td>\n",
       "      <td>-1.811390</td>\n",
       "      <td>2.572551</td>\n",
       "    </tr>\n",
       "    <tr>\n",
       "      <th>111</th>\n",
       "      <td>7.800029</td>\n",
       "      <td>0.279652</td>\n",
       "      <td>-2.500188</td>\n",
       "      <td>1.981626</td>\n",
       "      <td>-1.035348</td>\n",
       "      <td>1.111231</td>\n",
       "      <td>4.958089</td>\n",
       "      <td>-0.524235</td>\n",
       "      <td>3.058547</td>\n",
       "      <td>3.797636</td>\n",
       "      <td>...</td>\n",
       "      <td>-0.371247</td>\n",
       "      <td>0.876716</td>\n",
       "      <td>-0.889622</td>\n",
       "      <td>-1.768898</td>\n",
       "      <td>-6.927145</td>\n",
       "      <td>0.027772</td>\n",
       "      <td>-5.561051</td>\n",
       "      <td>-1.646737</td>\n",
       "      <td>1.021946</td>\n",
       "      <td>3.653477</td>\n",
       "    </tr>\n",
       "    <tr>\n",
       "      <th>112</th>\n",
       "      <td>6.705483</td>\n",
       "      <td>0.079908</td>\n",
       "      <td>-1.427486</td>\n",
       "      <td>3.403193</td>\n",
       "      <td>-0.169496</td>\n",
       "      <td>6.568726</td>\n",
       "      <td>4.452318</td>\n",
       "      <td>-0.018826</td>\n",
       "      <td>5.277367</td>\n",
       "      <td>2.613258</td>\n",
       "      <td>...</td>\n",
       "      <td>0.207684</td>\n",
       "      <td>-1.796463</td>\n",
       "      <td>-0.287646</td>\n",
       "      <td>-3.236517</td>\n",
       "      <td>-5.493279</td>\n",
       "      <td>0.575726</td>\n",
       "      <td>-3.962415</td>\n",
       "      <td>-1.662708</td>\n",
       "      <td>-1.006866</td>\n",
       "      <td>1.055000</td>\n",
       "    </tr>\n",
       "    <tr>\n",
       "      <th>113</th>\n",
       "      <td>8.185479</td>\n",
       "      <td>2.586330</td>\n",
       "      <td>-0.681054</td>\n",
       "      <td>6.068790</td>\n",
       "      <td>-0.616310</td>\n",
       "      <td>7.875183</td>\n",
       "      <td>3.141679</td>\n",
       "      <td>3.478239</td>\n",
       "      <td>4.769558</td>\n",
       "      <td>3.064790</td>\n",
       "      <td>...</td>\n",
       "      <td>3.386435</td>\n",
       "      <td>0.496685</td>\n",
       "      <td>3.755540</td>\n",
       "      <td>-3.409664</td>\n",
       "      <td>-4.288882</td>\n",
       "      <td>-2.593627</td>\n",
       "      <td>0.436921</td>\n",
       "      <td>-2.867319</td>\n",
       "      <td>4.769558</td>\n",
       "      <td>5.583310</td>\n",
       "    </tr>\n",
       "    <tr>\n",
       "      <th>114</th>\n",
       "      <td>11.714265</td>\n",
       "      <td>3.695078</td>\n",
       "      <td>-4.050099</td>\n",
       "      <td>7.444244</td>\n",
       "      <td>2.126951</td>\n",
       "      <td>-4.050099</td>\n",
       "      <td>8.370289</td>\n",
       "      <td>-6.927145</td>\n",
       "      <td>2.717886</td>\n",
       "      <td>-4.050099</td>\n",
       "      <td>...</td>\n",
       "      <td>-6.927145</td>\n",
       "      <td>-6.927145</td>\n",
       "      <td>-6.927145</td>\n",
       "      <td>-5.744905</td>\n",
       "      <td>3.465073</td>\n",
       "      <td>-0.860991</td>\n",
       "      <td>-6.927145</td>\n",
       "      <td>4.844600</td>\n",
       "      <td>-3.820172</td>\n",
       "      <td>0.333206</td>\n",
       "    </tr>\n",
       "    <tr>\n",
       "      <th>115</th>\n",
       "      <td>9.766354</td>\n",
       "      <td>1.091191</td>\n",
       "      <td>-4.612897</td>\n",
       "      <td>4.034078</td>\n",
       "      <td>-2.292510</td>\n",
       "      <td>6.156337</td>\n",
       "      <td>6.477009</td>\n",
       "      <td>-3.235571</td>\n",
       "      <td>4.573026</td>\n",
       "      <td>3.180900</td>\n",
       "      <td>...</td>\n",
       "      <td>0.857707</td>\n",
       "      <td>-4.612897</td>\n",
       "      <td>1.371618</td>\n",
       "      <td>-1.155217</td>\n",
       "      <td>0.182259</td>\n",
       "      <td>6.400174</td>\n",
       "      <td>-0.688698</td>\n",
       "      <td>-1.727038</td>\n",
       "      <td>-5.348580</td>\n",
       "      <td>2.051952</td>\n",
       "    </tr>\n",
       "    <tr>\n",
       "      <th>116</th>\n",
       "      <td>9.067194</td>\n",
       "      <td>1.901676</td>\n",
       "      <td>-1.159659</td>\n",
       "      <td>5.349766</td>\n",
       "      <td>4.071418</td>\n",
       "      <td>-5.537351</td>\n",
       "      <td>8.176193</td>\n",
       "      <td>-6.927145</td>\n",
       "      <td>1.183835</td>\n",
       "      <td>-4.375939</td>\n",
       "      <td>...</td>\n",
       "      <td>-6.927145</td>\n",
       "      <td>-6.927145</td>\n",
       "      <td>-6.927145</td>\n",
       "      <td>-6.927145</td>\n",
       "      <td>2.326171</td>\n",
       "      <td>6.222389</td>\n",
       "      <td>-6.927145</td>\n",
       "      <td>1.996193</td>\n",
       "      <td>-3.740951</td>\n",
       "      <td>-0.009349</td>\n",
       "    </tr>\n",
       "    <tr>\n",
       "      <th>117</th>\n",
       "      <td>11.415687</td>\n",
       "      <td>-1.988346</td>\n",
       "      <td>-3.432640</td>\n",
       "      <td>6.231317</td>\n",
       "      <td>-5.212404</td>\n",
       "      <td>6.778461</td>\n",
       "      <td>3.935709</td>\n",
       "      <td>0.754254</td>\n",
       "      <td>5.575957</td>\n",
       "      <td>0.003190</td>\n",
       "      <td>...</td>\n",
       "      <td>1.566608</td>\n",
       "      <td>4.271735</td>\n",
       "      <td>1.987484</td>\n",
       "      <td>0.043129</td>\n",
       "      <td>-6.927145</td>\n",
       "      <td>-1.248726</td>\n",
       "      <td>-3.954979</td>\n",
       "      <td>-3.586652</td>\n",
       "      <td>-1.185821</td>\n",
       "      <td>1.873961</td>\n",
       "    </tr>\n",
       "    <tr>\n",
       "      <th>118</th>\n",
       "      <td>9.426824</td>\n",
       "      <td>1.826374</td>\n",
       "      <td>-2.346345</td>\n",
       "      <td>1.565709</td>\n",
       "      <td>-2.691793</td>\n",
       "      <td>-3.442815</td>\n",
       "      <td>8.292069</td>\n",
       "      <td>-6.927145</td>\n",
       "      <td>0.105633</td>\n",
       "      <td>-1.946459</td>\n",
       "      <td>...</td>\n",
       "      <td>-6.927145</td>\n",
       "      <td>1.524307</td>\n",
       "      <td>-6.927145</td>\n",
       "      <td>-6.927145</td>\n",
       "      <td>-0.855797</td>\n",
       "      <td>-6.927145</td>\n",
       "      <td>-6.927145</td>\n",
       "      <td>-1.946459</td>\n",
       "      <td>-2.901475</td>\n",
       "      <td>2.490348</td>\n",
       "    </tr>\n",
       "    <tr>\n",
       "      <th>119</th>\n",
       "      <td>4.962129</td>\n",
       "      <td>-0.013680</td>\n",
       "      <td>2.551733</td>\n",
       "      <td>4.375330</td>\n",
       "      <td>-0.621165</td>\n",
       "      <td>7.231022</td>\n",
       "      <td>1.069941</td>\n",
       "      <td>5.609230</td>\n",
       "      <td>7.109272</td>\n",
       "      <td>3.245119</td>\n",
       "      <td>...</td>\n",
       "      <td>0.369689</td>\n",
       "      <td>-4.136744</td>\n",
       "      <td>0.774250</td>\n",
       "      <td>-2.373217</td>\n",
       "      <td>-6.927145</td>\n",
       "      <td>-2.234688</td>\n",
       "      <td>-0.805065</td>\n",
       "      <td>-4.136744</td>\n",
       "      <td>4.387449</td>\n",
       "      <td>4.429732</td>\n",
       "    </tr>\n",
       "    <tr>\n",
       "      <th>120</th>\n",
       "      <td>8.421018</td>\n",
       "      <td>1.563254</td>\n",
       "      <td>2.182438</td>\n",
       "      <td>-0.720654</td>\n",
       "      <td>-2.245903</td>\n",
       "      <td>0.695857</td>\n",
       "      <td>8.613261</td>\n",
       "      <td>-2.184219</td>\n",
       "      <td>3.958316</td>\n",
       "      <td>2.886372</td>\n",
       "      <td>...</td>\n",
       "      <td>-0.555340</td>\n",
       "      <td>-1.010685</td>\n",
       "      <td>-2.966481</td>\n",
       "      <td>-4.802081</td>\n",
       "      <td>-4.472188</td>\n",
       "      <td>-1.180970</td>\n",
       "      <td>-6.927145</td>\n",
       "      <td>-3.317459</td>\n",
       "      <td>-2.184219</td>\n",
       "      <td>4.009535</td>\n",
       "    </tr>\n",
       "    <tr>\n",
       "      <th>121</th>\n",
       "      <td>9.160173</td>\n",
       "      <td>-0.073104</td>\n",
       "      <td>-3.597452</td>\n",
       "      <td>2.253893</td>\n",
       "      <td>-1.060687</td>\n",
       "      <td>6.283450</td>\n",
       "      <td>4.846350</td>\n",
       "      <td>-0.987923</td>\n",
       "      <td>5.177205</td>\n",
       "      <td>-3.334274</td>\n",
       "      <td>...</td>\n",
       "      <td>2.961055</td>\n",
       "      <td>2.293354</td>\n",
       "      <td>2.182127</td>\n",
       "      <td>-1.633338</td>\n",
       "      <td>-2.919057</td>\n",
       "      <td>-2.395331</td>\n",
       "      <td>-1.633338</td>\n",
       "      <td>-2.218410</td>\n",
       "      <td>3.374945</td>\n",
       "      <td>4.306082</td>\n",
       "    </tr>\n",
       "    <tr>\n",
       "      <th>122</th>\n",
       "      <td>13.851478</td>\n",
       "      <td>0.562686</td>\n",
       "      <td>-4.316661</td>\n",
       "      <td>4.896073</td>\n",
       "      <td>-3.677426</td>\n",
       "      <td>7.645087</td>\n",
       "      <td>3.743652</td>\n",
       "      <td>1.849310</td>\n",
       "      <td>4.018543</td>\n",
       "      <td>3.849643</td>\n",
       "      <td>...</td>\n",
       "      <td>0.835734</td>\n",
       "      <td>0.912792</td>\n",
       "      <td>1.625599</td>\n",
       "      <td>-0.781533</td>\n",
       "      <td>-3.677426</td>\n",
       "      <td>0.891192</td>\n",
       "      <td>-1.006312</td>\n",
       "      <td>-4.316661</td>\n",
       "      <td>-0.816647</td>\n",
       "      <td>1.481269</td>\n",
       "    </tr>\n",
       "    <tr>\n",
       "      <th>123</th>\n",
       "      <td>9.509824</td>\n",
       "      <td>0.953989</td>\n",
       "      <td>-0.012825</td>\n",
       "      <td>1.738941</td>\n",
       "      <td>-2.124208</td>\n",
       "      <td>1.533853</td>\n",
       "      <td>7.391293</td>\n",
       "      <td>-2.376942</td>\n",
       "      <td>4.915136</td>\n",
       "      <td>1.780811</td>\n",
       "      <td>...</td>\n",
       "      <td>0.349074</td>\n",
       "      <td>0.090677</td>\n",
       "      <td>-2.203633</td>\n",
       "      <td>-4.471461</td>\n",
       "      <td>-6.927145</td>\n",
       "      <td>-4.930580</td>\n",
       "      <td>-5.607964</td>\n",
       "      <td>-0.522282</td>\n",
       "      <td>-2.048928</td>\n",
       "      <td>2.559131</td>\n",
       "    </tr>\n",
       "    <tr>\n",
       "      <th>124</th>\n",
       "      <td>4.411895</td>\n",
       "      <td>-3.240235</td>\n",
       "      <td>-0.235902</td>\n",
       "      <td>2.315785</td>\n",
       "      <td>-1.010829</td>\n",
       "      <td>5.783904</td>\n",
       "      <td>1.118111</td>\n",
       "      <td>5.847743</td>\n",
       "      <td>6.682189</td>\n",
       "      <td>3.239739</td>\n",
       "      <td>...</td>\n",
       "      <td>-1.924117</td>\n",
       "      <td>5.656336</td>\n",
       "      <td>-0.680606</td>\n",
       "      <td>-0.301138</td>\n",
       "      <td>-6.927145</td>\n",
       "      <td>-1.768396</td>\n",
       "      <td>-5.990748</td>\n",
       "      <td>-4.040361</td>\n",
       "      <td>3.987173</td>\n",
       "      <td>5.676597</td>\n",
       "    </tr>\n",
       "    <tr>\n",
       "      <th>125</th>\n",
       "      <td>10.980434</td>\n",
       "      <td>2.129638</td>\n",
       "      <td>-2.146342</td>\n",
       "      <td>3.842501</td>\n",
       "      <td>-2.056516</td>\n",
       "      <td>7.611687</td>\n",
       "      <td>3.376249</td>\n",
       "      <td>-1.971957</td>\n",
       "      <td>5.072324</td>\n",
       "      <td>1.957060</td>\n",
       "      <td>...</td>\n",
       "      <td>1.631847</td>\n",
       "      <td>2.535598</td>\n",
       "      <td>3.082060</td>\n",
       "      <td>-0.210269</td>\n",
       "      <td>-4.272279</td>\n",
       "      <td>1.512179</td>\n",
       "      <td>1.697866</td>\n",
       "      <td>-0.565480</td>\n",
       "      <td>3.049558</td>\n",
       "      <td>5.442883</td>\n",
       "    </tr>\n",
       "    <tr>\n",
       "      <th>126</th>\n",
       "      <td>7.729210</td>\n",
       "      <td>0.439736</td>\n",
       "      <td>-3.527001</td>\n",
       "      <td>1.296198</td>\n",
       "      <td>-2.716025</td>\n",
       "      <td>8.026299</td>\n",
       "      <td>6.202267</td>\n",
       "      <td>-1.141673</td>\n",
       "      <td>4.487306</td>\n",
       "      <td>1.947218</td>\n",
       "      <td>...</td>\n",
       "      <td>3.092373</td>\n",
       "      <td>-0.911136</td>\n",
       "      <td>2.935843</td>\n",
       "      <td>0.262182</td>\n",
       "      <td>0.041436</td>\n",
       "      <td>1.428360</td>\n",
       "      <td>-0.712413</td>\n",
       "      <td>-2.487050</td>\n",
       "      <td>4.424501</td>\n",
       "      <td>5.711200</td>\n",
       "    </tr>\n",
       "    <tr>\n",
       "      <th>127</th>\n",
       "      <td>3.348998</td>\n",
       "      <td>1.350922</td>\n",
       "      <td>-5.043294</td>\n",
       "      <td>-2.945454</td>\n",
       "      <td>-2.718564</td>\n",
       "      <td>8.872000</td>\n",
       "      <td>5.428459</td>\n",
       "      <td>-2.056722</td>\n",
       "      <td>1.113596</td>\n",
       "      <td>-5.043294</td>\n",
       "      <td>...</td>\n",
       "      <td>4.943069</td>\n",
       "      <td>-3.073854</td>\n",
       "      <td>4.677413</td>\n",
       "      <td>-1.813097</td>\n",
       "      <td>0.966288</td>\n",
       "      <td>-6.927145</td>\n",
       "      <td>0.856069</td>\n",
       "      <td>-2.522554</td>\n",
       "      <td>5.634479</td>\n",
       "      <td>6.646668</td>\n",
       "    </tr>\n",
       "    <tr>\n",
       "      <th>128</th>\n",
       "      <td>11.143692</td>\n",
       "      <td>1.533318</td>\n",
       "      <td>-2.936046</td>\n",
       "      <td>5.095087</td>\n",
       "      <td>2.401155</td>\n",
       "      <td>-6.927145</td>\n",
       "      <td>5.505230</td>\n",
       "      <td>-4.532741</td>\n",
       "      <td>3.585947</td>\n",
       "      <td>-3.035999</td>\n",
       "      <td>...</td>\n",
       "      <td>-4.859094</td>\n",
       "      <td>-6.927145</td>\n",
       "      <td>-6.927145</td>\n",
       "      <td>-6.927145</td>\n",
       "      <td>-1.315442</td>\n",
       "      <td>3.068191</td>\n",
       "      <td>-6.927145</td>\n",
       "      <td>1.609728</td>\n",
       "      <td>-4.042274</td>\n",
       "      <td>-0.534430</td>\n",
       "    </tr>\n",
       "    <tr>\n",
       "      <th>129</th>\n",
       "      <td>11.569133</td>\n",
       "      <td>3.191068</td>\n",
       "      <td>-6.927145</td>\n",
       "      <td>4.461903</td>\n",
       "      <td>-0.599511</td>\n",
       "      <td>-1.581659</td>\n",
       "      <td>8.185359</td>\n",
       "      <td>-6.927145</td>\n",
       "      <td>1.328249</td>\n",
       "      <td>-2.851321</td>\n",
       "      <td>...</td>\n",
       "      <td>-1.324551</td>\n",
       "      <td>-4.050311</td>\n",
       "      <td>-3.768209</td>\n",
       "      <td>-6.927145</td>\n",
       "      <td>1.170101</td>\n",
       "      <td>-1.324551</td>\n",
       "      <td>-6.927145</td>\n",
       "      <td>3.227664</td>\n",
       "      <td>-5.556233</td>\n",
       "      <td>0.302789</td>\n",
       "    </tr>\n",
       "    <tr>\n",
       "      <th>130</th>\n",
       "      <td>13.191280</td>\n",
       "      <td>2.500865</td>\n",
       "      <td>-3.733424</td>\n",
       "      <td>7.180497</td>\n",
       "      <td>4.881360</td>\n",
       "      <td>1.114074</td>\n",
       "      <td>8.616264</td>\n",
       "      <td>-2.565431</td>\n",
       "      <td>2.299716</td>\n",
       "      <td>-4.368925</td>\n",
       "      <td>...</td>\n",
       "      <td>-6.927145</td>\n",
       "      <td>-4.836335</td>\n",
       "      <td>-3.496912</td>\n",
       "      <td>-6.927145</td>\n",
       "      <td>1.298198</td>\n",
       "      <td>5.996419</td>\n",
       "      <td>-4.836335</td>\n",
       "      <td>4.802542</td>\n",
       "      <td>-2.565431</td>\n",
       "      <td>-1.723216</td>\n",
       "    </tr>\n",
       "    <tr>\n",
       "      <th>131</th>\n",
       "      <td>8.350439</td>\n",
       "      <td>-3.142432</td>\n",
       "      <td>1.116943</td>\n",
       "      <td>4.690194</td>\n",
       "      <td>0.030015</td>\n",
       "      <td>7.029261</td>\n",
       "      <td>4.093253</td>\n",
       "      <td>3.464217</td>\n",
       "      <td>2.983331</td>\n",
       "      <td>-1.301027</td>\n",
       "      <td>...</td>\n",
       "      <td>2.421515</td>\n",
       "      <td>4.079234</td>\n",
       "      <td>3.608738</td>\n",
       "      <td>-0.384686</td>\n",
       "      <td>-2.146992</td>\n",
       "      <td>-1.274601</td>\n",
       "      <td>-0.329241</td>\n",
       "      <td>-1.102046</td>\n",
       "      <td>3.400046</td>\n",
       "      <td>5.846006</td>\n",
       "    </tr>\n",
       "    <tr>\n",
       "      <th>132</th>\n",
       "      <td>13.599808</td>\n",
       "      <td>1.790986</td>\n",
       "      <td>-5.304278</td>\n",
       "      <td>4.803961</td>\n",
       "      <td>-3.416269</td>\n",
       "      <td>-6.927145</td>\n",
       "      <td>6.567222</td>\n",
       "      <td>-5.304278</td>\n",
       "      <td>2.176364</td>\n",
       "      <td>-0.988951</td>\n",
       "      <td>...</td>\n",
       "      <td>-1.445679</td>\n",
       "      <td>-3.174483</td>\n",
       "      <td>-5.304278</td>\n",
       "      <td>-6.927145</td>\n",
       "      <td>-1.143780</td>\n",
       "      <td>6.738865</td>\n",
       "      <td>-6.927145</td>\n",
       "      <td>2.745823</td>\n",
       "      <td>-2.967463</td>\n",
       "      <td>-0.642575</td>\n",
       "    </tr>\n",
       "    <tr>\n",
       "      <th>133</th>\n",
       "      <td>4.041350</td>\n",
       "      <td>0.514177</td>\n",
       "      <td>-0.012653</td>\n",
       "      <td>6.122996</td>\n",
       "      <td>-2.700363</td>\n",
       "      <td>8.839779</td>\n",
       "      <td>2.419066</td>\n",
       "      <td>5.069427</td>\n",
       "      <td>6.413088</td>\n",
       "      <td>2.149914</td>\n",
       "      <td>...</td>\n",
       "      <td>2.698012</td>\n",
       "      <td>-2.818906</td>\n",
       "      <td>2.263668</td>\n",
       "      <td>-0.371810</td>\n",
       "      <td>-6.927145</td>\n",
       "      <td>-2.818906</td>\n",
       "      <td>0.289079</td>\n",
       "      <td>-3.247305</td>\n",
       "      <td>4.270913</td>\n",
       "      <td>5.267428</td>\n",
       "    </tr>\n",
       "    <tr>\n",
       "      <th>134</th>\n",
       "      <td>9.927123</td>\n",
       "      <td>0.456728</td>\n",
       "      <td>-4.758776</td>\n",
       "      <td>5.740874</td>\n",
       "      <td>-2.789481</td>\n",
       "      <td>7.770569</td>\n",
       "      <td>4.892977</td>\n",
       "      <td>1.421799</td>\n",
       "      <td>4.323299</td>\n",
       "      <td>-3.928896</td>\n",
       "      <td>...</td>\n",
       "      <td>2.788319</td>\n",
       "      <td>-1.906716</td>\n",
       "      <td>3.136945</td>\n",
       "      <td>-1.285250</td>\n",
       "      <td>0.237031</td>\n",
       "      <td>2.198207</td>\n",
       "      <td>-0.177583</td>\n",
       "      <td>0.950446</td>\n",
       "      <td>-2.719584</td>\n",
       "      <td>2.163945</td>\n",
       "    </tr>\n",
       "    <tr>\n",
       "      <th>135</th>\n",
       "      <td>12.675873</td>\n",
       "      <td>4.117079</td>\n",
       "      <td>-3.848991</td>\n",
       "      <td>5.752409</td>\n",
       "      <td>4.411309</td>\n",
       "      <td>-1.983162</td>\n",
       "      <td>9.250126</td>\n",
       "      <td>-5.127321</td>\n",
       "      <td>0.521792</td>\n",
       "      <td>-2.307915</td>\n",
       "      <td>...</td>\n",
       "      <td>-5.763074</td>\n",
       "      <td>-4.350973</td>\n",
       "      <td>-6.927145</td>\n",
       "      <td>-4.078258</td>\n",
       "      <td>1.863224</td>\n",
       "      <td>3.745959</td>\n",
       "      <td>-6.927145</td>\n",
       "      <td>2.626940</td>\n",
       "      <td>-2.727674</td>\n",
       "      <td>-1.983162</td>\n",
       "    </tr>\n",
       "    <tr>\n",
       "      <th>136</th>\n",
       "      <td>7.528994</td>\n",
       "      <td>-0.421295</td>\n",
       "      <td>1.905048</td>\n",
       "      <td>3.842297</td>\n",
       "      <td>1.084359</td>\n",
       "      <td>5.747838</td>\n",
       "      <td>0.563554</td>\n",
       "      <td>-3.606986</td>\n",
       "      <td>4.332573</td>\n",
       "      <td>-3.163432</td>\n",
       "      <td>...</td>\n",
       "      <td>-1.585655</td>\n",
       "      <td>-0.686864</td>\n",
       "      <td>-0.450117</td>\n",
       "      <td>-0.057497</td>\n",
       "      <td>-6.927145</td>\n",
       "      <td>-6.002077</td>\n",
       "      <td>-1.828917</td>\n",
       "      <td>-3.743028</td>\n",
       "      <td>-3.368229</td>\n",
       "      <td>-2.489397</td>\n",
       "    </tr>\n",
       "  </tbody>\n",
       "</table>\n",
       "<p>137 rows × 83 columns</p>\n",
       "</div>"
      ],
      "text/plain": [
       "     ENSG00000005381.7  ENSG00000007516.12  ENSG00000010319.5  \\\n",
       "0             9.286936           -0.113784          -1.750790   \n",
       "1             7.392326           -1.488071          -0.837409   \n",
       "2            10.334960            0.097350          -4.242724   \n",
       "3            10.486954            2.964257          -5.409141   \n",
       "4             4.546111            0.438541          -4.532672   \n",
       "5             5.096942            1.506856          -1.239572   \n",
       "6             9.262971            1.852100          -2.515461   \n",
       "7             7.006890           -0.516389          -3.693250   \n",
       "8             9.334855            0.676630          -0.675797   \n",
       "9             8.558828            1.306152          -2.440188   \n",
       "10           11.271300           -2.259038          -2.104559   \n",
       "11            8.288355           -0.600540          -1.163728   \n",
       "12           12.960240            4.444138          -4.279923   \n",
       "13           13.351231            1.666744          -3.070317   \n",
       "14            3.745859            0.659900          -0.554323   \n",
       "15            7.327343            1.333886          -5.270266   \n",
       "16           12.331135            1.307852          -4.567512   \n",
       "17           13.205593            4.539894          -6.927145   \n",
       "18           11.259260           -0.300959          -2.414508   \n",
       "19           -1.601508            1.934010          -1.305767   \n",
       "20           12.284777            3.531049          -6.927145   \n",
       "21           10.974385            0.902777          -0.685557   \n",
       "22            9.465475            1.027941           1.527710   \n",
       "23            6.451748           -0.129595          -4.008380   \n",
       "24           12.607130            4.313693          -4.744416   \n",
       "25           12.072510            0.230044          -6.927145   \n",
       "26           12.387536            4.317554          -5.621570   \n",
       "27            4.754528            0.546530          -0.359900   \n",
       "28           10.680093           -0.371074          -2.443882   \n",
       "29           11.460361            2.710350          -4.524340   \n",
       "..                 ...                 ...                ...   \n",
       "107           7.547806           -1.096111          -6.927145   \n",
       "108          12.534452            2.289036          -6.927145   \n",
       "109          13.059196            4.861362          -0.080144   \n",
       "110          10.805710            0.730979          -5.292745   \n",
       "111           7.800029            0.279652          -2.500188   \n",
       "112           6.705483            0.079908          -1.427486   \n",
       "113           8.185479            2.586330          -0.681054   \n",
       "114          11.714265            3.695078          -4.050099   \n",
       "115           9.766354            1.091191          -4.612897   \n",
       "116           9.067194            1.901676          -1.159659   \n",
       "117          11.415687           -1.988346          -3.432640   \n",
       "118           9.426824            1.826374          -2.346345   \n",
       "119           4.962129           -0.013680           2.551733   \n",
       "120           8.421018            1.563254           2.182438   \n",
       "121           9.160173           -0.073104          -3.597452   \n",
       "122          13.851478            0.562686          -4.316661   \n",
       "123           9.509824            0.953989          -0.012825   \n",
       "124           4.411895           -3.240235          -0.235902   \n",
       "125          10.980434            2.129638          -2.146342   \n",
       "126           7.729210            0.439736          -3.527001   \n",
       "127           3.348998            1.350922          -5.043294   \n",
       "128          11.143692            1.533318          -2.936046   \n",
       "129          11.569133            3.191068          -6.927145   \n",
       "130          13.191280            2.500865          -3.733424   \n",
       "131           8.350439           -3.142432           1.116943   \n",
       "132          13.599808            1.790986          -5.304278   \n",
       "133           4.041350            0.514177          -0.012653   \n",
       "134           9.927123            0.456728          -4.758776   \n",
       "135          12.675873            4.117079          -3.848991   \n",
       "136           7.528994           -0.421295           1.905048   \n",
       "\n",
       "     ENSG00000019991.14  ENSG00000037280.14  ENSG00000078399.14  \\\n",
       "0              3.812985            0.005868            5.789605   \n",
       "1              2.241607            0.637927            5.569530   \n",
       "2              3.508732           -3.009389            6.743347   \n",
       "3              5.305230            4.538731           -3.114891   \n",
       "4              3.050108           -2.317262            7.348238   \n",
       "5              3.225910           -1.355028            7.789516   \n",
       "6              1.938281            0.186379            2.495218   \n",
       "7              3.748392           -0.666509            8.141847   \n",
       "8              0.833047           -4.555115            9.306593   \n",
       "9              4.077044           -2.776064            6.768203   \n",
       "10            -3.126997            1.482498            8.036262   \n",
       "11             1.241659            0.180367            7.790893   \n",
       "12             5.248116            4.886729           -6.927145   \n",
       "13             3.539805            3.192874           -1.147001   \n",
       "14             3.496255            0.054076            8.002258   \n",
       "15             0.073382           -1.207960            7.973586   \n",
       "16             7.812066            2.443942            3.908526   \n",
       "17             5.088235            1.632942           -6.927145   \n",
       "18            -3.109942           -0.352885            4.301775   \n",
       "19             5.111045           -2.477259            8.282055   \n",
       "20             4.901676            4.991253            3.920134   \n",
       "21             0.649005            1.172762            7.693362   \n",
       "22             3.253799           -1.156331            8.308223   \n",
       "23             4.171350           -1.792828            8.937013   \n",
       "24             5.452470            5.408024           -5.802791   \n",
       "25             6.355282           -2.166447           -4.685350   \n",
       "26             6.369117            4.145843           -5.621570   \n",
       "27             4.382744           -2.902616            8.197348   \n",
       "28             6.138784            0.336053           -2.903735   \n",
       "29             3.243293            6.975872           -0.007418   \n",
       "..                  ...                 ...                 ...   \n",
       "107            3.556034           -2.631258            7.838550   \n",
       "108            4.152798            1.319933           -3.380213   \n",
       "109            5.603678            4.496056           -3.637532   \n",
       "110            3.739735            0.088322            3.688407   \n",
       "111            1.981626           -1.035348            1.111231   \n",
       "112            3.403193           -0.169496            6.568726   \n",
       "113            6.068790           -0.616310            7.875183   \n",
       "114            7.444244            2.126951           -4.050099   \n",
       "115            4.034078           -2.292510            6.156337   \n",
       "116            5.349766            4.071418           -5.537351   \n",
       "117            6.231317           -5.212404            6.778461   \n",
       "118            1.565709           -2.691793           -3.442815   \n",
       "119            4.375330           -0.621165            7.231022   \n",
       "120           -0.720654           -2.245903            0.695857   \n",
       "121            2.253893           -1.060687            6.283450   \n",
       "122            4.896073           -3.677426            7.645087   \n",
       "123            1.738941           -2.124208            1.533853   \n",
       "124            2.315785           -1.010829            5.783904   \n",
       "125            3.842501           -2.056516            7.611687   \n",
       "126            1.296198           -2.716025            8.026299   \n",
       "127           -2.945454           -2.718564            8.872000   \n",
       "128            5.095087            2.401155           -6.927145   \n",
       "129            4.461903           -0.599511           -1.581659   \n",
       "130            7.180497            4.881360            1.114074   \n",
       "131            4.690194            0.030015            7.029261   \n",
       "132            4.803961           -3.416269           -6.927145   \n",
       "133            6.122996           -2.700363            8.839779   \n",
       "134            5.740874           -2.789481            7.770569   \n",
       "135            5.752409            4.411309           -1.983162   \n",
       "136            3.842297            1.084359            5.747838   \n",
       "\n",
       "     ENSG00000078596.9  ENSG00000087495.15  ENSG00000091490.9  \\\n",
       "0             4.493499           -5.229235           5.300797   \n",
       "1            -1.449441            5.456154           6.411132   \n",
       "2             6.501300            0.023300           5.880079   \n",
       "3             8.444448           -6.927145           3.000603   \n",
       "4             6.992201           -5.281478           5.321255   \n",
       "5             5.515065            4.090409           6.468199   \n",
       "6             7.360383           -2.765002           3.778406   \n",
       "7             5.644708            4.945910           6.268125   \n",
       "8             3.672716            2.924680           5.558583   \n",
       "9             6.642203            3.315920           4.592519   \n",
       "10            2.522484           -2.985388           4.177463   \n",
       "11            5.739146           -4.970281           2.854318   \n",
       "12            9.068959           -3.399924           0.901803   \n",
       "13            7.795944           -6.927145           1.466389   \n",
       "14            5.452960           -2.288511           3.550044   \n",
       "15            2.952450            1.162015           4.753515   \n",
       "16            7.841625           -5.677721           2.237826   \n",
       "17            6.700610           -5.395259           2.795098   \n",
       "18            6.202193           -0.990716           5.118736   \n",
       "19            3.071292            2.646889           6.369512   \n",
       "20            8.538606           -6.927145           2.566884   \n",
       "21            1.382944            4.125813           6.240702   \n",
       "22           -0.718573            4.587148           4.394154   \n",
       "23            2.671493            3.300734           4.954788   \n",
       "24            7.616243           -5.178651           2.982075   \n",
       "25            8.432080           -2.774610           0.760349   \n",
       "26            8.152776           -6.927145           1.946421   \n",
       "27           -0.737168            6.163408           5.949858   \n",
       "28            4.971442           -4.447262           1.557173   \n",
       "29            8.455515           -4.033306           2.260546   \n",
       "..                 ...                 ...                ...   \n",
       "107           6.476562           -2.511861           4.289860   \n",
       "108           6.867820           -6.927145           0.468965   \n",
       "109           6.780584           -6.927145           2.358889   \n",
       "110           8.238567           -3.274634           3.837218   \n",
       "111           4.958089           -0.524235           3.058547   \n",
       "112           4.452318           -0.018826           5.277367   \n",
       "113           3.141679            3.478239           4.769558   \n",
       "114           8.370289           -6.927145           2.717886   \n",
       "115           6.477009           -3.235571           4.573026   \n",
       "116           8.176193           -6.927145           1.183835   \n",
       "117           3.935709            0.754254           5.575957   \n",
       "118           8.292069           -6.927145           0.105633   \n",
       "119           1.069941            5.609230           7.109272   \n",
       "120           8.613261           -2.184219           3.958316   \n",
       "121           4.846350           -0.987923           5.177205   \n",
       "122           3.743652            1.849310           4.018543   \n",
       "123           7.391293           -2.376942           4.915136   \n",
       "124           1.118111            5.847743           6.682189   \n",
       "125           3.376249           -1.971957           5.072324   \n",
       "126           6.202267           -1.141673           4.487306   \n",
       "127           5.428459           -2.056722           1.113596   \n",
       "128           5.505230           -4.532741           3.585947   \n",
       "129           8.185359           -6.927145           1.328249   \n",
       "130           8.616264           -2.565431           2.299716   \n",
       "131           4.093253            3.464217           2.983331   \n",
       "132           6.567222           -5.304278           2.176364   \n",
       "133           2.419066            5.069427           6.413088   \n",
       "134           4.892977            1.421799           4.323299   \n",
       "135           9.250126           -5.127321           0.521792   \n",
       "136           0.563554           -3.606986           4.332573   \n",
       "\n",
       "     ENSG00000102595.17        ...          ENSG00000253552.6  \\\n",
       "0              2.778719        ...                   2.429504   \n",
       "1              1.775352        ...                  -0.544956   \n",
       "2              2.703005        ...                   2.807812   \n",
       "3             -4.206464        ...                  -2.071195   \n",
       "4              1.559325        ...                   2.882265   \n",
       "5              3.332376        ...                   1.452092   \n",
       "6             -2.176636        ...                  -0.042116   \n",
       "7              1.427026        ...                  -1.150738   \n",
       "8              2.691640        ...                   3.098532   \n",
       "9              4.274256        ...                   2.209014   \n",
       "10             3.025424        ...                   1.728472   \n",
       "11             1.888619        ...                   2.818439   \n",
       "12            -2.713901        ...                  -4.754103   \n",
       "13            -4.165700        ...                  -6.927145   \n",
       "14             3.822534        ...                   4.816334   \n",
       "15             0.953746        ...                   2.754833   \n",
       "16            -3.042093        ...                  -1.958859   \n",
       "17            -6.927145        ...                  -6.927145   \n",
       "18            -4.759710        ...                   0.007788   \n",
       "19             3.343560        ...                   1.030840   \n",
       "20            -3.287882        ...                   0.283024   \n",
       "21             3.304072        ...                   1.769235   \n",
       "22             1.338272        ...                  -1.511371   \n",
       "23             2.913717        ...                   3.892123   \n",
       "24            -3.004903        ...                  -3.121809   \n",
       "25            -4.205821        ...                  -2.166447   \n",
       "26            -2.309543        ...                  -3.094619   \n",
       "27             0.998901        ...                   1.134687   \n",
       "28            -1.636044        ...                  -3.203653   \n",
       "29            -3.376151        ...                  -4.033306   \n",
       "..                  ...        ...                        ...   \n",
       "107           -3.063406        ...                   1.572627   \n",
       "108           -3.707940        ...                  -2.888187   \n",
       "109           -4.675513        ...                  -2.446931   \n",
       "110           -3.691673        ...                  -1.395809   \n",
       "111            3.797636        ...                  -0.371247   \n",
       "112            2.613258        ...                   0.207684   \n",
       "113            3.064790        ...                   3.386435   \n",
       "114           -4.050099        ...                  -6.927145   \n",
       "115            3.180900        ...                   0.857707   \n",
       "116           -4.375939        ...                  -6.927145   \n",
       "117            0.003190        ...                   1.566608   \n",
       "118           -1.946459        ...                  -6.927145   \n",
       "119            3.245119        ...                   0.369689   \n",
       "120            2.886372        ...                  -0.555340   \n",
       "121           -3.334274        ...                   2.961055   \n",
       "122            3.849643        ...                   0.835734   \n",
       "123            1.780811        ...                   0.349074   \n",
       "124            3.239739        ...                  -1.924117   \n",
       "125            1.957060        ...                   1.631847   \n",
       "126            1.947218        ...                   3.092373   \n",
       "127           -5.043294        ...                   4.943069   \n",
       "128           -3.035999        ...                  -4.859094   \n",
       "129           -2.851321        ...                  -1.324551   \n",
       "130           -4.368925        ...                  -6.927145   \n",
       "131           -1.301027        ...                   2.421515   \n",
       "132           -0.988951        ...                  -1.445679   \n",
       "133            2.149914        ...                   2.698012   \n",
       "134           -3.928896        ...                   2.788319   \n",
       "135           -2.307915        ...                  -5.763074   \n",
       "136           -3.163432        ...                  -1.585655   \n",
       "\n",
       "     ENSG00000254006.4  ENSG00000254369.5  ENSG00000257718.1  \\\n",
       "0             3.409331           2.034270          -1.843229   \n",
       "1             3.153615           1.725578          -0.372430   \n",
       "2            -1.351749           2.471996          -2.228379   \n",
       "3            -6.927145          -3.847206          -6.927145   \n",
       "4            -1.412789           3.673684          -0.688504   \n",
       "5             0.326607           1.408504          -3.938618   \n",
       "6            -4.796006          -1.511167          -4.197181   \n",
       "7             0.208036           1.047612          -2.214322   \n",
       "8             0.175498           4.077454          -1.822241   \n",
       "9            -3.847896           2.717071          -1.442395   \n",
       "10            3.605010           3.457773          -0.740592   \n",
       "11           -0.030279           3.291222          -1.773904   \n",
       "12           -6.927145          -6.927145          -6.927145   \n",
       "13           -6.927145          -6.927145          -6.927145   \n",
       "14           -4.964358           5.424843          -2.247146   \n",
       "15           -0.080065           2.503448          -1.150162   \n",
       "16           -6.927145          -3.947609          -5.018359   \n",
       "17           -6.927145          -6.927145          -6.927145   \n",
       "18            1.287015          -0.990716          -0.033988   \n",
       "19           -0.596060           1.837869          -6.927145   \n",
       "20           -6.927145          -3.816084          -6.927145   \n",
       "21            1.166092           2.933795          -1.690629   \n",
       "22            1.840215           3.393039          -1.850107   \n",
       "23            0.880903           3.371593          -3.777498   \n",
       "24           -6.927145          -4.411091          -6.927145   \n",
       "25            0.665965          -4.685350          -6.927145   \n",
       "26           -5.621570          -6.927145          -6.927145   \n",
       "27           -0.499203           1.823945          -2.283140   \n",
       "28            2.157110          -4.908387          -5.590191   \n",
       "29           -6.927145          -5.876068          -6.927145   \n",
       "..                 ...                ...                ...   \n",
       "107          -1.053788           2.021724          -0.293490   \n",
       "108          -4.737288          -6.927145          -6.927145   \n",
       "109          -4.065119          -6.927145          -6.927145   \n",
       "110           3.315000          -0.330827          -3.158696   \n",
       "111           0.876716          -0.889622          -1.768898   \n",
       "112          -1.796463          -0.287646          -3.236517   \n",
       "113           0.496685           3.755540          -3.409664   \n",
       "114          -6.927145          -6.927145          -5.744905   \n",
       "115          -4.612897           1.371618          -1.155217   \n",
       "116          -6.927145          -6.927145          -6.927145   \n",
       "117           4.271735           1.987484           0.043129   \n",
       "118           1.524307          -6.927145          -6.927145   \n",
       "119          -4.136744           0.774250          -2.373217   \n",
       "120          -1.010685          -2.966481          -4.802081   \n",
       "121           2.293354           2.182127          -1.633338   \n",
       "122           0.912792           1.625599          -0.781533   \n",
       "123           0.090677          -2.203633          -4.471461   \n",
       "124           5.656336          -0.680606          -0.301138   \n",
       "125           2.535598           3.082060          -0.210269   \n",
       "126          -0.911136           2.935843           0.262182   \n",
       "127          -3.073854           4.677413          -1.813097   \n",
       "128          -6.927145          -6.927145          -6.927145   \n",
       "129          -4.050311          -3.768209          -6.927145   \n",
       "130          -4.836335          -3.496912          -6.927145   \n",
       "131           4.079234           3.608738          -0.384686   \n",
       "132          -3.174483          -5.304278          -6.927145   \n",
       "133          -2.818906           2.263668          -0.371810   \n",
       "134          -1.906716           3.136945          -1.285250   \n",
       "135          -4.350973          -6.927145          -4.078258   \n",
       "136          -0.686864          -0.450117          -0.057497   \n",
       "\n",
       "     ENSG00000260182.1  ENSG00000267453.5  ENSG00000270182.1  \\\n",
       "0            -3.842906          -4.122922          -0.786090   \n",
       "1            -6.927145          -6.927145          -0.672618   \n",
       "2            -4.242724          -3.651368          -1.319270   \n",
       "3             0.471643           4.032636          -6.927145   \n",
       "4            -1.284291          -0.463034           1.377005   \n",
       "5            -3.938618          -0.094660          -1.385395   \n",
       "6            -3.970853          -2.117470          -5.838408   \n",
       "7            -5.504046           1.853887          -4.801752   \n",
       "8            -4.555115          -2.780917           1.283053   \n",
       "9            -0.618928          -4.686564          -0.158295   \n",
       "10           -3.460276          -0.434091           1.381524   \n",
       "11           -6.927145          -3.890566          -0.794318   \n",
       "12            5.699828           7.944961          -6.927145   \n",
       "13           -2.334808           6.918226          -6.927145   \n",
       "14           -5.634910          -6.927145          -0.228315   \n",
       "15           -4.519338          -0.555120          -0.221719   \n",
       "16            2.298834           4.186574          -6.927145   \n",
       "17            2.775582          -0.348481          -6.927145   \n",
       "18           -4.097008          -6.021748          -3.300732   \n",
       "19           -6.927145          -5.723360           1.235003   \n",
       "20            2.547649           3.378289          -6.927145   \n",
       "21           -3.296058          -5.747291           0.658541   \n",
       "22           -6.927145          -4.476496           2.478927   \n",
       "23           -5.717756          -1.688850          -0.079416   \n",
       "24            3.687649           7.227554          -6.927145   \n",
       "25           -1.739948           7.992392          -6.927145   \n",
       "26            3.314646           5.223701          -6.927145   \n",
       "27           -5.257188          -4.503808          -0.613285   \n",
       "28           -1.287983           2.941706          -6.927145   \n",
       "29            0.960725           2.470024          -5.876068   \n",
       "..                 ...                ...                ...   \n",
       "107          -6.927145          -0.895917          -1.231083   \n",
       "108           2.575479           2.091792          -6.927145   \n",
       "109           2.042600           6.804855          -6.927145   \n",
       "110           0.064661           1.311047          -5.292745   \n",
       "111          -6.927145           0.027772          -5.561051   \n",
       "112          -5.493279           0.575726          -3.962415   \n",
       "113          -4.288882          -2.593627           0.436921   \n",
       "114           3.465073          -0.860991          -6.927145   \n",
       "115           0.182259           6.400174          -0.688698   \n",
       "116           2.326171           6.222389          -6.927145   \n",
       "117          -6.927145          -1.248726          -3.954979   \n",
       "118          -0.855797          -6.927145          -6.927145   \n",
       "119          -6.927145          -2.234688          -0.805065   \n",
       "120          -4.472188          -1.180970          -6.927145   \n",
       "121          -2.919057          -2.395331          -1.633338   \n",
       "122          -3.677426           0.891192          -1.006312   \n",
       "123          -6.927145          -4.930580          -5.607964   \n",
       "124          -6.927145          -1.768396          -5.990748   \n",
       "125          -4.272279           1.512179           1.697866   \n",
       "126           0.041436           1.428360          -0.712413   \n",
       "127           0.966288          -6.927145           0.856069   \n",
       "128          -1.315442           3.068191          -6.927145   \n",
       "129           1.170101          -1.324551          -6.927145   \n",
       "130           1.298198           5.996419          -4.836335   \n",
       "131          -2.146992          -1.274601          -0.329241   \n",
       "132          -1.143780           6.738865          -6.927145   \n",
       "133          -6.927145          -2.818906           0.289079   \n",
       "134           0.237031           2.198207          -0.177583   \n",
       "135           1.863224           3.745959          -6.927145   \n",
       "136          -6.927145          -6.002077          -1.828917   \n",
       "\n",
       "     ENSG00000271447.4  ENSG00000275325.3  ENSG00000276141.3  \n",
       "0            -1.189264           3.420971           3.454526  \n",
       "1            -3.719059           1.597685           4.621725  \n",
       "2             0.714352          -2.289987           2.947833  \n",
       "3             1.742946          -5.409141           0.785465  \n",
       "4             1.626257           3.627464           4.800030  \n",
       "5            -1.480534          -1.158665           2.927028  \n",
       "6             0.310063          -2.959109           2.471327  \n",
       "7            -1.813104          -3.252316          -0.906973  \n",
       "8            -5.007058          -2.899059           1.117967  \n",
       "9            -2.381471          -2.026254           0.413987  \n",
       "10           -3.460276           3.974656           5.172892  \n",
       "11           -2.175491           4.179039           5.391864  \n",
       "12            4.448909          -5.465163          -1.684840  \n",
       "13            3.676502          -6.927145          -1.694046  \n",
       "14           -2.331096           5.148446           5.430431  \n",
       "15           -2.433155          -6.927145          -0.412390  \n",
       "16            2.559252          -3.339813           2.107480  \n",
       "17            3.485401          -6.927145          -2.480360  \n",
       "18           -0.970294           3.855107           4.087158  \n",
       "19           -4.016957          -0.339922           0.095665  \n",
       "20            3.983059          -4.658085          -3.527943  \n",
       "21           -2.910429           4.278178           5.843266  \n",
       "22           -4.476496          -2.209559          -1.511371  \n",
       "23           -3.578518          -1.500990           1.618672  \n",
       "24            3.645792          -4.411091           0.167771  \n",
       "25           -0.084663          -5.408647           2.019295  \n",
       "26            2.858507          -4.947615          -2.070924  \n",
       "27           -4.503808           3.703277           5.089913  \n",
       "28           -1.580879          -3.817639          -0.654586  \n",
       "29            5.007706          -0.874107          -1.274215  \n",
       "..                 ...                ...                ...  \n",
       "107          -3.967561          -2.631258           2.112794  \n",
       "108           3.065392          -2.888187           0.261485  \n",
       "109           3.715527          -6.927145          -2.713254  \n",
       "110           2.576739          -1.811390           2.572551  \n",
       "111          -1.646737           1.021946           3.653477  \n",
       "112          -1.662708          -1.006866           1.055000  \n",
       "113          -2.867319           4.769558           5.583310  \n",
       "114           4.844600          -3.820172           0.333206  \n",
       "115          -1.727038          -5.348580           2.051952  \n",
       "116           1.996193          -3.740951          -0.009349  \n",
       "117          -3.586652          -1.185821           1.873961  \n",
       "118          -1.946459          -2.901475           2.490348  \n",
       "119          -4.136744           4.387449           4.429732  \n",
       "120          -3.317459          -2.184219           4.009535  \n",
       "121          -2.218410           3.374945           4.306082  \n",
       "122          -4.316661          -0.816647           1.481269  \n",
       "123          -0.522282          -2.048928           2.559131  \n",
       "124          -4.040361           3.987173           5.676597  \n",
       "125          -0.565480           3.049558           5.442883  \n",
       "126          -2.487050           4.424501           5.711200  \n",
       "127          -2.522554           5.634479           6.646668  \n",
       "128           1.609728          -4.042274          -0.534430  \n",
       "129           3.227664          -5.556233           0.302789  \n",
       "130           4.802542          -2.565431          -1.723216  \n",
       "131          -1.102046           3.400046           5.846006  \n",
       "132           2.745823          -2.967463          -0.642575  \n",
       "133          -3.247305           4.270913           5.267428  \n",
       "134           0.950446          -2.719584           2.163945  \n",
       "135           2.626940          -2.727674          -1.983162  \n",
       "136          -3.743028          -3.368229          -2.489397  \n",
       "\n",
       "[137 rows x 83 columns]"
      ]
     },
     "execution_count": 59,
     "metadata": {},
     "output_type": "execute_result"
    }
   ],
   "source": [
    "df[model_columns[boruta_mask]]"
   ]
  },
  {
   "cell_type": "code",
   "execution_count": null,
   "metadata": {},
   "outputs": [],
   "source": []
  }
 ],
 "metadata": {
  "kernelspec": {
   "display_name": "Python 3",
   "language": "python",
   "name": "python3"
  },
  "language_info": {
   "codemirror_mode": {
    "name": "ipython",
    "version": 3
   },
   "file_extension": ".py",
   "mimetype": "text/x-python",
   "name": "python",
   "nbconvert_exporter": "python",
   "pygments_lexer": "ipython3",
   "version": "3.6.8"
  }
 },
 "nbformat": 4,
 "nbformat_minor": 2
}
