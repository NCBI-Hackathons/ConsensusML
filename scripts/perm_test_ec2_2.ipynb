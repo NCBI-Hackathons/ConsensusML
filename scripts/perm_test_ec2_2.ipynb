{
 "cells": [
  {
   "cell_type": "code",
   "execution_count": 1,
   "metadata": {},
   "outputs": [],
   "source": [
    "import numpy as np\n",
    "import pandas as pd\n",
    "from clean import manifest_clinical_merge\n",
    "from collections import Counter"
   ]
  },
  {
   "cell_type": "code",
   "execution_count": 2,
   "metadata": {},
   "outputs": [],
   "source": [
    "pd.set_option('display.max_columns', 100)"
   ]
  },
  {
   "cell_type": "markdown",
   "metadata": {},
   "source": [
    "# Data Prep"
   ]
  },
  {
   "cell_type": "code",
   "execution_count": 3,
   "metadata": {},
   "outputs": [
    {
     "name": "stderr",
     "output_type": "stream",
     "text": [
      "/home/ubuntu/projects/RNAseq_Cancer_Biomarkers/scripts/clean.py:16: SettingWithCopyWarning: \n",
      "A value is trying to be set on a copy of a slice from a DataFrame.\n",
      "Try using .loc[row_indexer,col_indexer] = value instead\n",
      "\n",
      "See the caveats in the documentation: http://pandas.pydata.org/pandas-docs/stable/indexing.html#indexing-view-versus-copy\n",
      "  target_df['TARGET USI'] = target_df.loc[:, 'entity_submitter_id'].apply(lambda x: x[:16])\n"
     ]
    }
   ],
   "source": [
    "manifest_df = pd.read_csv('../Manifest_Data/GCD_TARGET_Data_Manifest_AML_NBL_WT_RT.csv')\n",
    "\n",
    "wt_disc_df = pd.read_excel('../Clinical_Data/TARGET_WT_ClinicalData_Discovery_20160714_public.xlsx')\n",
    "aml_disc_df = pd.read_excel('../Clinical_Data/TARGET_AML_ClinicalData_20160714.xlsx')\n",
    "nbl_disc_df = pd.read_excel('../Clinical_Data/TARGET_NBL_ClinicalData_20151124.xlsx')\n",
    "\n",
    "WT_df = manifest_clinical_merge(manifest_df, wt_disc_df, 'TARGET-WT')\n",
    "AML_df = manifest_clinical_merge(manifest_df, aml_disc_df, 'TARGET-AML')\n",
    "NBL_df = manifest_clinical_merge(manifest_df, nbl_disc_df, 'TARGET-NBL')"
   ]
  },
  {
   "cell_type": "code",
   "execution_count": 4,
   "metadata": {},
   "outputs": [],
   "source": [
    "from clean import assay_transpose"
   ]
  },
  {
   "cell_type": "code",
   "execution_count": 5,
   "metadata": {},
   "outputs": [],
   "source": [
    "assay_df = pd.read_csv('../Expn_Data/TARGET_NBL_AML_RT_WT_TMMCPM_log2_Norm_Counts.csv.zip')\n",
    "assay_t_df = assay_transpose(assay_df)"
   ]
  },
  {
   "cell_type": "code",
   "execution_count": 6,
   "metadata": {},
   "outputs": [],
   "source": [
    "from clean import assay_clinical_merge"
   ]
  },
  {
   "cell_type": "code",
   "execution_count": 7,
   "metadata": {},
   "outputs": [],
   "source": [
    "AML_genes = assay_clinical_merge(assay_t_df, AML_df)\n",
    "WT_genes = assay_clinical_merge(assay_t_df, WT_df)\n",
    "NBL_genes = assay_clinical_merge(assay_t_df, NBL_df)"
   ]
  },
  {
   "cell_type": "code",
   "execution_count": 8,
   "metadata": {},
   "outputs": [],
   "source": [
    "from model_comp import data_prep_columns"
   ]
  },
  {
   "cell_type": "code",
   "execution_count": 9,
   "metadata": {},
   "outputs": [],
   "source": [
    "# import xgboost"
   ]
  },
  {
   "cell_type": "code",
   "execution_count": 10,
   "metadata": {},
   "outputs": [],
   "source": [
    "df, __ = data_prep_columns(AML_genes, 'neither')"
   ]
  },
  {
   "cell_type": "code",
   "execution_count": 11,
   "metadata": {},
   "outputs": [
    {
     "name": "stdout",
     "output_type": "stream",
     "text": [
      "<class 'pandas.core.frame.DataFrame'>\n",
      "Int64Index: 137 entries, 3 to 185\n",
      "Columns: 21492 entries, TARGET USI to Low Risk\n",
      "dtypes: float64(3), int64(7), object(21482)\n",
      "memory usage: 22.5+ MB\n",
      "None\n",
      "\n",
      "\n",
      "<class 'pandas.core.frame.DataFrame'>\n",
      "Int64Index: 187 entries, 0 to 186\n",
      "Columns: 21491 entries, TARGET USI to __alignment_not_unique\n",
      "dtypes: float64(3), int64(6), object(21482)\n",
      "memory usage: 30.7+ MB\n"
     ]
    }
   ],
   "source": [
    "print(df.info())\n",
    "print('\\n')\n",
    "AML_genes.info()"
   ]
  },
  {
   "cell_type": "markdown",
   "metadata": {},
   "source": [
    "## train/test split selection\n",
    "\n",
    "- testing - 44 samples from composite_code\n",
    "- training - 93 samples from composite_code\n",
    "- N = 137"
   ]
  },
  {
   "cell_type": "code",
   "execution_count": 12,
   "metadata": {},
   "outputs": [],
   "source": [
    "testing = pd.read_csv('../composite_code/rnotebook/data/TARGET_AML_Testing_Samples.csv')\n",
    "training = pd.read_csv('../composite_code/rnotebook/data/TARGET_AML_Training_Samples.csv')"
   ]
  },
  {
   "cell_type": "code",
   "execution_count": 13,
   "metadata": {},
   "outputs": [
    {
     "data": {
      "text/html": [
       "<div>\n",
       "<style scoped>\n",
       "    .dataframe tbody tr th:only-of-type {\n",
       "        vertical-align: middle;\n",
       "    }\n",
       "\n",
       "    .dataframe tbody tr th {\n",
       "        vertical-align: top;\n",
       "    }\n",
       "\n",
       "    .dataframe thead th {\n",
       "        text-align: right;\n",
       "    }\n",
       "</style>\n",
       "<table border=\"1\" class=\"dataframe\">\n",
       "  <thead>\n",
       "    <tr style=\"text-align: right;\">\n",
       "      <th></th>\n",
       "      <th>TARGET USI</th>\n",
       "      <th>Diagnostic ID</th>\n",
       "      <th>Gender</th>\n",
       "      <th>Race</th>\n",
       "      <th>Ethnicity</th>\n",
       "      <th>Age at Diagnosis in Days</th>\n",
       "      <th>First Event</th>\n",
       "      <th>Event Free Survival Time in Days</th>\n",
       "      <th>Vital Status</th>\n",
       "      <th>Overall Survival Time in Days</th>\n",
       "      <th>Year of Diagnosis</th>\n",
       "      <th>Year of Last Follow Up</th>\n",
       "      <th>Protocol</th>\n",
       "      <th>WBC at Diagnosis</th>\n",
       "      <th>Bone marrow leukemic blast percentage (%)</th>\n",
       "      <th>Peripheral blasts (%)</th>\n",
       "      <th>CNS disease</th>\n",
       "      <th>Chloroma</th>\n",
       "      <th>FAB Category</th>\n",
       "      <th>t(6;9)</th>\n",
       "      <th>t(8;21)</th>\n",
       "      <th>t(3;5)(q25;q34)</th>\n",
       "      <th>t(6;11)(q27;q23)</th>\n",
       "      <th>t(9;11)(p22;q23)</th>\n",
       "      <th>t(10;11)(p11.2;q23)</th>\n",
       "      <th>t(11:19)(q23:p13.1)</th>\n",
       "      <th>inv(16)</th>\n",
       "      <th>del5q</th>\n",
       "      <th>del7q</th>\n",
       "      <th>del9q</th>\n",
       "      <th>monosomy 5</th>\n",
       "      <th>monosomy 7</th>\n",
       "      <th>trisomy 8</th>\n",
       "      <th>trisomy 21</th>\n",
       "      <th>MLL</th>\n",
       "      <th>Minus Y</th>\n",
       "      <th>Minus X</th>\n",
       "      <th>Cytogenetic Code Other</th>\n",
       "      <th>Cytogenetic Complexity</th>\n",
       "      <th>Primary Cytogenetic Code</th>\n",
       "      <th>ISCN</th>\n",
       "      <th>FLT3/ITD positive?</th>\n",
       "      <th>FLT3/ITD allelic ratio</th>\n",
       "      <th>FLT3 PM</th>\n",
       "      <th>NPM mutation</th>\n",
       "      <th>CEBPA mutation</th>\n",
       "      <th>WT1 mutation</th>\n",
       "      <th>c-Kit Mutation Exon 8</th>\n",
       "      <th>c-Kit Mutation Exon 17</th>\n",
       "      <th>MRD at end of course 1</th>\n",
       "      <th>...</th>\n",
       "      <th>ENSG00000280913.1</th>\n",
       "      <th>ENSG00000280916.1</th>\n",
       "      <th>ENSG00000280927.1</th>\n",
       "      <th>ENSG00000280936.1</th>\n",
       "      <th>ENSG00000280953.1</th>\n",
       "      <th>ENSG00000280987.1</th>\n",
       "      <th>ENSG00000281005.1</th>\n",
       "      <th>ENSG00000281021.1</th>\n",
       "      <th>ENSG00000281026.1</th>\n",
       "      <th>ENSG00000281100.1</th>\n",
       "      <th>ENSG00000281103.1</th>\n",
       "      <th>ENSG00000281106.1</th>\n",
       "      <th>ENSG00000281128.1</th>\n",
       "      <th>ENSG00000281131.1</th>\n",
       "      <th>ENSG00000281183.1</th>\n",
       "      <th>ENSG00000281189.1</th>\n",
       "      <th>ENSG00000281195.1</th>\n",
       "      <th>ENSG00000281205.1</th>\n",
       "      <th>ENSG00000281207.1</th>\n",
       "      <th>ENSG00000281332.1</th>\n",
       "      <th>ENSG00000281344.1</th>\n",
       "      <th>ENSG00000281357.1</th>\n",
       "      <th>ENSG00000281358.1</th>\n",
       "      <th>ENSG00000281376.1</th>\n",
       "      <th>ENSG00000281383.1</th>\n",
       "      <th>ENSG00000281392.1</th>\n",
       "      <th>ENSG00000281398.1</th>\n",
       "      <th>ENSG00000281404.1</th>\n",
       "      <th>ENSG00000281406.1</th>\n",
       "      <th>ENSG00000281433.1</th>\n",
       "      <th>ENSG00000281445.1</th>\n",
       "      <th>ENSG00000281468.1</th>\n",
       "      <th>ENSG00000281490.1</th>\n",
       "      <th>ENSG00000281501.1</th>\n",
       "      <th>ENSG00000281527.1</th>\n",
       "      <th>ENSG00000281538.1</th>\n",
       "      <th>ENSG00000281555.1</th>\n",
       "      <th>ENSG00000281571.1</th>\n",
       "      <th>ENSG00000281628.1</th>\n",
       "      <th>ENSG00000281649.1</th>\n",
       "      <th>ENSG00000281691.1</th>\n",
       "      <th>ENSG00000281706.1</th>\n",
       "      <th>ENSG00000281741.1</th>\n",
       "      <th>ENSG00000281789.1</th>\n",
       "      <th>ENSG00000281896.1</th>\n",
       "      <th>ENSG00000281912.1</th>\n",
       "      <th>__no_feature</th>\n",
       "      <th>__ambiguous</th>\n",
       "      <th>__alignment_not_unique</th>\n",
       "      <th>Low Risk</th>\n",
       "    </tr>\n",
       "  </thead>\n",
       "  <tbody>\n",
       "    <tr>\n",
       "      <th>3</th>\n",
       "      <td>TARGET-20-PADZCG</td>\n",
       "      <td>09A</td>\n",
       "      <td>Female</td>\n",
       "      <td>Unknown</td>\n",
       "      <td>Not Hispanic or Latino</td>\n",
       "      <td>5325</td>\n",
       "      <td>Relapse</td>\n",
       "      <td>314</td>\n",
       "      <td>Dead</td>\n",
       "      <td>536</td>\n",
       "      <td>1996</td>\n",
       "      <td>1998</td>\n",
       "      <td>CCG-2961</td>\n",
       "      <td>29.3</td>\n",
       "      <td>58</td>\n",
       "      <td>5</td>\n",
       "      <td>No</td>\n",
       "      <td>No</td>\n",
       "      <td>M4</td>\n",
       "      <td>No</td>\n",
       "      <td>No</td>\n",
       "      <td>No</td>\n",
       "      <td>No</td>\n",
       "      <td>No</td>\n",
       "      <td>No</td>\n",
       "      <td>No</td>\n",
       "      <td>No</td>\n",
       "      <td>No</td>\n",
       "      <td>No</td>\n",
       "      <td>No</td>\n",
       "      <td>No</td>\n",
       "      <td>No</td>\n",
       "      <td>No</td>\n",
       "      <td>No</td>\n",
       "      <td>No</td>\n",
       "      <td>No</td>\n",
       "      <td>No</td>\n",
       "      <td></td>\n",
       "      <td>0</td>\n",
       "      <td>Normal</td>\n",
       "      <td>46,XX[20]</td>\n",
       "      <td>No</td>\n",
       "      <td>NaN</td>\n",
       "      <td>No</td>\n",
       "      <td>No</td>\n",
       "      <td>No</td>\n",
       "      <td>No</td>\n",
       "      <td>Not done</td>\n",
       "      <td>Not done</td>\n",
       "      <td>Unknown</td>\n",
       "      <td>...</td>\n",
       "      <td>-2.42284</td>\n",
       "      <td>0.314777</td>\n",
       "      <td>1.74517</td>\n",
       "      <td>-6.92714</td>\n",
       "      <td>-6.12136</td>\n",
       "      <td>1.40683</td>\n",
       "      <td>0.995511</td>\n",
       "      <td>-0.223406</td>\n",
       "      <td>2.2914</td>\n",
       "      <td>-0.613341</td>\n",
       "      <td>3.9011</td>\n",
       "      <td>1.61224</td>\n",
       "      <td>-4.6821</td>\n",
       "      <td>-6.92714</td>\n",
       "      <td>0.8846</td>\n",
       "      <td>-2.4712</td>\n",
       "      <td>0.732776</td>\n",
       "      <td>0.678398</td>\n",
       "      <td>0.391151</td>\n",
       "      <td>1.82242</td>\n",
       "      <td>1.4786</td>\n",
       "      <td>1.37983</td>\n",
       "      <td>0.894175</td>\n",
       "      <td>-1.11056</td>\n",
       "      <td>-0.330849</td>\n",
       "      <td>0.0915962</td>\n",
       "      <td>1.95643</td>\n",
       "      <td>-0.547052</td>\n",
       "      <td>-6.92714</td>\n",
       "      <td>-1.45498</td>\n",
       "      <td>1.12314</td>\n",
       "      <td>-2.93057</td>\n",
       "      <td>2.9388</td>\n",
       "      <td>1.76878</td>\n",
       "      <td>0.580973</td>\n",
       "      <td>-0.832714</td>\n",
       "      <td>-1.78095</td>\n",
       "      <td>0.132623</td>\n",
       "      <td>-0.682824</td>\n",
       "      <td>5.46561</td>\n",
       "      <td>-0.330849</td>\n",
       "      <td>-1.84323</td>\n",
       "      <td>-0.801464</td>\n",
       "      <td>-0.364707</td>\n",
       "      <td>2.1646</td>\n",
       "      <td>-0.152689</td>\n",
       "      <td>17.1243</td>\n",
       "      <td>14.6061</td>\n",
       "      <td>17.8527</td>\n",
       "      <td>0</td>\n",
       "    </tr>\n",
       "    <tr>\n",
       "      <th>5</th>\n",
       "      <td>TARGET-20-PAEAKL</td>\n",
       "      <td>09A</td>\n",
       "      <td>Female</td>\n",
       "      <td>Black or African American</td>\n",
       "      <td>Not Hispanic or Latino</td>\n",
       "      <td>5218</td>\n",
       "      <td>Relapse</td>\n",
       "      <td>134</td>\n",
       "      <td>Dead</td>\n",
       "      <td>163</td>\n",
       "      <td>1997</td>\n",
       "      <td>1997</td>\n",
       "      <td>CCG-2961</td>\n",
       "      <td>96.1</td>\n",
       "      <td>80</td>\n",
       "      <td>81</td>\n",
       "      <td>Yes</td>\n",
       "      <td>No</td>\n",
       "      <td>M5</td>\n",
       "      <td>No</td>\n",
       "      <td>No</td>\n",
       "      <td>No</td>\n",
       "      <td>No</td>\n",
       "      <td>Yes</td>\n",
       "      <td>No</td>\n",
       "      <td>Yes</td>\n",
       "      <td>No</td>\n",
       "      <td>No</td>\n",
       "      <td>No</td>\n",
       "      <td>No</td>\n",
       "      <td>No</td>\n",
       "      <td>No</td>\n",
       "      <td>No</td>\n",
       "      <td>No</td>\n",
       "      <td>Yes</td>\n",
       "      <td>No</td>\n",
       "      <td>No</td>\n",
       "      <td></td>\n",
       "      <td>1</td>\n",
       "      <td>MLL</td>\n",
       "      <td>46,XX,t(11:19)(q23:p13.1)[20]</td>\n",
       "      <td>No</td>\n",
       "      <td>NaN</td>\n",
       "      <td>No</td>\n",
       "      <td>No</td>\n",
       "      <td>No</td>\n",
       "      <td>No</td>\n",
       "      <td>Not done</td>\n",
       "      <td>Not done</td>\n",
       "      <td>Unknown</td>\n",
       "      <td>...</td>\n",
       "      <td>-5.80459</td>\n",
       "      <td>-6.92714</td>\n",
       "      <td>1.03526</td>\n",
       "      <td>-6.92714</td>\n",
       "      <td>-6.92714</td>\n",
       "      <td>0.113774</td>\n",
       "      <td>1.32433</td>\n",
       "      <td>-4.41384</td>\n",
       "      <td>0.664587</td>\n",
       "      <td>-6.92714</td>\n",
       "      <td>1.21435</td>\n",
       "      <td>-6.92714</td>\n",
       "      <td>-6.92714</td>\n",
       "      <td>-5.80459</td>\n",
       "      <td>-0.0939682</td>\n",
       "      <td>-2.53384</td>\n",
       "      <td>-1.48807</td>\n",
       "      <td>-4.14335</td>\n",
       "      <td>-1.05214</td>\n",
       "      <td>0.929309</td>\n",
       "      <td>0.340124</td>\n",
       "      <td>0.95113</td>\n",
       "      <td>1.78753</td>\n",
       "      <td>-0.202203</td>\n",
       "      <td>6.32096</td>\n",
       "      <td>-0.544956</td>\n",
       "      <td>1.04881</td>\n",
       "      <td>0.496696</td>\n",
       "      <td>-6.92714</td>\n",
       "      <td>-2.79931</td>\n",
       "      <td>-0.914236</td>\n",
       "      <td>-1.94482</td>\n",
       "      <td>1.12118</td>\n",
       "      <td>3.16766</td>\n",
       "      <td>-2.61702</td>\n",
       "      <td>-1.89207</td>\n",
       "      <td>-3.1249</td>\n",
       "      <td>1.05554</td>\n",
       "      <td>-1.94482</td>\n",
       "      <td>3.83862</td>\n",
       "      <td>-2.17756</td>\n",
       "      <td>-0.717812</td>\n",
       "      <td>-0.88817</td>\n",
       "      <td>1.75482</td>\n",
       "      <td>0.456577</td>\n",
       "      <td>0.965496</td>\n",
       "      <td>16.7942</td>\n",
       "      <td>15.3635</td>\n",
       "      <td>19.6702</td>\n",
       "      <td>0</td>\n",
       "    </tr>\n",
       "    <tr>\n",
       "      <th>9</th>\n",
       "      <td>TARGET-20-PAEERJ</td>\n",
       "      <td>09A</td>\n",
       "      <td>Female</td>\n",
       "      <td>White</td>\n",
       "      <td>Not Hispanic or Latino</td>\n",
       "      <td>5082</td>\n",
       "      <td>Relapse</td>\n",
       "      <td>259</td>\n",
       "      <td>Dead</td>\n",
       "      <td>373</td>\n",
       "      <td>1997</td>\n",
       "      <td>1998</td>\n",
       "      <td>CCG-2961</td>\n",
       "      <td>71.9</td>\n",
       "      <td>60</td>\n",
       "      <td>41</td>\n",
       "      <td>No</td>\n",
       "      <td>No</td>\n",
       "      <td>M4</td>\n",
       "      <td>No</td>\n",
       "      <td>No</td>\n",
       "      <td>Yes</td>\n",
       "      <td>No</td>\n",
       "      <td>No</td>\n",
       "      <td>No</td>\n",
       "      <td>No</td>\n",
       "      <td>No</td>\n",
       "      <td>No</td>\n",
       "      <td>No</td>\n",
       "      <td>No</td>\n",
       "      <td>No</td>\n",
       "      <td>No</td>\n",
       "      <td>No</td>\n",
       "      <td>No</td>\n",
       "      <td>No</td>\n",
       "      <td>No</td>\n",
       "      <td>No</td>\n",
       "      <td></td>\n",
       "      <td>1</td>\n",
       "      <td>Other</td>\n",
       "      <td>46,XX,t(3:5)(q23:q33)[19]/46,XX[1]</td>\n",
       "      <td>Yes</td>\n",
       "      <td>0.55</td>\n",
       "      <td>No</td>\n",
       "      <td>No</td>\n",
       "      <td>No</td>\n",
       "      <td>Yes</td>\n",
       "      <td>Not done</td>\n",
       "      <td>Not done</td>\n",
       "      <td>Unknown</td>\n",
       "      <td>...</td>\n",
       "      <td>-3.82289</td>\n",
       "      <td>-3.00939</td>\n",
       "      <td>2.17987</td>\n",
       "      <td>-6.92714</td>\n",
       "      <td>-6.92714</td>\n",
       "      <td>1.94937</td>\n",
       "      <td>-1.00327</td>\n",
       "      <td>0.722174</td>\n",
       "      <td>3.02575</td>\n",
       "      <td>-3.82289</td>\n",
       "      <td>4.43513</td>\n",
       "      <td>-3.49809</td>\n",
       "      <td>-6.92714</td>\n",
       "      <td>-6.92714</td>\n",
       "      <td>1.32028</td>\n",
       "      <td>-4.50961</td>\n",
       "      <td>1.67087</td>\n",
       "      <td>-2.35434</td>\n",
       "      <td>-0.680935</td>\n",
       "      <td>1.47645</td>\n",
       "      <td>1.32543</td>\n",
       "      <td>0.512625</td>\n",
       "      <td>0.884345</td>\n",
       "      <td>-0.488087</td>\n",
       "      <td>-1.00327</td>\n",
       "      <td>-1.25643</td>\n",
       "      <td>2.91237</td>\n",
       "      <td>-0.209853</td>\n",
       "      <td>-6.92714</td>\n",
       "      <td>-1.35175</td>\n",
       "      <td>-0.0681887</td>\n",
       "      <td>-2.81572</td>\n",
       "      <td>-0.0817453</td>\n",
       "      <td>0.557041</td>\n",
       "      <td>0.30953</td>\n",
       "      <td>-2.56667</td>\n",
       "      <td>-1.85807</td>\n",
       "      <td>-0.470147</td>\n",
       "      <td>1.27314</td>\n",
       "      <td>6.07709</td>\n",
       "      <td>0.768241</td>\n",
       "      <td>-0.600677</td>\n",
       "      <td>-1.56366</td>\n",
       "      <td>-0.506252</td>\n",
       "      <td>2.3282</td>\n",
       "      <td>-2.90931</td>\n",
       "      <td>16.916</td>\n",
       "      <td>14.5652</td>\n",
       "      <td>17.571</td>\n",
       "      <td>0</td>\n",
       "    </tr>\n",
       "    <tr>\n",
       "      <th>10</th>\n",
       "      <td>TARGET-20-PAEFGR</td>\n",
       "      <td>09A</td>\n",
       "      <td>Female</td>\n",
       "      <td>White</td>\n",
       "      <td>Not Hispanic or Latino</td>\n",
       "      <td>549</td>\n",
       "      <td>Relapse</td>\n",
       "      <td>497</td>\n",
       "      <td>Alive</td>\n",
       "      <td>4022</td>\n",
       "      <td>1997</td>\n",
       "      <td>2008</td>\n",
       "      <td>CCG-2961</td>\n",
       "      <td>51.2</td>\n",
       "      <td>75</td>\n",
       "      <td>41</td>\n",
       "      <td>No</td>\n",
       "      <td>No</td>\n",
       "      <td>M2</td>\n",
       "      <td>No</td>\n",
       "      <td>No</td>\n",
       "      <td>No</td>\n",
       "      <td>No</td>\n",
       "      <td>No</td>\n",
       "      <td>No</td>\n",
       "      <td>No</td>\n",
       "      <td>Yes</td>\n",
       "      <td>No</td>\n",
       "      <td>No</td>\n",
       "      <td>No</td>\n",
       "      <td>No</td>\n",
       "      <td>No</td>\n",
       "      <td>No</td>\n",
       "      <td>No</td>\n",
       "      <td>No</td>\n",
       "      <td>No</td>\n",
       "      <td>No</td>\n",
       "      <td></td>\n",
       "      <td>1</td>\n",
       "      <td>inv(16)</td>\n",
       "      <td>46,XX,inv(16)(p13q22)[21]/46,XX[1]</td>\n",
       "      <td>No</td>\n",
       "      <td>NaN</td>\n",
       "      <td>No</td>\n",
       "      <td>No</td>\n",
       "      <td>No</td>\n",
       "      <td>No</td>\n",
       "      <td>Yes</td>\n",
       "      <td>No</td>\n",
       "      <td>Unknown</td>\n",
       "      <td>...</td>\n",
       "      <td>-3.84721</td>\n",
       "      <td>-6.92714</td>\n",
       "      <td>2.06681</td>\n",
       "      <td>-6.92714</td>\n",
       "      <td>-6.92714</td>\n",
       "      <td>3.00886</td>\n",
       "      <td>0.439416</td>\n",
       "      <td>1.58251</td>\n",
       "      <td>3.39861</td>\n",
       "      <td>-1.60007</td>\n",
       "      <td>0.97725</td>\n",
       "      <td>-4.20646</td>\n",
       "      <td>-5.40914</td>\n",
       "      <td>-5.40914</td>\n",
       "      <td>1.22423</td>\n",
       "      <td>-3.32027</td>\n",
       "      <td>2.17352</td>\n",
       "      <td>-4.20646</td>\n",
       "      <td>-0.369531</td>\n",
       "      <td>0.518673</td>\n",
       "      <td>-0.259634</td>\n",
       "      <td>0.651209</td>\n",
       "      <td>1.26157</td>\n",
       "      <td>-0.488494</td>\n",
       "      <td>-0.369531</td>\n",
       "      <td>-1.47196</td>\n",
       "      <td>4.20787</td>\n",
       "      <td>-1.3543</td>\n",
       "      <td>-5.40914</td>\n",
       "      <td>-1.24551</td>\n",
       "      <td>2.43284</td>\n",
       "      <td>-3.55981</td>\n",
       "      <td>0.00544204</td>\n",
       "      <td>-0.618155</td>\n",
       "      <td>0.835853</td>\n",
       "      <td>-2.93514</td>\n",
       "      <td>-1.8965</td>\n",
       "      <td>0.471643</td>\n",
       "      <td>0.210317</td>\n",
       "      <td>6.03917</td>\n",
       "      <td>1.64743</td>\n",
       "      <td>-3.84721</td>\n",
       "      <td>1.08534</td>\n",
       "      <td>-2.16718</td>\n",
       "      <td>3.11978</td>\n",
       "      <td>-1.81649</td>\n",
       "      <td>17.6644</td>\n",
       "      <td>14.8379</td>\n",
       "      <td>18.3827</td>\n",
       "      <td>1</td>\n",
       "    </tr>\n",
       "    <tr>\n",
       "      <th>12</th>\n",
       "      <td>TARGET-20-PAEFGT</td>\n",
       "      <td>03A</td>\n",
       "      <td>Female</td>\n",
       "      <td>White</td>\n",
       "      <td>Not Hispanic or Latino</td>\n",
       "      <td>5452</td>\n",
       "      <td>Relapse</td>\n",
       "      <td>213</td>\n",
       "      <td>Dead</td>\n",
       "      <td>315</td>\n",
       "      <td>1997</td>\n",
       "      <td>1998</td>\n",
       "      <td>CCG-2961</td>\n",
       "      <td>11.4</td>\n",
       "      <td>100</td>\n",
       "      <td>70</td>\n",
       "      <td>No</td>\n",
       "      <td>No</td>\n",
       "      <td>M2</td>\n",
       "      <td>Unknown</td>\n",
       "      <td>Unknown</td>\n",
       "      <td>Unknown</td>\n",
       "      <td>Unknown</td>\n",
       "      <td>Unknown</td>\n",
       "      <td>Unknown</td>\n",
       "      <td>Unknown</td>\n",
       "      <td>Unknown</td>\n",
       "      <td>Unknown</td>\n",
       "      <td>Unknown</td>\n",
       "      <td>Unknown</td>\n",
       "      <td>Unknown</td>\n",
       "      <td>Unknown</td>\n",
       "      <td>Unknown</td>\n",
       "      <td>Unknown</td>\n",
       "      <td>Unknown</td>\n",
       "      <td>Unknown</td>\n",
       "      <td>Unknown</td>\n",
       "      <td></td>\n",
       "      <td>0</td>\n",
       "      <td>Unknown</td>\n",
       "      <td>I</td>\n",
       "      <td>Yes</td>\n",
       "      <td>0.83</td>\n",
       "      <td>No</td>\n",
       "      <td>Unknown</td>\n",
       "      <td>No</td>\n",
       "      <td>Yes</td>\n",
       "      <td>Not done</td>\n",
       "      <td>Not done</td>\n",
       "      <td>Unknown</td>\n",
       "      <td>...</td>\n",
       "      <td>-3.67684</td>\n",
       "      <td>-4.0422</td>\n",
       "      <td>1.47104</td>\n",
       "      <td>-6.92714</td>\n",
       "      <td>-6.92714</td>\n",
       "      <td>4.29801</td>\n",
       "      <td>-1.79528</td>\n",
       "      <td>1.0018</td>\n",
       "      <td>1.82454</td>\n",
       "      <td>-2.75471</td>\n",
       "      <td>4.68013</td>\n",
       "      <td>-2.75471</td>\n",
       "      <td>-6.92714</td>\n",
       "      <td>-6.92714</td>\n",
       "      <td>1.37701</td>\n",
       "      <td>-5.28148</td>\n",
       "      <td>0.260374</td>\n",
       "      <td>-3.38555</td>\n",
       "      <td>-1.41279</td>\n",
       "      <td>0.301911</td>\n",
       "      <td>-0.463034</td>\n",
       "      <td>2.06064</td>\n",
       "      <td>0.693889</td>\n",
       "      <td>-0.0433916</td>\n",
       "      <td>1.3376</td>\n",
       "      <td>-1.16631</td>\n",
       "      <td>5.35495</td>\n",
       "      <td>0.72476</td>\n",
       "      <td>-6.92714</td>\n",
       "      <td>-1.55386</td>\n",
       "      <td>1.7364</td>\n",
       "      <td>-2.75471</td>\n",
       "      <td>-1.4816</td>\n",
       "      <td>0.419797</td>\n",
       "      <td>0.128065</td>\n",
       "      <td>-2.5937</td>\n",
       "      <td>-1.79528</td>\n",
       "      <td>1.22335</td>\n",
       "      <td>0.362058</td>\n",
       "      <td>6.54411</td>\n",
       "      <td>0.646308</td>\n",
       "      <td>-0.395081</td>\n",
       "      <td>-1.28429</td>\n",
       "      <td>-0.907716</td>\n",
       "      <td>2.45055</td>\n",
       "      <td>-1.55386</td>\n",
       "      <td>17.2728</td>\n",
       "      <td>14.9232</td>\n",
       "      <td>18.3348</td>\n",
       "      <td>0</td>\n",
       "    </tr>\n",
       "  </tbody>\n",
       "</table>\n",
       "<p>5 rows × 21492 columns</p>\n",
       "</div>"
      ],
      "text/plain": [
       "          TARGET USI Diagnostic ID  Gender                       Race  \\\n",
       "3   TARGET-20-PADZCG           09A  Female                    Unknown   \n",
       "5   TARGET-20-PAEAKL           09A  Female  Black or African American   \n",
       "9   TARGET-20-PAEERJ           09A  Female                      White   \n",
       "10  TARGET-20-PAEFGR           09A  Female                      White   \n",
       "12  TARGET-20-PAEFGT           03A  Female                      White   \n",
       "\n",
       "                 Ethnicity  Age at Diagnosis in Days First Event  \\\n",
       "3   Not Hispanic or Latino                      5325     Relapse   \n",
       "5   Not Hispanic or Latino                      5218     Relapse   \n",
       "9   Not Hispanic or Latino                      5082     Relapse   \n",
       "10  Not Hispanic or Latino                       549     Relapse   \n",
       "12  Not Hispanic or Latino                      5452     Relapse   \n",
       "\n",
       "    Event Free Survival Time in Days Vital Status  \\\n",
       "3                                314         Dead   \n",
       "5                                134         Dead   \n",
       "9                                259         Dead   \n",
       "10                               497        Alive   \n",
       "12                               213         Dead   \n",
       "\n",
       "    Overall Survival Time in Days  Year of Diagnosis  Year of Last Follow Up  \\\n",
       "3                             536               1996                    1998   \n",
       "5                             163               1997                    1997   \n",
       "9                             373               1997                    1998   \n",
       "10                           4022               1997                    2008   \n",
       "12                            315               1997                    1998   \n",
       "\n",
       "    Protocol  WBC at Diagnosis Bone marrow leukemic blast percentage (%)  \\\n",
       "3   CCG-2961              29.3                                        58   \n",
       "5   CCG-2961              96.1                                        80   \n",
       "9   CCG-2961              71.9                                        60   \n",
       "10  CCG-2961              51.2                                        75   \n",
       "12  CCG-2961              11.4                                       100   \n",
       "\n",
       "   Peripheral blasts (%) CNS disease Chloroma FAB Category   t(6;9)  t(8;21)  \\\n",
       "3                      5          No       No           M4       No       No   \n",
       "5                     81         Yes       No           M5       No       No   \n",
       "9                     41          No       No           M4       No       No   \n",
       "10                    41          No       No           M2       No       No   \n",
       "12                    70          No       No           M2  Unknown  Unknown   \n",
       "\n",
       "   t(3;5)(q25;q34) t(6;11)(q27;q23) t(9;11)(p22;q23) t(10;11)(p11.2;q23)  \\\n",
       "3               No               No               No                  No   \n",
       "5               No               No              Yes                  No   \n",
       "9              Yes               No               No                  No   \n",
       "10              No               No               No                  No   \n",
       "12         Unknown          Unknown          Unknown             Unknown   \n",
       "\n",
       "   t(11:19)(q23:p13.1)  inv(16)    del5q    del7q    del9q monosomy 5  \\\n",
       "3                   No       No       No       No       No         No   \n",
       "5                  Yes       No       No       No       No         No   \n",
       "9                   No       No       No       No       No         No   \n",
       "10                  No      Yes       No       No       No         No   \n",
       "12             Unknown  Unknown  Unknown  Unknown  Unknown    Unknown   \n",
       "\n",
       "   monosomy 7 trisomy 8 trisomy 21      MLL  Minus Y  Minus X  \\\n",
       "3          No        No         No       No       No       No   \n",
       "5          No        No         No      Yes       No       No   \n",
       "9          No        No         No       No       No       No   \n",
       "10         No        No         No       No       No       No   \n",
       "12    Unknown   Unknown    Unknown  Unknown  Unknown  Unknown   \n",
       "\n",
       "   Cytogenetic Code Other Cytogenetic Complexity Primary Cytogenetic Code  \\\n",
       "3                                              0                   Normal   \n",
       "5                                              1                      MLL   \n",
       "9                                              1                    Other   \n",
       "10                                             1                  inv(16)   \n",
       "12                                             0                  Unknown   \n",
       "\n",
       "                                  ISCN FLT3/ITD positive?  \\\n",
       "3                            46,XX[20]                 No   \n",
       "5        46,XX,t(11:19)(q23:p13.1)[20]                 No   \n",
       "9   46,XX,t(3:5)(q23:q33)[19]/46,XX[1]                Yes   \n",
       "10  46,XX,inv(16)(p13q22)[21]/46,XX[1]                 No   \n",
       "12                                   I                Yes   \n",
       "\n",
       "    FLT3/ITD allelic ratio FLT3 PM NPM mutation CEBPA mutation WT1 mutation  \\\n",
       "3                      NaN      No           No             No           No   \n",
       "5                      NaN      No           No             No           No   \n",
       "9                     0.55      No           No             No          Yes   \n",
       "10                     NaN      No           No             No           No   \n",
       "12                    0.83      No      Unknown             No          Yes   \n",
       "\n",
       "   c-Kit Mutation Exon 8 c-Kit Mutation Exon 17 MRD at end of course 1  \\\n",
       "3               Not done               Not done                Unknown   \n",
       "5               Not done               Not done                Unknown   \n",
       "9               Not done               Not done                Unknown   \n",
       "10                   Yes                     No                Unknown   \n",
       "12              Not done               Not done                Unknown   \n",
       "\n",
       "     ...    ENSG00000280913.1 ENSG00000280916.1  ENSG00000280927.1  \\\n",
       "3    ...             -2.42284          0.314777            1.74517   \n",
       "5    ...             -5.80459          -6.92714            1.03526   \n",
       "9    ...             -3.82289          -3.00939            2.17987   \n",
       "10   ...             -3.84721          -6.92714            2.06681   \n",
       "12   ...             -3.67684           -4.0422            1.47104   \n",
       "\n",
       "   ENSG00000280936.1 ENSG00000280953.1 ENSG00000280987.1 ENSG00000281005.1  \\\n",
       "3           -6.92714          -6.12136           1.40683          0.995511   \n",
       "5           -6.92714          -6.92714          0.113774           1.32433   \n",
       "9           -6.92714          -6.92714           1.94937          -1.00327   \n",
       "10          -6.92714          -6.92714           3.00886          0.439416   \n",
       "12          -6.92714          -6.92714           4.29801          -1.79528   \n",
       "\n",
       "   ENSG00000281021.1 ENSG00000281026.1 ENSG00000281100.1 ENSG00000281103.1  \\\n",
       "3          -0.223406            2.2914         -0.613341            3.9011   \n",
       "5           -4.41384          0.664587          -6.92714           1.21435   \n",
       "9           0.722174           3.02575          -3.82289           4.43513   \n",
       "10           1.58251           3.39861          -1.60007           0.97725   \n",
       "12            1.0018           1.82454          -2.75471           4.68013   \n",
       "\n",
       "   ENSG00000281106.1 ENSG00000281128.1 ENSG00000281131.1 ENSG00000281183.1  \\\n",
       "3            1.61224           -4.6821          -6.92714            0.8846   \n",
       "5           -6.92714          -6.92714          -5.80459        -0.0939682   \n",
       "9           -3.49809          -6.92714          -6.92714           1.32028   \n",
       "10          -4.20646          -5.40914          -5.40914           1.22423   \n",
       "12          -2.75471          -6.92714          -6.92714           1.37701   \n",
       "\n",
       "   ENSG00000281189.1 ENSG00000281195.1 ENSG00000281205.1 ENSG00000281207.1  \\\n",
       "3            -2.4712          0.732776          0.678398          0.391151   \n",
       "5           -2.53384          -1.48807          -4.14335          -1.05214   \n",
       "9           -4.50961           1.67087          -2.35434         -0.680935   \n",
       "10          -3.32027           2.17352          -4.20646         -0.369531   \n",
       "12          -5.28148          0.260374          -3.38555          -1.41279   \n",
       "\n",
       "    ENSG00000281332.1 ENSG00000281344.1 ENSG00000281357.1 ENSG00000281358.1  \\\n",
       "3             1.82242            1.4786           1.37983          0.894175   \n",
       "5            0.929309          0.340124           0.95113           1.78753   \n",
       "9             1.47645           1.32543          0.512625          0.884345   \n",
       "10           0.518673         -0.259634          0.651209           1.26157   \n",
       "12           0.301911         -0.463034           2.06064          0.693889   \n",
       "\n",
       "   ENSG00000281376.1 ENSG00000281383.1 ENSG00000281392.1 ENSG00000281398.1  \\\n",
       "3           -1.11056         -0.330849         0.0915962           1.95643   \n",
       "5          -0.202203           6.32096         -0.544956           1.04881   \n",
       "9          -0.488087          -1.00327          -1.25643           2.91237   \n",
       "10         -0.488494         -0.369531          -1.47196           4.20787   \n",
       "12        -0.0433916            1.3376          -1.16631           5.35495   \n",
       "\n",
       "   ENSG00000281404.1 ENSG00000281406.1 ENSG00000281433.1 ENSG00000281445.1  \\\n",
       "3          -0.547052          -6.92714          -1.45498           1.12314   \n",
       "5           0.496696          -6.92714          -2.79931         -0.914236   \n",
       "9          -0.209853          -6.92714          -1.35175        -0.0681887   \n",
       "10           -1.3543          -5.40914          -1.24551           2.43284   \n",
       "12           0.72476          -6.92714          -1.55386            1.7364   \n",
       "\n",
       "   ENSG00000281468.1 ENSG00000281490.1 ENSG00000281501.1 ENSG00000281527.1  \\\n",
       "3           -2.93057            2.9388           1.76878          0.580973   \n",
       "5           -1.94482           1.12118           3.16766          -2.61702   \n",
       "9           -2.81572        -0.0817453          0.557041           0.30953   \n",
       "10          -3.55981        0.00544204         -0.618155          0.835853   \n",
       "12          -2.75471           -1.4816          0.419797          0.128065   \n",
       "\n",
       "   ENSG00000281538.1 ENSG00000281555.1 ENSG00000281571.1 ENSG00000281628.1  \\\n",
       "3          -0.832714          -1.78095          0.132623         -0.682824   \n",
       "5           -1.89207           -3.1249           1.05554          -1.94482   \n",
       "9           -2.56667          -1.85807         -0.470147           1.27314   \n",
       "10          -2.93514           -1.8965          0.471643          0.210317   \n",
       "12           -2.5937          -1.79528           1.22335          0.362058   \n",
       "\n",
       "   ENSG00000281649.1 ENSG00000281691.1 ENSG00000281706.1 ENSG00000281741.1  \\\n",
       "3            5.46561         -0.330849          -1.84323         -0.801464   \n",
       "5            3.83862          -2.17756         -0.717812          -0.88817   \n",
       "9            6.07709          0.768241         -0.600677          -1.56366   \n",
       "10           6.03917           1.64743          -3.84721           1.08534   \n",
       "12           6.54411          0.646308         -0.395081          -1.28429   \n",
       "\n",
       "   ENSG00000281789.1 ENSG00000281896.1 ENSG00000281912.1 __no_feature  \\\n",
       "3          -0.364707            2.1646         -0.152689      17.1243   \n",
       "5            1.75482          0.456577          0.965496      16.7942   \n",
       "9          -0.506252            2.3282          -2.90931       16.916   \n",
       "10          -2.16718           3.11978          -1.81649      17.6644   \n",
       "12         -0.907716           2.45055          -1.55386      17.2728   \n",
       "\n",
       "   __ambiguous __alignment_not_unique Low Risk  \n",
       "3      14.6061                17.8527        0  \n",
       "5      15.3635                19.6702        0  \n",
       "9      14.5652                 17.571        0  \n",
       "10     14.8379                18.3827        1  \n",
       "12     14.9232                18.3348        0  \n",
       "\n",
       "[5 rows x 21492 columns]"
      ]
     },
     "execution_count": 13,
     "metadata": {},
     "output_type": "execute_result"
    }
   ],
   "source": [
    "df.head()"
   ]
  },
  {
   "cell_type": "code",
   "execution_count": 14,
   "metadata": {},
   "outputs": [],
   "source": [
    "training_genes = list(training['x'])\n",
    "testing_genes = list(testing['x'])"
   ]
  },
  {
   "cell_type": "code",
   "execution_count": 15,
   "metadata": {},
   "outputs": [],
   "source": [
    "train_df = df[df['TARGET USI'].isin(training_genes)]\n",
    "test_df = df[df['TARGET USI'].isin(testing_genes)]"
   ]
  },
  {
   "cell_type": "code",
   "execution_count": 16,
   "metadata": {},
   "outputs": [
    {
     "name": "stdout",
     "output_type": "stream",
     "text": [
      "<class 'pandas.core.frame.DataFrame'>\n",
      "Int64Index: 93 entries, 3 to 185\n",
      "Columns: 21492 entries, TARGET USI to Low Risk\n",
      "dtypes: float64(3), int64(7), object(21482)\n",
      "memory usage: 15.3+ MB\n",
      "None\n",
      "\n",
      "\n",
      "<class 'pandas.core.frame.DataFrame'>\n",
      "Int64Index: 44 entries, 10 to 183\n",
      "Columns: 21492 entries, TARGET USI to Low Risk\n",
      "dtypes: float64(3), int64(7), object(21482)\n",
      "memory usage: 7.2+ MB\n",
      "None\n"
     ]
    }
   ],
   "source": [
    "print(train_df.info())\n",
    "print('\\n')\n",
    "print(test_df.info())"
   ]
  },
  {
   "cell_type": "markdown",
   "metadata": {},
   "source": [
    "### DF preparation\n",
    "data has been split, now prepare for modeling\n",
    "\n",
    "modeling on 21,404 genes"
   ]
  },
  {
   "cell_type": "code",
   "execution_count": 17,
   "metadata": {},
   "outputs": [],
   "source": [
    "model_columns = df.iloc[:, 84:-4].columns"
   ]
  },
  {
   "cell_type": "code",
   "execution_count": 18,
   "metadata": {},
   "outputs": [
    {
     "data": {
      "text/plain": [
       "Index(['ENSG00000000003.13', 'ENSG00000000005.5', 'ENSG00000000419.11',\n",
       "       'ENSG00000000457.12', 'ENSG00000000460.15', 'ENSG00000000938.11',\n",
       "       'ENSG00000000971.14', 'ENSG00000001036.12', 'ENSG00000001084.9',\n",
       "       'ENSG00000001167.13',\n",
       "       ...\n",
       "       'ENSG00000281555.1', 'ENSG00000281571.1', 'ENSG00000281628.1',\n",
       "       'ENSG00000281649.1', 'ENSG00000281691.1', 'ENSG00000281706.1',\n",
       "       'ENSG00000281741.1', 'ENSG00000281789.1', 'ENSG00000281896.1',\n",
       "       'ENSG00000281912.1'],\n",
       "      dtype='object', length=21404)"
      ]
     },
     "execution_count": 18,
     "metadata": {},
     "output_type": "execute_result"
    }
   ],
   "source": [
    "model_columns"
   ]
  },
  {
   "cell_type": "code",
   "execution_count": 20,
   "metadata": {},
   "outputs": [],
   "source": [
    "X_train = train_df[model_columns].astype(float)\n",
    "y_train = train_df.iloc[:, -1] #will scramble these\n",
    "\n",
    "X_test = test_df[model_columns].astype(float)\n",
    "y_test = test_df.iloc[:, -1]\n",
    "\n",
    "X = df[model_columns]\n",
    "y = df.iloc[:, -1]"
   ]
  },
  {
   "cell_type": "code",
   "execution_count": 21,
   "metadata": {},
   "outputs": [
    {
     "data": {
      "text/plain": [
       "93"
      ]
     },
     "execution_count": 21,
     "metadata": {},
     "output_type": "execute_result"
    }
   ],
   "source": [
    "len(y_train)"
   ]
  },
  {
   "cell_type": "code",
   "execution_count": 22,
   "metadata": {},
   "outputs": [],
   "source": [
    "from sklearn.metrics import log_loss, accuracy_score\n",
    "from sklearn.model_selection import train_test_split\n",
    "from sklearn.ensemble import  RandomForestClassifier\n",
    "from xgboost import XGBClassifier\n",
    "import random\n",
    "from sklearn.model_selection import permutation_test_score\n",
    "import datetime"
   ]
  },
  {
   "cell_type": "code",
   "execution_count": 23,
   "metadata": {},
   "outputs": [],
   "source": [
    "xgb = XGBClassifier(learning_rate = 0.01, max_depth = 3, n_estimators = 700, random_state=8, n_jobs=-1)\n",
    "rf = RandomForestClassifier(n_estimators=1000, max_depth=20, random_state=8, n_jobs=-1)"
   ]
  },
  {
   "cell_type": "code",
   "execution_count": 24,
   "metadata": {},
   "outputs": [
    {
     "name": "stdout",
     "output_type": "stream",
     "text": [
      "RF Performance: Accuracy: 0.8863636363636364 Log Loss: 0.37249402770254797\n",
      "\n",
      "\n",
      "XGB Performance: Accuracy: 0.9090909090909091 Log Loss: 0.21215451328845863\n"
     ]
    }
   ],
   "source": [
    "rf.fit(X_train, y_train)\n",
    "xgb.fit(X_train, y_train)\n",
    "\n",
    "p_rf = rf.predict_proba(X_test)\n",
    "p_xgb = xgb.predict_proba(X_test)\n",
    "p_rf_acc = rf.predict(X_test)\n",
    "p_xgb_acc = xgb.predict(X_test)\n",
    "\n",
    "rf_ll = log_loss(y_test, p_rf)\n",
    "xgb_ll = log_loss(y_test, p_xgb)\n",
    "rf_acc = accuracy_score(y_test, p_rf_acc)\n",
    "xgb_acc = accuracy_score(y_test, p_xgb_acc)\n",
    "\n",
    "print(f'RF Performance: Accuracy: {rf_acc} Log Loss: {rf_ll}')\n",
    "print('\\n')\n",
    "print(f'XGB Performance: Accuracy: {xgb_acc} Log Loss: {xgb_ll}')"
   ]
  },
  {
   "cell_type": "markdown",
   "metadata": {},
   "source": [
    "These are my benchmarks\n",
    "\n",
    "RF Performance: Accuracy: 0.8863636363636364 Log Loss: 0.37249402770254797\n",
    "\n",
    "XGB Performance: Accuracy: 0.9090909090909091 Log Loss: 0.21215451328845863\n",
    "\n",
    "### Permutation Tests"
   ]
  },
  {
   "cell_type": "code",
   "execution_count": 31,
   "metadata": {},
   "outputs": [
    {
     "name": "stdout",
     "output_type": "stream",
     "text": [
      "2019-03-30 15:48:05.676510\n",
      "\n",
      "\n"
     ]
    },
    {
     "name": "stderr",
     "output_type": "stream",
     "text": [
      "[Parallel(n_jobs=-1)]: Using backend LokyBackend with 8 concurrent workers.\n",
      "[Parallel(n_jobs=-1)]: Done  34 tasks      | elapsed:  2.7min\n"
     ]
    },
    {
     "name": "stdout",
     "output_type": "stream",
     "text": [
      "\n",
      "\n",
      "2019-03-30 15:51:41.194756\n"
     ]
    },
    {
     "name": "stderr",
     "output_type": "stream",
     "text": [
      "[Parallel(n_jobs=-1)]: Done  50 out of  50 | elapsed:  3.5min finished\n"
     ]
    }
   ],
   "source": [
    "print(datetime.datetime.utcnow())\n",
    "print('\\n')\n",
    "\n",
    "true_score, perm_scores, p_value =  permutation_test_score(rf, X, y, \n",
    "                                   scoring= 'neg_log_loss', cv=5, \n",
    "                                   n_permutations=50, n_jobs=-1, verbose=1)\n",
    "\n",
    "print('\\n')\n",
    "print(datetime.datetime.utcnow())"
   ]
  },
  {
   "cell_type": "code",
   "execution_count": 36,
   "metadata": {},
   "outputs": [
    {
     "data": {
      "text/plain": [
       "6.666666666666667"
      ]
     },
     "execution_count": 36,
     "metadata": {},
     "output_type": "execute_result"
    }
   ],
   "source": [
    "5000 / 50 * 4 / 60 \n",
    "# 5-7 hours to run"
   ]
  },
  {
   "cell_type": "markdown",
   "metadata": {},
   "source": [
    "### Lasso Regression\n",
    "\n",
    "then train on those features --> then do permutation test"
   ]
  },
  {
   "cell_type": "code",
   "execution_count": 37,
   "metadata": {},
   "outputs": [],
   "source": [
    "from sklearn.linear_model import LogisticRegression\n",
    "from sklearn.model_selection import train_test_split, KFold"
   ]
  },
  {
   "cell_type": "code",
   "execution_count": 46,
   "metadata": {},
   "outputs": [],
   "source": [
    "final_val = df.sample(frac=0.1)\n",
    "\n",
    "final_X = final_val[model_columns]\n",
    "final_y = final_val.iloc[:, -1]\n",
    "\n",
    "data = df.drop(index= final_val.index)\n",
    "X = data[model_columns]\n",
    "y = data.iloc[:, -1]"
   ]
  },
  {
   "cell_type": "code",
   "execution_count": 51,
   "metadata": {},
   "outputs": [
    {
     "data": {
      "text/plain": [
       "True"
      ]
     },
     "execution_count": 51,
     "metadata": {},
     "output_type": "execute_result"
    }
   ],
   "source": [
    "len(X) == len(y)"
   ]
  },
  {
   "cell_type": "code",
   "execution_count": 52,
   "metadata": {},
   "outputs": [],
   "source": [
    "# log_model = LogisticRegression(penalty='l1', solver='saga')\n",
    "# log_model.fit(X_train, y_train)\n",
    "# y_pred = log_model.predict_proba(X_test)\n",
    "# log_loss(y_test, y_pred)"
   ]
  },
  {
   "cell_type": "code",
   "execution_count": 53,
   "metadata": {},
   "outputs": [],
   "source": [
    "# log_model.coef_"
   ]
  },
  {
   "cell_type": "code",
   "execution_count": 56,
   "metadata": {},
   "outputs": [],
   "source": [
    "log_model = LogisticRegression(penalty='l1', solver='saga', max_iter=10000)\n",
    "kf = KFold(n_splits=5, shuffle=True)\n",
    "\n",
    "ll_performance = []\n",
    "model_weights = []\n",
    "for train_index, test_index in kf.split(X):\n",
    "    X_train, X_test = X.iloc[train_index], X.iloc[test_index]\n",
    "    y_train, y_test = y.iloc[train_index], y.iloc[test_index]\n",
    "    log_model.fit(X_train, y_train)\n",
    "    y_pred = log_model.predict_proba(X_test)\n",
    "    log_ll = log_loss(y_test, y_pred)\n",
    "    \n",
    "    ll_performance.append(log_ll)\n",
    "    model_weights.append(log_model.coef_)    "
   ]
  },
  {
   "cell_type": "markdown",
   "metadata": {},
   "source": [
    "Did a 5-split kfold validation to find optimal weights for the logistic regression"
   ]
  },
  {
   "cell_type": "code",
   "execution_count": 57,
   "metadata": {},
   "outputs": [
    {
     "data": {
      "text/plain": [
       "[0.1244686704975814,\n",
       " 0.16839041415802136,\n",
       " 0.28790563194982294,\n",
       " 0.2974177382044773,\n",
       " 0.09307145514906583]"
      ]
     },
     "execution_count": 57,
     "metadata": {},
     "output_type": "execute_result"
    }
   ],
   "source": [
    "ll_performance"
   ]
  },
  {
   "cell_type": "code",
   "execution_count": 100,
   "metadata": {},
   "outputs": [],
   "source": [
    "# len(model_weights)\n",
    "# model_weights[0]"
   ]
  },
  {
   "cell_type": "markdown",
   "metadata": {},
   "source": [
    "Here I am taking the average weight of all the coefs of the kfolds + also find the weight of the coefs\n",
    "for all kfolds to find genes that are deemed somewhat important."
   ]
  },
  {
   "cell_type": "code",
   "execution_count": 80,
   "metadata": {},
   "outputs": [],
   "source": [
    "average_weight = np.mean(model_weights, axis=0)[0]"
   ]
  },
  {
   "cell_type": "code",
   "execution_count": 87,
   "metadata": {},
   "outputs": [],
   "source": [
    "def important_gene_mask(columns, coefs):\n",
    "    mask = coefs != 0\n",
    "    important_genes = columns[mask[0]]\n",
    "    print(len(important_genes))\n",
    "    return important_genes"
   ]
  },
  {
   "cell_type": "code",
   "execution_count": 101,
   "metadata": {},
   "outputs": [
    {
     "name": "stdout",
     "output_type": "stream",
     "text": [
      "445\n",
      "491\n",
      "358\n",
      "488\n",
      "424\n"
     ]
    }
   ],
   "source": [
    "lasso_k1 = set(important_gene_mask(model_columns, model_weights[0]))\n",
    "lasso_k2 = set(important_gene_mask(model_columns, model_weights[1]))\n",
    "lasso_k3 = set(important_gene_mask(model_columns, model_weights[2]))\n",
    "lasso_k4 = set(important_gene_mask(model_columns, model_weights[3]))\n",
    "lasso_k5 = set(important_gene_mask(model_columns, model_weights[4]))"
   ]
  },
  {
   "cell_type": "code",
   "execution_count": 104,
   "metadata": {},
   "outputs": [
    {
     "data": {
      "text/plain": [
       "976"
      ]
     },
     "execution_count": 104,
     "metadata": {},
     "output_type": "execute_result"
    }
   ],
   "source": [
    "total_gene_union = set.union(lasso_k1, lasso_k2, lasso_k3, lasso_k4, lasso_k5)\n",
    "len(total_gene_union)"
   ]
  },
  {
   "cell_type": "markdown",
   "metadata": {},
   "source": [
    "976 possible genes the lasso regression thinks is important depending on the kfold it got.."
   ]
  },
  {
   "cell_type": "code",
   "execution_count": 105,
   "metadata": {},
   "outputs": [
    {
     "data": {
      "text/plain": [
       "114"
      ]
     },
     "execution_count": 105,
     "metadata": {},
     "output_type": "execute_result"
    }
   ],
   "source": [
    "total_gene_intersection = set.intersection(lasso_k1, lasso_k2, lasso_k3, lasso_k4, lasso_k5)\n",
    "len(total_gene_intersection)"
   ]
  },
  {
   "cell_type": "markdown",
   "metadata": {},
   "source": [
    "114 genes that all five lasso models agree on"
   ]
  },
  {
   "cell_type": "markdown",
   "metadata": {},
   "source": [
    "### Now lets use these 976 genes to model RF or XGB"
   ]
  },
  {
   "cell_type": "code",
   "execution_count": 108,
   "metadata": {},
   "outputs": [],
   "source": [
    "lasso_columns = list(total_gene_union)"
   ]
  },
  {
   "cell_type": "code",
   "execution_count": 109,
   "metadata": {},
   "outputs": [],
   "source": [
    "X_2 = data[lasso_columns]\n",
    "y_2 = data.iloc[:, -1]"
   ]
  },
  {
   "cell_type": "code",
   "execution_count": 114,
   "metadata": {},
   "outputs": [],
   "source": [
    "X_2 = X_2.apply(pd.to_numeric)"
   ]
  },
  {
   "cell_type": "code",
   "execution_count": 115,
   "metadata": {},
   "outputs": [],
   "source": [
    "xgb = XGBClassifier(learning_rate = 0.01, max_depth = 3, n_estimators = 700, random_state=8, n_jobs=-1)\n",
    "rf = RandomForestClassifier(n_estimators=1000, max_depth=20, random_state=8, n_jobs=-1)\n",
    "kf = KFold(n_splits=5, shuffle=True)\n",
    "\n",
    "rf_ll_performance = []\n",
    "rf_acc_performance = []\n",
    "\n",
    "xgb_ll_performance = []\n",
    "xgb_acc_performance = []\n",
    "\n",
    "\n",
    "for train_index, test_index in kf.split(X_2):\n",
    "    X_train, X_test = X_2.iloc[train_index], X_2.iloc[test_index]\n",
    "    y_train, y_test = y_2.iloc[train_index], y_2.iloc[test_index]\n",
    "    \n",
    "    rf.fit(X_train, y_train)\n",
    "    xgb.fit(X_train, y_train)\n",
    "\n",
    "    p_rf = rf.predict_proba(X_test)\n",
    "    p_xgb = xgb.predict_proba(X_test)\n",
    "    p_rf_acc = rf.predict(X_test)\n",
    "    p_xgb_acc = xgb.predict(X_test)\n",
    "\n",
    "    rf_ll = log_loss(y_test, p_rf)\n",
    "    xgb_ll = log_loss(y_test, p_xgb)\n",
    "    rf_acc = accuracy_score(y_test, p_rf_acc)\n",
    "    xgb_acc = accuracy_score(y_test, p_xgb_acc)\n",
    "    \n",
    "    rf_ll_performance.append(rf_ll)\n",
    "    rf_acc_performance.append(rf_acc)\n",
    "    xgb_ll_performance.append(xgb_ll)\n",
    "    xgb_acc_performance.append(xgb_acc)"
   ]
  },
  {
   "cell_type": "code",
   "execution_count": 117,
   "metadata": {},
   "outputs": [],
   "source": [
    "from IPython.display import display"
   ]
  },
  {
   "cell_type": "code",
   "execution_count": 120,
   "metadata": {},
   "outputs": [
    {
     "data": {
      "text/plain": [
       "[0.20375300910564062,\n",
       " 0.22029852207454778,\n",
       " 0.30473843595013117,\n",
       " 0.2513845462646569,\n",
       " 0.18471674226032508]"
      ]
     },
     "metadata": {},
     "output_type": "display_data"
    },
    {
     "data": {
      "text/plain": [
       "[0.26560529809445144,\n",
       " 0.16962465520948172,\n",
       " 0.3230702378228307,\n",
       " 0.19044157241781554,\n",
       " 0.08915616905627151]"
      ]
     },
     "metadata": {},
     "output_type": "display_data"
    },
    {
     "data": {
      "text/plain": [
       "[0.96, 0.96, 0.88, 0.9583333333333334, 1.0]"
      ]
     },
     "metadata": {},
     "output_type": "display_data"
    },
    {
     "data": {
      "text/plain": [
       "[0.84, 0.96, 0.84, 0.9166666666666666, 1.0]"
      ]
     },
     "metadata": {},
     "output_type": "display_data"
    }
   ],
   "source": [
    "display(rf_ll_performance)\n",
    "\n",
    "display(xgb_ll_performance)\n",
    "\n",
    "display(rf_acc_performance)\n",
    "\n",
    "display(xgb_acc_performance)"
   ]
  },
  {
   "cell_type": "markdown",
   "metadata": {},
   "source": [
    "Really good accuracy and model performance here...\n",
    "\n",
    "- Accuracy of 100% !!!"
   ]
  },
  {
   "cell_type": "code",
   "execution_count": 128,
   "metadata": {},
   "outputs": [],
   "source": [
    "rf_kfold_5_df = pd.DataFrame({'rf prediction_0': p_rf[:, 0], 'rf prediction_1': p_rf[:, 1],\n",
    "              'actual': y_test})\n",
    "xgb_kfold_5_df = pd.DataFrame({'xgb prediction_0': p_xgb[:, 0], 'xgb prediction_1': p_xgb[:, 1],\n",
    "              'actual': y_test})"
   ]
  },
  {
   "cell_type": "code",
   "execution_count": 129,
   "metadata": {},
   "outputs": [
    {
     "data": {
      "text/html": [
       "<div>\n",
       "<style scoped>\n",
       "    .dataframe tbody tr th:only-of-type {\n",
       "        vertical-align: middle;\n",
       "    }\n",
       "\n",
       "    .dataframe tbody tr th {\n",
       "        vertical-align: top;\n",
       "    }\n",
       "\n",
       "    .dataframe thead th {\n",
       "        text-align: right;\n",
       "    }\n",
       "</style>\n",
       "<table border=\"1\" class=\"dataframe\">\n",
       "  <thead>\n",
       "    <tr style=\"text-align: right;\">\n",
       "      <th></th>\n",
       "      <th>rf prediction_0</th>\n",
       "      <th>rf prediction_1</th>\n",
       "      <th>actual</th>\n",
       "    </tr>\n",
       "  </thead>\n",
       "  <tbody>\n",
       "    <tr>\n",
       "      <th>10</th>\n",
       "      <td>0.133</td>\n",
       "      <td>0.867</td>\n",
       "      <td>1</td>\n",
       "    </tr>\n",
       "    <tr>\n",
       "      <th>24</th>\n",
       "      <td>0.894</td>\n",
       "      <td>0.106</td>\n",
       "      <td>0</td>\n",
       "    </tr>\n",
       "    <tr>\n",
       "      <th>30</th>\n",
       "      <td>0.916</td>\n",
       "      <td>0.084</td>\n",
       "      <td>0</td>\n",
       "    </tr>\n",
       "    <tr>\n",
       "      <th>32</th>\n",
       "      <td>0.154</td>\n",
       "      <td>0.846</td>\n",
       "      <td>1</td>\n",
       "    </tr>\n",
       "    <tr>\n",
       "      <th>35</th>\n",
       "      <td>0.878</td>\n",
       "      <td>0.122</td>\n",
       "      <td>0</td>\n",
       "    </tr>\n",
       "  </tbody>\n",
       "</table>\n",
       "</div>"
      ],
      "text/plain": [
       "    rf prediction_0  rf prediction_1  actual\n",
       "10            0.133            0.867       1\n",
       "24            0.894            0.106       0\n",
       "30            0.916            0.084       0\n",
       "32            0.154            0.846       1\n",
       "35            0.878            0.122       0"
      ]
     },
     "execution_count": 129,
     "metadata": {},
     "output_type": "execute_result"
    }
   ],
   "source": [
    "rf_kfold_5_df.head()"
   ]
  },
  {
   "cell_type": "code",
   "execution_count": 130,
   "metadata": {},
   "outputs": [
    {
     "data": {
      "text/html": [
       "<div>\n",
       "<style scoped>\n",
       "    .dataframe tbody tr th:only-of-type {\n",
       "        vertical-align: middle;\n",
       "    }\n",
       "\n",
       "    .dataframe tbody tr th {\n",
       "        vertical-align: top;\n",
       "    }\n",
       "\n",
       "    .dataframe thead th {\n",
       "        text-align: right;\n",
       "    }\n",
       "</style>\n",
       "<table border=\"1\" class=\"dataframe\">\n",
       "  <thead>\n",
       "    <tr style=\"text-align: right;\">\n",
       "      <th></th>\n",
       "      <th>xgb prediction_0</th>\n",
       "      <th>xgb prediction_1</th>\n",
       "      <th>actual</th>\n",
       "    </tr>\n",
       "  </thead>\n",
       "  <tbody>\n",
       "    <tr>\n",
       "      <th>10</th>\n",
       "      <td>0.037930</td>\n",
       "      <td>0.962070</td>\n",
       "      <td>1</td>\n",
       "    </tr>\n",
       "    <tr>\n",
       "      <th>24</th>\n",
       "      <td>0.987535</td>\n",
       "      <td>0.012465</td>\n",
       "      <td>0</td>\n",
       "    </tr>\n",
       "    <tr>\n",
       "      <th>30</th>\n",
       "      <td>0.987362</td>\n",
       "      <td>0.012638</td>\n",
       "      <td>0</td>\n",
       "    </tr>\n",
       "    <tr>\n",
       "      <th>32</th>\n",
       "      <td>0.114972</td>\n",
       "      <td>0.885028</td>\n",
       "      <td>1</td>\n",
       "    </tr>\n",
       "    <tr>\n",
       "      <th>35</th>\n",
       "      <td>0.661000</td>\n",
       "      <td>0.339000</td>\n",
       "      <td>0</td>\n",
       "    </tr>\n",
       "  </tbody>\n",
       "</table>\n",
       "</div>"
      ],
      "text/plain": [
       "    xgb prediction_0  xgb prediction_1  actual\n",
       "10          0.037930          0.962070       1\n",
       "24          0.987535          0.012465       0\n",
       "30          0.987362          0.012638       0\n",
       "32          0.114972          0.885028       1\n",
       "35          0.661000          0.339000       0"
      ]
     },
     "execution_count": 130,
     "metadata": {},
     "output_type": "execute_result"
    }
   ],
   "source": [
    "xgb_kfold_5_df.head()"
   ]
  },
  {
   "cell_type": "code",
   "execution_count": 136,
   "metadata": {},
   "outputs": [
    {
     "data": {
      "text/plain": [
       "0.2329782511310603"
      ]
     },
     "execution_count": 136,
     "metadata": {},
     "output_type": "execute_result"
    }
   ],
   "source": [
    "np.mean(rf_ll_performance)"
   ]
  },
  {
   "cell_type": "markdown",
   "metadata": {},
   "source": [
    "### Next steps\n",
    "\n",
    "- tune model with kfolds\n",
    "- fit on all the \"training\" data\n",
    "- validate with the final \"validation\" set\n",
    "- write a note on the 114 features deemed important by each round of lasso\n",
    "- find \"feature importance\" of XGB, RF forest \n",
    "- permutation test with the 976 features"
   ]
  },
  {
   "cell_type": "code",
   "execution_count": null,
   "metadata": {},
   "outputs": [],
   "source": []
  }
 ],
 "metadata": {
  "kernelspec": {
   "display_name": "Python 3",
   "language": "python",
   "name": "python3"
  },
  "language_info": {
   "codemirror_mode": {
    "name": "ipython",
    "version": 3
   },
   "file_extension": ".py",
   "mimetype": "text/x-python",
   "name": "python",
   "nbconvert_exporter": "python",
   "pygments_lexer": "ipython3",
   "version": "3.7.1"
  }
 },
 "nbformat": 4,
 "nbformat_minor": 2
}
