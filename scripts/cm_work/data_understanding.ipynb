{
 "cells": [
  {
   "cell_type": "code",
   "execution_count": 1,
   "metadata": {},
   "outputs": [],
   "source": [
    "import pandas as pd\n",
    "import numpy as np\n",
    "from boruta import BorutaPy\n",
    "from IPython.display import display"
   ]
  },
  {
   "cell_type": "code",
   "execution_count": 4,
   "metadata": {},
   "outputs": [],
   "source": [
    "pd.set_option('display.max_columns', 100)"
   ]
  },
  {
   "cell_type": "markdown",
   "metadata": {},
   "source": [
    "### AML data"
   ]
  },
  {
   "cell_type": "code",
   "execution_count": null,
   "metadata": {},
   "outputs": [],
   "source": []
  },
  {
   "cell_type": "code",
   "execution_count": 2,
   "metadata": {},
   "outputs": [
    {
     "name": "stderr",
     "output_type": "stream",
     "text": [
      "/Users/david/anaconda3/lib/python3.6/site-packages/IPython/core/interactiveshell.py:2785: DtypeWarning: Columns (15,39) have mixed types. Specify dtype option on import or set low_memory=False.\n",
      "  interactivity=interactivity, compiler=compiler, result=result)\n"
     ]
    }
   ],
   "source": [
    "df = pd.read_csv('aml_df.csv')\n",
    "df.drop(columns=['Unnamed: 0'], inplace=True)"
   ]
  },
  {
   "cell_type": "code",
   "execution_count": 3,
   "metadata": {},
   "outputs": [
    {
     "data": {
      "text/html": [
       "<div>\n",
       "<style scoped>\n",
       "    .dataframe tbody tr th:only-of-type {\n",
       "        vertical-align: middle;\n",
       "    }\n",
       "\n",
       "    .dataframe tbody tr th {\n",
       "        vertical-align: top;\n",
       "    }\n",
       "\n",
       "    .dataframe thead th {\n",
       "        text-align: right;\n",
       "    }\n",
       "</style>\n",
       "<table border=\"1\" class=\"dataframe\">\n",
       "  <thead>\n",
       "    <tr style=\"text-align: right;\">\n",
       "      <th></th>\n",
       "      <th>TARGET USI</th>\n",
       "      <th>Diagnostic ID</th>\n",
       "      <th>Gender</th>\n",
       "      <th>Race</th>\n",
       "      <th>Ethnicity</th>\n",
       "      <th>Age at Diagnosis in Days</th>\n",
       "      <th>First Event</th>\n",
       "      <th>Event Free Survival Time in Days</th>\n",
       "      <th>Vital Status</th>\n",
       "      <th>Overall Survival Time in Days</th>\n",
       "      <th>...</th>\n",
       "      <th>ENSG00000281691.1</th>\n",
       "      <th>ENSG00000281706.1</th>\n",
       "      <th>ENSG00000281741.1</th>\n",
       "      <th>ENSG00000281789.1</th>\n",
       "      <th>ENSG00000281896.1</th>\n",
       "      <th>ENSG00000281912.1</th>\n",
       "      <th>__no_feature</th>\n",
       "      <th>__ambiguous</th>\n",
       "      <th>__alignment_not_unique</th>\n",
       "      <th>Low Risk</th>\n",
       "    </tr>\n",
       "  </thead>\n",
       "  <tbody>\n",
       "    <tr>\n",
       "      <th>0</th>\n",
       "      <td>TARGET-20-PADZCG</td>\n",
       "      <td>09A</td>\n",
       "      <td>Female</td>\n",
       "      <td>Unknown</td>\n",
       "      <td>Not Hispanic or Latino</td>\n",
       "      <td>5325</td>\n",
       "      <td>Relapse</td>\n",
       "      <td>314</td>\n",
       "      <td>Dead</td>\n",
       "      <td>536</td>\n",
       "      <td>...</td>\n",
       "      <td>-0.330849</td>\n",
       "      <td>-1.843229</td>\n",
       "      <td>-0.801464</td>\n",
       "      <td>-0.364707</td>\n",
       "      <td>2.164604</td>\n",
       "      <td>-0.152689</td>\n",
       "      <td>17.12435</td>\n",
       "      <td>14.60608</td>\n",
       "      <td>17.85268</td>\n",
       "      <td>0</td>\n",
       "    </tr>\n",
       "    <tr>\n",
       "      <th>1</th>\n",
       "      <td>TARGET-20-PAEAKL</td>\n",
       "      <td>09A</td>\n",
       "      <td>Female</td>\n",
       "      <td>Black or African American</td>\n",
       "      <td>Not Hispanic or Latino</td>\n",
       "      <td>5218</td>\n",
       "      <td>Relapse</td>\n",
       "      <td>134</td>\n",
       "      <td>Dead</td>\n",
       "      <td>163</td>\n",
       "      <td>...</td>\n",
       "      <td>-2.177556</td>\n",
       "      <td>-0.717812</td>\n",
       "      <td>-0.888170</td>\n",
       "      <td>1.754821</td>\n",
       "      <td>0.456577</td>\n",
       "      <td>0.965496</td>\n",
       "      <td>16.79422</td>\n",
       "      <td>15.36352</td>\n",
       "      <td>19.67021</td>\n",
       "      <td>0</td>\n",
       "    </tr>\n",
       "    <tr>\n",
       "      <th>2</th>\n",
       "      <td>TARGET-20-PAEERJ</td>\n",
       "      <td>09A</td>\n",
       "      <td>Female</td>\n",
       "      <td>White</td>\n",
       "      <td>Not Hispanic or Latino</td>\n",
       "      <td>5082</td>\n",
       "      <td>Relapse</td>\n",
       "      <td>259</td>\n",
       "      <td>Dead</td>\n",
       "      <td>373</td>\n",
       "      <td>...</td>\n",
       "      <td>0.768241</td>\n",
       "      <td>-0.600677</td>\n",
       "      <td>-1.563662</td>\n",
       "      <td>-0.506252</td>\n",
       "      <td>2.328197</td>\n",
       "      <td>-2.909309</td>\n",
       "      <td>16.91605</td>\n",
       "      <td>14.56523</td>\n",
       "      <td>17.57099</td>\n",
       "      <td>0</td>\n",
       "    </tr>\n",
       "    <tr>\n",
       "      <th>3</th>\n",
       "      <td>TARGET-20-PAEFGR</td>\n",
       "      <td>09A</td>\n",
       "      <td>Female</td>\n",
       "      <td>White</td>\n",
       "      <td>Not Hispanic or Latino</td>\n",
       "      <td>549</td>\n",
       "      <td>Relapse</td>\n",
       "      <td>497</td>\n",
       "      <td>Alive</td>\n",
       "      <td>4022</td>\n",
       "      <td>...</td>\n",
       "      <td>1.647430</td>\n",
       "      <td>-3.847206</td>\n",
       "      <td>1.085338</td>\n",
       "      <td>-2.167177</td>\n",
       "      <td>3.119785</td>\n",
       "      <td>-1.816488</td>\n",
       "      <td>17.66439</td>\n",
       "      <td>14.83790</td>\n",
       "      <td>18.38274</td>\n",
       "      <td>1</td>\n",
       "    </tr>\n",
       "    <tr>\n",
       "      <th>4</th>\n",
       "      <td>TARGET-20-PAEFGT</td>\n",
       "      <td>03A</td>\n",
       "      <td>Female</td>\n",
       "      <td>White</td>\n",
       "      <td>Not Hispanic or Latino</td>\n",
       "      <td>5452</td>\n",
       "      <td>Relapse</td>\n",
       "      <td>213</td>\n",
       "      <td>Dead</td>\n",
       "      <td>315</td>\n",
       "      <td>...</td>\n",
       "      <td>0.646308</td>\n",
       "      <td>-0.395081</td>\n",
       "      <td>-1.284291</td>\n",
       "      <td>-0.907716</td>\n",
       "      <td>2.450552</td>\n",
       "      <td>-1.553860</td>\n",
       "      <td>17.27285</td>\n",
       "      <td>14.92322</td>\n",
       "      <td>18.33485</td>\n",
       "      <td>0</td>\n",
       "    </tr>\n",
       "  </tbody>\n",
       "</table>\n",
       "<p>5 rows × 21492 columns</p>\n",
       "</div>"
      ],
      "text/plain": [
       "         TARGET USI Diagnostic ID  Gender                       Race  \\\n",
       "0  TARGET-20-PADZCG           09A  Female                    Unknown   \n",
       "1  TARGET-20-PAEAKL           09A  Female  Black or African American   \n",
       "2  TARGET-20-PAEERJ           09A  Female                      White   \n",
       "3  TARGET-20-PAEFGR           09A  Female                      White   \n",
       "4  TARGET-20-PAEFGT           03A  Female                      White   \n",
       "\n",
       "                Ethnicity  Age at Diagnosis in Days First Event  \\\n",
       "0  Not Hispanic or Latino                      5325     Relapse   \n",
       "1  Not Hispanic or Latino                      5218     Relapse   \n",
       "2  Not Hispanic or Latino                      5082     Relapse   \n",
       "3  Not Hispanic or Latino                       549     Relapse   \n",
       "4  Not Hispanic or Latino                      5452     Relapse   \n",
       "\n",
       "   Event Free Survival Time in Days Vital Status  \\\n",
       "0                               314         Dead   \n",
       "1                               134         Dead   \n",
       "2                               259         Dead   \n",
       "3                               497        Alive   \n",
       "4                               213         Dead   \n",
       "\n",
       "   Overall Survival Time in Days   ...     ENSG00000281691.1  \\\n",
       "0                            536   ...             -0.330849   \n",
       "1                            163   ...             -2.177556   \n",
       "2                            373   ...              0.768241   \n",
       "3                           4022   ...              1.647430   \n",
       "4                            315   ...              0.646308   \n",
       "\n",
       "   ENSG00000281706.1 ENSG00000281741.1  ENSG00000281789.1 ENSG00000281896.1  \\\n",
       "0          -1.843229         -0.801464          -0.364707          2.164604   \n",
       "1          -0.717812         -0.888170           1.754821          0.456577   \n",
       "2          -0.600677         -1.563662          -0.506252          2.328197   \n",
       "3          -3.847206          1.085338          -2.167177          3.119785   \n",
       "4          -0.395081         -1.284291          -0.907716          2.450552   \n",
       "\n",
       "   ENSG00000281912.1 __no_feature __ambiguous __alignment_not_unique Low Risk  \n",
       "0          -0.152689     17.12435    14.60608               17.85268        0  \n",
       "1           0.965496     16.79422    15.36352               19.67021        0  \n",
       "2          -2.909309     16.91605    14.56523               17.57099        0  \n",
       "3          -1.816488     17.66439    14.83790               18.38274        1  \n",
       "4          -1.553860     17.27285    14.92322               18.33485        0  \n",
       "\n",
       "[5 rows x 21492 columns]"
      ]
     },
     "execution_count": 3,
     "metadata": {},
     "output_type": "execute_result"
    }
   ],
   "source": [
    "df.head()"
   ]
  },
  {
   "cell_type": "markdown",
   "metadata": {},
   "source": [
    "### DEG Data"
   ]
  },
  {
   "cell_type": "code",
   "execution_count": 5,
   "metadata": {},
   "outputs": [],
   "source": [
    "DEG = pd.read_csv('deginfo_cml-targetamlrg.csv')"
   ]
  },
  {
   "cell_type": "code",
   "execution_count": 6,
   "metadata": {},
   "outputs": [
    {
     "data": {
      "text/html": [
       "<div>\n",
       "<style scoped>\n",
       "    .dataframe tbody tr th:only-of-type {\n",
       "        vertical-align: middle;\n",
       "    }\n",
       "\n",
       "    .dataframe tbody tr th {\n",
       "        vertical-align: top;\n",
       "    }\n",
       "\n",
       "    .dataframe thead th {\n",
       "        text-align: right;\n",
       "    }\n",
       "</style>\n",
       "<table border=\"1\" class=\"dataframe\">\n",
       "  <thead>\n",
       "    <tr style=\"text-align: right;\">\n",
       "      <th></th>\n",
       "      <th>Unnamed: 0</th>\n",
       "      <th>hgnc_id</th>\n",
       "      <th>hgnc_symbol</th>\n",
       "      <th>ensembl_gene_id</th>\n",
       "      <th>logFC</th>\n",
       "      <th>AveExpr</th>\n",
       "      <th>t</th>\n",
       "      <th>p.unadj</th>\n",
       "      <th>p.adj.bh</th>\n",
       "      <th>b</th>\n",
       "    </tr>\n",
       "  </thead>\n",
       "  <tbody>\n",
       "    <tr>\n",
       "      <th>0</th>\n",
       "      <td>ENSG00000129194.6</td>\n",
       "      <td>HGNC:11196</td>\n",
       "      <td>SOX15</td>\n",
       "      <td>ENSG00000129194</td>\n",
       "      <td>-2.389651</td>\n",
       "      <td>0.843840</td>\n",
       "      <td>-9.414718</td>\n",
       "      <td>2.719869e-15</td>\n",
       "      <td>4.744811e-11</td>\n",
       "      <td>24.350044</td>\n",
       "    </tr>\n",
       "    <tr>\n",
       "      <th>1</th>\n",
       "      <td>ENSG00000172236.15</td>\n",
       "      <td>HGNC:12019</td>\n",
       "      <td>TPSAB1</td>\n",
       "      <td>ENSG00000172236</td>\n",
       "      <td>-5.539698</td>\n",
       "      <td>3.649760</td>\n",
       "      <td>-9.263250</td>\n",
       "      <td>5.751633e-15</td>\n",
       "      <td>5.016861e-11</td>\n",
       "      <td>23.632143</td>\n",
       "    </tr>\n",
       "    <tr>\n",
       "      <th>2</th>\n",
       "      <td>ENSG00000196557.9</td>\n",
       "      <td>HGNC:1395</td>\n",
       "      <td>CACNA1H</td>\n",
       "      <td>ENSG00000196557</td>\n",
       "      <td>-4.169654</td>\n",
       "      <td>-1.405854</td>\n",
       "      <td>-9.002888</td>\n",
       "      <td>2.081576e-14</td>\n",
       "      <td>1.146424e-10</td>\n",
       "      <td>22.069479</td>\n",
       "    </tr>\n",
       "    <tr>\n",
       "      <th>3</th>\n",
       "      <td>ENSG00000163106.9</td>\n",
       "      <td>HGNC:17890</td>\n",
       "      <td>HPGDS</td>\n",
       "      <td>ENSG00000163106</td>\n",
       "      <td>-4.400151</td>\n",
       "      <td>0.806601</td>\n",
       "      <td>-8.919743</td>\n",
       "      <td>3.137562e-14</td>\n",
       "      <td>1.146424e-10</td>\n",
       "      <td>21.965357</td>\n",
       "    </tr>\n",
       "    <tr>\n",
       "      <th>4</th>\n",
       "      <td>ENSG00000134569.8</td>\n",
       "      <td>HGNC:6696</td>\n",
       "      <td>LRP4</td>\n",
       "      <td>ENSG00000134569</td>\n",
       "      <td>-3.483009</td>\n",
       "      <td>-1.075865</td>\n",
       "      <td>-8.910384</td>\n",
       "      <td>3.285823e-14</td>\n",
       "      <td>1.146424e-10</td>\n",
       "      <td>21.729648</td>\n",
       "    </tr>\n",
       "  </tbody>\n",
       "</table>\n",
       "</div>"
      ],
      "text/plain": [
       "           Unnamed: 0     hgnc_id hgnc_symbol  ensembl_gene_id     logFC  \\\n",
       "0   ENSG00000129194.6  HGNC:11196       SOX15  ENSG00000129194 -2.389651   \n",
       "1  ENSG00000172236.15  HGNC:12019      TPSAB1  ENSG00000172236 -5.539698   \n",
       "2   ENSG00000196557.9   HGNC:1395     CACNA1H  ENSG00000196557 -4.169654   \n",
       "3   ENSG00000163106.9  HGNC:17890       HPGDS  ENSG00000163106 -4.400151   \n",
       "4   ENSG00000134569.8   HGNC:6696        LRP4  ENSG00000134569 -3.483009   \n",
       "\n",
       "    AveExpr         t       p.unadj      p.adj.bh          b  \n",
       "0  0.843840 -9.414718  2.719869e-15  4.744811e-11  24.350044  \n",
       "1  3.649760 -9.263250  5.751633e-15  5.016861e-11  23.632143  \n",
       "2 -1.405854 -9.002888  2.081576e-14  1.146424e-10  22.069479  \n",
       "3  0.806601 -8.919743  3.137562e-14  1.146424e-10  21.965357  \n",
       "4 -1.075865 -8.910384  3.285823e-14  1.146424e-10  21.729648  "
      ]
     },
     "execution_count": 6,
     "metadata": {},
     "output_type": "execute_result"
    }
   ],
   "source": [
    "DEG.head()"
   ]
  },
  {
   "cell_type": "code",
   "execution_count": 8,
   "metadata": {},
   "outputs": [],
   "source": [
    "deg_columns = [x for x in DEG['Unnamed: 0']]"
   ]
  },
  {
   "cell_type": "code",
   "execution_count": 10,
   "metadata": {},
   "outputs": [
    {
     "data": {
      "text/plain": [
       "1984"
      ]
     },
     "execution_count": 10,
     "metadata": {},
     "output_type": "execute_result"
    }
   ],
   "source": [
    "len(deg_columns)"
   ]
  },
  {
   "cell_type": "code",
   "execution_count": 15,
   "metadata": {},
   "outputs": [],
   "source": [
    "not_in = []\n",
    "for gene in deg_columns:\n",
    "    if gene not in list(df.columns):\n",
    "        not_in.append(gene)"
   ]
  },
  {
   "cell_type": "code",
   "execution_count": 16,
   "metadata": {},
   "outputs": [
    {
     "data": {
      "text/plain": [
       "87"
      ]
     },
     "execution_count": 16,
     "metadata": {},
     "output_type": "execute_result"
    }
   ],
   "source": [
    "len(not_in)"
   ]
  },
  {
   "cell_type": "code",
   "execution_count": null,
   "metadata": {},
   "outputs": [],
   "source": []
  }
 ],
 "metadata": {
  "kernelspec": {
   "display_name": "Python 3",
   "language": "python",
   "name": "python3"
  },
  "language_info": {
   "codemirror_mode": {
    "name": "ipython",
    "version": 3
   },
   "file_extension": ".py",
   "mimetype": "text/x-python",
   "name": "python",
   "nbconvert_exporter": "python",
   "pygments_lexer": "ipython3",
   "version": "3.6.8"
  }
 },
 "nbformat": 4,
 "nbformat_minor": 2
}
