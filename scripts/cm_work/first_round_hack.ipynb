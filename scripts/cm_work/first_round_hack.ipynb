{
 "cells": [
  {
   "cell_type": "code",
   "execution_count": 1,
   "metadata": {},
   "outputs": [],
   "source": [
    "import pandas as pd\n",
    "import numpy as np\n",
    "from data_prep import create_x_y_data"
   ]
  },
  {
   "cell_type": "code",
   "execution_count": 2,
   "metadata": {},
   "outputs": [],
   "source": [
    "X_train, y_train, X_test, y_test, X, y = create_x_y_data()"
   ]
  },
  {
   "cell_type": "code",
   "execution_count": 20,
   "metadata": {},
   "outputs": [],
   "source": [
    "columns = X_train.columns"
   ]
  },
  {
   "cell_type": "markdown",
   "metadata": {},
   "source": [
    "### Lasso"
   ]
  },
  {
   "cell_type": "code",
   "execution_count": 92,
   "metadata": {},
   "outputs": [
    {
     "data": {
      "text/plain": [
       "0.169102361565386"
      ]
     },
     "execution_count": 92,
     "metadata": {},
     "output_type": "execute_result"
    }
   ],
   "source": [
    "from sklearn.linear_model import LogisticRegression\n",
    "from sklearn.metrics import log_loss\n",
    "\n",
    "log_model = LogisticRegression(penalty='l1', solver='saga', max_iter=10000)\n",
    "log_model.fit(X_train, y_train)\n",
    "y_pred = log_model.predict_proba(X_test)\n",
    "log_model_ll = log_loss(y_test, y_pred)\n",
    "log_model_ll"
   ]
  },
  {
   "cell_type": "code",
   "execution_count": 93,
   "metadata": {},
   "outputs": [],
   "source": [
    "neg_corr = np.argsort(log_model.coef_)[0][:10]\n",
    "poss_corr = np.argsort(log_model.coef_)[0][::-1][:10]"
   ]
  },
  {
   "cell_type": "code",
   "execution_count": 103,
   "metadata": {},
   "outputs": [
    {
     "data": {
      "text/plain": [
       "{'ENSG00000005513.9',\n",
       " 'ENSG00000078399.14',\n",
       " 'ENSG00000079102.15',\n",
       " 'ENSG00000101333.15',\n",
       " 'ENSG00000120833.12',\n",
       " 'ENSG00000156535.12',\n",
       " 'ENSG00000164100.8',\n",
       " 'ENSG00000164659.13',\n",
       " 'ENSG00000165092.11',\n",
       " 'ENSG00000167767.12',\n",
       " 'ENSG00000171509.14',\n",
       " 'ENSG00000188626.6',\n",
       " 'ENSG00000232629.7',\n",
       " 'ENSG00000248334.5',\n",
       " 'ENSG00000254535.3',\n",
       " 'ENSG00000259207.6',\n",
       " 'ENSG00000260182.1',\n",
       " 'ENSG00000267453.5',\n",
       " 'ENSG00000271952.1',\n",
       " 'ENSG00000279717.1'}"
      ]
     },
     "execution_count": 103,
     "metadata": {},
     "output_type": "execute_result"
    }
   ],
   "source": [
    "top_20_lasso = set.union(set(columns[neg_corr]), set(columns[poss_corr]))\n",
    "top_20_lasso"
   ]
  },
  {
   "cell_type": "code",
   "execution_count": 34,
   "metadata": {},
   "outputs": [],
   "source": [
    "lasso_negative_features = dict(zip(columns[neg_corr], log_model.coef_[0][neg_corr]))\n",
    "\n",
    "lasso_positive_features = dict(zip(columns[poss_corr], log_model.coef_[0][poss_corr]))"
   ]
  },
  {
   "cell_type": "code",
   "execution_count": 45,
   "metadata": {},
   "outputs": [
    {
     "data": {
      "text/html": [
       "<div>\n",
       "<style scoped>\n",
       "    .dataframe tbody tr th:only-of-type {\n",
       "        vertical-align: middle;\n",
       "    }\n",
       "\n",
       "    .dataframe tbody tr th {\n",
       "        vertical-align: top;\n",
       "    }\n",
       "\n",
       "    .dataframe thead th {\n",
       "        text-align: right;\n",
       "    }\n",
       "</style>\n",
       "<table border=\"1\" class=\"dataframe\">\n",
       "  <thead>\n",
       "    <tr style=\"text-align: right;\">\n",
       "      <th></th>\n",
       "      <th>Genes</th>\n",
       "      <th>Weights</th>\n",
       "    </tr>\n",
       "  </thead>\n",
       "  <tbody>\n",
       "    <tr>\n",
       "      <th>0</th>\n",
       "      <td>ENSG00000271952.1</td>\n",
       "      <td>-0.207542</td>\n",
       "    </tr>\n",
       "    <tr>\n",
       "      <th>1</th>\n",
       "      <td>ENSG00000164659.13</td>\n",
       "      <td>-0.176930</td>\n",
       "    </tr>\n",
       "    <tr>\n",
       "      <th>2</th>\n",
       "      <td>ENSG00000078399.14</td>\n",
       "      <td>-0.163137</td>\n",
       "    </tr>\n",
       "    <tr>\n",
       "      <th>3</th>\n",
       "      <td>ENSG00000156535.12</td>\n",
       "      <td>-0.151611</td>\n",
       "    </tr>\n",
       "    <tr>\n",
       "      <th>4</th>\n",
       "      <td>ENSG00000188626.6</td>\n",
       "      <td>-0.123141</td>\n",
       "    </tr>\n",
       "  </tbody>\n",
       "</table>\n",
       "</div>"
      ],
      "text/plain": [
       "                Genes   Weights\n",
       "0   ENSG00000271952.1 -0.207542\n",
       "1  ENSG00000164659.13 -0.176930\n",
       "2  ENSG00000078399.14 -0.163137\n",
       "3  ENSG00000156535.12 -0.151611\n",
       "4   ENSG00000188626.6 -0.123141"
      ]
     },
     "metadata": {},
     "output_type": "display_data"
    },
    {
     "data": {
      "text/html": [
       "<div>\n",
       "<style scoped>\n",
       "    .dataframe tbody tr th:only-of-type {\n",
       "        vertical-align: middle;\n",
       "    }\n",
       "\n",
       "    .dataframe tbody tr th {\n",
       "        vertical-align: top;\n",
       "    }\n",
       "\n",
       "    .dataframe thead th {\n",
       "        text-align: right;\n",
       "    }\n",
       "</style>\n",
       "<table border=\"1\" class=\"dataframe\">\n",
       "  <thead>\n",
       "    <tr style=\"text-align: right;\">\n",
       "      <th></th>\n",
       "      <th>Genes</th>\n",
       "      <th>Weights</th>\n",
       "    </tr>\n",
       "  </thead>\n",
       "  <tbody>\n",
       "    <tr>\n",
       "      <th>0</th>\n",
       "      <td>ENSG00000260182.1</td>\n",
       "      <td>0.197338</td>\n",
       "    </tr>\n",
       "    <tr>\n",
       "      <th>1</th>\n",
       "      <td>ENSG00000167767.12</td>\n",
       "      <td>0.117894</td>\n",
       "    </tr>\n",
       "    <tr>\n",
       "      <th>2</th>\n",
       "      <td>ENSG00000164100.8</td>\n",
       "      <td>0.095247</td>\n",
       "    </tr>\n",
       "    <tr>\n",
       "      <th>3</th>\n",
       "      <td>ENSG00000171509.14</td>\n",
       "      <td>0.091827</td>\n",
       "    </tr>\n",
       "    <tr>\n",
       "      <th>4</th>\n",
       "      <td>ENSG00000267453.5</td>\n",
       "      <td>0.076074</td>\n",
       "    </tr>\n",
       "  </tbody>\n",
       "</table>\n",
       "</div>"
      ],
      "text/plain": [
       "                Genes   Weights\n",
       "0   ENSG00000260182.1  0.197338\n",
       "1  ENSG00000167767.12  0.117894\n",
       "2   ENSG00000164100.8  0.095247\n",
       "3  ENSG00000171509.14  0.091827\n",
       "4   ENSG00000267453.5  0.076074"
      ]
     },
     "metadata": {},
     "output_type": "display_data"
    }
   ],
   "source": [
    "neg_corr_df = pd.DataFrame({'Genes': columns[neg_corr], 'Weights': log_model.coef_[0][neg_corr] })\n",
    "\n",
    "pos_corr_df = pd.DataFrame({'Genes': columns[poss_corr], 'Weights': log_model.coef_[0][poss_corr] })\n",
    "\n",
    "display(neg_corr_df.head())\n",
    "\n",
    "display(pos_corr_df.head())"
   ]
  },
  {
   "cell_type": "code",
   "execution_count": 26,
   "metadata": {},
   "outputs": [],
   "source": [
    "from model_blender import important_gene_mask"
   ]
  },
  {
   "cell_type": "code",
   "execution_count": 33,
   "metadata": {},
   "outputs": [
    {
     "name": "stdout",
     "output_type": "stream",
     "text": [
      "88\n"
     ]
    }
   ],
   "source": [
    "print(len(important_gene_mask(columns, log_model.coef_[0])))\n",
    "\n",
    "lasso_important = important_gene_mask(columns, log_model.coef_[0])"
   ]
  },
  {
   "cell_type": "markdown",
   "metadata": {},
   "source": [
    "lasso found 88 genes important\n",
    "\n",
    "two most important ones: ENSG00000271952.1 (negative), ENSG00000260182.1 (positive)"
   ]
  },
  {
   "cell_type": "markdown",
   "metadata": {},
   "source": [
    "### Random Forest"
   ]
  },
  {
   "cell_type": "code",
   "execution_count": 79,
   "metadata": {},
   "outputs": [],
   "source": [
    "from sklearn.ensemble import  RandomForestClassifier\n",
    "from model_feature_importance import gene_weight_finder"
   ]
  },
  {
   "cell_type": "code",
   "execution_count": 84,
   "metadata": {},
   "outputs": [
    {
     "data": {
      "text/html": [
       "<div>\n",
       "<style scoped>\n",
       "    .dataframe tbody tr th:only-of-type {\n",
       "        vertical-align: middle;\n",
       "    }\n",
       "\n",
       "    .dataframe tbody tr th {\n",
       "        vertical-align: top;\n",
       "    }\n",
       "\n",
       "    .dataframe thead th {\n",
       "        text-align: right;\n",
       "    }\n",
       "</style>\n",
       "<table border=\"1\" class=\"dataframe\">\n",
       "  <thead>\n",
       "    <tr style=\"text-align: right;\">\n",
       "      <th></th>\n",
       "      <th>Genes</th>\n",
       "      <th>Weights</th>\n",
       "    </tr>\n",
       "  </thead>\n",
       "  <tbody>\n",
       "    <tr>\n",
       "      <th>0</th>\n",
       "      <td>ENSG00000254369.5</td>\n",
       "      <td>0.021270</td>\n",
       "    </tr>\n",
       "    <tr>\n",
       "      <th>1</th>\n",
       "      <td>ENSG00000230453.8</td>\n",
       "      <td>0.017299</td>\n",
       "    </tr>\n",
       "    <tr>\n",
       "      <th>2</th>\n",
       "      <td>ENSG00000129194.6</td>\n",
       "      <td>0.016711</td>\n",
       "    </tr>\n",
       "    <tr>\n",
       "      <th>3</th>\n",
       "      <td>ENSG00000106006.6</td>\n",
       "      <td>0.013307</td>\n",
       "    </tr>\n",
       "    <tr>\n",
       "      <th>4</th>\n",
       "      <td>ENSG00000137449.14</td>\n",
       "      <td>0.013274</td>\n",
       "    </tr>\n",
       "  </tbody>\n",
       "</table>\n",
       "</div>"
      ],
      "text/plain": [
       "                Genes   Weights\n",
       "0   ENSG00000254369.5  0.021270\n",
       "1   ENSG00000230453.8  0.017299\n",
       "2   ENSG00000129194.6  0.016711\n",
       "3   ENSG00000106006.6  0.013307\n",
       "4  ENSG00000137449.14  0.013274"
      ]
     },
     "metadata": {},
     "output_type": "display_data"
    },
    {
     "name": "stdout",
     "output_type": "stream",
     "text": [
      "log loss 0.2970060960391264\n",
      "number feats: 1649\n"
     ]
    }
   ],
   "source": [
    "rf_important, rf_top_20_names, rf_top_20_weights, rf_number_important, rf_ll = gene_weight_finder(rf, \n",
    "                                                                                X_train, X_test,\n",
    "                                                                               y_train, y_test)\n",
    "rf_feat_import_df = pd.DataFrame({'Genes': rf_top_20_names, 'Weights': rf_top_20_weights})\n",
    "\n",
    "display(rf_feat_import_df.head())\n",
    "\n",
    "print(f'log loss {rf_ll}')\n",
    "\n",
    "print(f'number feats: {rf_number_important}')"
   ]
  },
  {
   "cell_type": "markdown",
   "metadata": {},
   "source": [
    "### XGB"
   ]
  },
  {
   "cell_type": "code",
   "execution_count": 85,
   "metadata": {},
   "outputs": [
    {
     "data": {
      "text/html": [
       "<div>\n",
       "<style scoped>\n",
       "    .dataframe tbody tr th:only-of-type {\n",
       "        vertical-align: middle;\n",
       "    }\n",
       "\n",
       "    .dataframe tbody tr th {\n",
       "        vertical-align: top;\n",
       "    }\n",
       "\n",
       "    .dataframe thead th {\n",
       "        text-align: right;\n",
       "    }\n",
       "</style>\n",
       "<table border=\"1\" class=\"dataframe\">\n",
       "  <thead>\n",
       "    <tr style=\"text-align: right;\">\n",
       "      <th></th>\n",
       "      <th>Genes</th>\n",
       "      <th>Weights</th>\n",
       "    </tr>\n",
       "  </thead>\n",
       "  <tbody>\n",
       "    <tr>\n",
       "      <th>0</th>\n",
       "      <td>ENSG00000254369.5</td>\n",
       "      <td>0.074813</td>\n",
       "    </tr>\n",
       "    <tr>\n",
       "      <th>1</th>\n",
       "      <td>ENSG00000230453.8</td>\n",
       "      <td>0.051746</td>\n",
       "    </tr>\n",
       "    <tr>\n",
       "      <th>2</th>\n",
       "      <td>ENSG00000172236.15</td>\n",
       "      <td>0.046758</td>\n",
       "    </tr>\n",
       "    <tr>\n",
       "      <th>3</th>\n",
       "      <td>ENSG00000206120.10</td>\n",
       "      <td>0.045511</td>\n",
       "    </tr>\n",
       "    <tr>\n",
       "      <th>4</th>\n",
       "      <td>ENSG00000092853.12</td>\n",
       "      <td>0.040524</td>\n",
       "    </tr>\n",
       "  </tbody>\n",
       "</table>\n",
       "</div>"
      ],
      "text/plain": [
       "                Genes   Weights\n",
       "0   ENSG00000254369.5  0.074813\n",
       "1   ENSG00000230453.8  0.051746\n",
       "2  ENSG00000172236.15  0.046758\n",
       "3  ENSG00000206120.10  0.045511\n",
       "4  ENSG00000092853.12  0.040524"
      ]
     },
     "metadata": {},
     "output_type": "display_data"
    },
    {
     "name": "stdout",
     "output_type": "stream",
     "text": [
      "log loss 0.18784231207841498\n",
      "number feats: 241\n"
     ]
    }
   ],
   "source": [
    "from xgboost import XGBClassifier\n",
    "xgb = XGBClassifier(learning_rate = 0.01, max_depth = 3, n_estimators = 700, random_state=8, n_jobs=-1)\n",
    "\n",
    "xgb_important, xgb_top_20_names, xgb_top_20_weights, xgb_number_important, xgb_ll = gene_weight_finder(xgb, \n",
    "                                                                                X_train, X_test,\n",
    "                                                                               y_train, y_test)\n",
    "xgb_feat_import_df = pd.DataFrame({'Genes': xgb_top_20_names, 'Weights': xgb_top_20_weights})\n",
    "\n",
    "display(xgb_feat_import_df.head())\n",
    "\n",
    "print(f'log loss {xgb_ll}')\n",
    "\n",
    "print(f'number feats: {xgb_number_important}')"
   ]
  },
  {
   "cell_type": "markdown",
   "metadata": {},
   "source": [
    "### Intersection"
   ]
  },
  {
   "cell_type": "code",
   "execution_count": 87,
   "metadata": {},
   "outputs": [
    {
     "data": {
      "text/plain": [
       "34"
      ]
     },
     "execution_count": 87,
     "metadata": {},
     "output_type": "execute_result"
    }
   ],
   "source": [
    "len(set.intersection(set(xgb_important), set(rf_important), set(lasso_important)))"
   ]
  },
  {
   "cell_type": "markdown",
   "metadata": {},
   "source": [
    "number of features that were given some weight in any of the three models"
   ]
  },
  {
   "cell_type": "code",
   "execution_count": 105,
   "metadata": {},
   "outputs": [
    {
     "data": {
      "text/plain": [
       "{'ENSG00000248334.5'}"
      ]
     },
     "execution_count": 105,
     "metadata": {},
     "output_type": "execute_result"
    }
   ],
   "source": [
    "set.intersection(set(xgb_top_20_names), set(top_20_lasso) )"
   ]
  },
  {
   "cell_type": "code",
   "execution_count": null,
   "metadata": {},
   "outputs": [],
   "source": []
  }
 ],
 "metadata": {
  "kernelspec": {
   "display_name": "Python 3",
   "language": "python",
   "name": "python3"
  },
  "language_info": {
   "codemirror_mode": {
    "name": "ipython",
    "version": 3
   },
   "file_extension": ".py",
   "mimetype": "text/x-python",
   "name": "python",
   "nbconvert_exporter": "python",
   "pygments_lexer": "ipython3",
   "version": "3.6.8"
  }
 },
 "nbformat": 4,
 "nbformat_minor": 2
}
